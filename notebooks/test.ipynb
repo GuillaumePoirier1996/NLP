{
 "cells": [
  {
   "cell_type": "code",
   "execution_count": 1,
   "metadata": {},
   "outputs": [
    {
     "data": {
      "text/html": [
       "<div>\n",
       "<style scoped>\n",
       "    .dataframe tbody tr th:only-of-type {\n",
       "        vertical-align: middle;\n",
       "    }\n",
       "\n",
       "    .dataframe tbody tr th {\n",
       "        vertical-align: top;\n",
       "    }\n",
       "\n",
       "    .dataframe thead th {\n",
       "        text-align: right;\n",
       "    }\n",
       "</style>\n",
       "<table border=\"1\" class=\"dataframe\">\n",
       "  <thead>\n",
       "    <tr style=\"text-align: right;\">\n",
       "      <th></th>\n",
       "      <th>lien</th>\n",
       "      <th>title</th>\n",
       "      <th>date</th>\n",
       "      <th>category</th>\n",
       "      <th>content</th>\n",
       "      <th>image_link</th>\n",
       "    </tr>\n",
       "  </thead>\n",
       "  <tbody>\n",
       "    <tr>\n",
       "      <th>0</th>\n",
       "      <td>https://www.francetvinfo.fr/sante/prevention/e...</td>\n",
       "      <td>Violences contre les maires : dans l'Eure, des...</td>\n",
       "      <td>1970-01-01 01:00:00+01:00</td>\n",
       "      <td>france</td>\n",
       "      <td>Beaucoup de maires et de secrétaires de mairie...</td>\n",
       "      <td>https://www.francetvinfo.fr/image/75rt1bxrp-70...</td>\n",
       "    </tr>\n",
       "    <tr>\n",
       "      <th>1</th>\n",
       "      <td>https://www.francetvinfo.fr/france/video-sur-l...</td>\n",
       "      <td>VIDEO. Sur le dos d'un aigle pêcheur au-dessus...</td>\n",
       "      <td>1970-01-01 01:00:00+01:00</td>\n",
       "      <td>france</td>\n",
       "      <td>#AlertePollution Rivières ou sols contaminés, ...</td>\n",
       "      <td>https://www.francetvinfo.fr/image/75rt1br51-6d...</td>\n",
       "    </tr>\n",
       "    <tr>\n",
       "      <th>2</th>\n",
       "      <td>https://www.francetvinfo.fr/societe/video-mass...</td>\n",
       "      <td>VIDEO. Dans le massif du Mont-Blanc, la hausse...</td>\n",
       "      <td>1970-01-01 01:00:00+01:00</td>\n",
       "      <td>france</td>\n",
       "      <td>#AlertePollution Rivières ou sols contaminés, ...</td>\n",
       "      <td>https://www.francetvinfo.fr/image/75rt1bbzf-01...</td>\n",
       "    </tr>\n",
       "    <tr>\n",
       "      <th>3</th>\n",
       "      <td>https://www.francetvinfo.fr/replay-magazine/fr...</td>\n",
       "      <td>\"13h15 le dimanche\". Le Mont-Blanc, un mythe é...</td>\n",
       "      <td>1970-01-01 01:00:00+01:00</td>\n",
       "      <td>france</td>\n",
       "      <td>Point culminant de la chaîne des Alpes avec un...</td>\n",
       "      <td>https://www.francetvinfo.fr/image/75rszkkvp-24...</td>\n",
       "    </tr>\n",
       "    <tr>\n",
       "      <th>4</th>\n",
       "      <td>https://www.francetvinfo.fr/societe/loi-de-bio...</td>\n",
       "      <td>Loi de bioéthique : les opposants à la PMA man...</td>\n",
       "      <td>1970-01-01 01:00:00+01:00</td>\n",
       "      <td>france</td>\n",
       "      <td>Des associations catholiques, des jeunes, des ...</td>\n",
       "      <td>https://www.francetvinfo.fr/image/75rt1bbs2-3f...</td>\n",
       "    </tr>\n",
       "  </tbody>\n",
       "</table>\n",
       "</div>"
      ],
      "text/plain": [
       "                                                lien  \\\n",
       "0  https://www.francetvinfo.fr/sante/prevention/e...   \n",
       "1  https://www.francetvinfo.fr/france/video-sur-l...   \n",
       "2  https://www.francetvinfo.fr/societe/video-mass...   \n",
       "3  https://www.francetvinfo.fr/replay-magazine/fr...   \n",
       "4  https://www.francetvinfo.fr/societe/loi-de-bio...   \n",
       "\n",
       "                                               title  \\\n",
       "0  Violences contre les maires : dans l'Eure, des...   \n",
       "1  VIDEO. Sur le dos d'un aigle pêcheur au-dessus...   \n",
       "2  VIDEO. Dans le massif du Mont-Blanc, la hausse...   \n",
       "3  \"13h15 le dimanche\". Le Mont-Blanc, un mythe é...   \n",
       "4  Loi de bioéthique : les opposants à la PMA man...   \n",
       "\n",
       "                       date category  \\\n",
       "0 1970-01-01 01:00:00+01:00   france   \n",
       "1 1970-01-01 01:00:00+01:00   france   \n",
       "2 1970-01-01 01:00:00+01:00   france   \n",
       "3 1970-01-01 01:00:00+01:00   france   \n",
       "4 1970-01-01 01:00:00+01:00   france   \n",
       "\n",
       "                                             content  \\\n",
       "0  Beaucoup de maires et de secrétaires de mairie...   \n",
       "1  #AlertePollution Rivières ou sols contaminés, ...   \n",
       "2  #AlertePollution Rivières ou sols contaminés, ...   \n",
       "3  Point culminant de la chaîne des Alpes avec un...   \n",
       "4  Des associations catholiques, des jeunes, des ...   \n",
       "\n",
       "                                          image_link  \n",
       "0  https://www.francetvinfo.fr/image/75rt1bxrp-70...  \n",
       "1  https://www.francetvinfo.fr/image/75rt1br51-6d...  \n",
       "2  https://www.francetvinfo.fr/image/75rt1bbzf-01...  \n",
       "3  https://www.francetvinfo.fr/image/75rszkkvp-24...  \n",
       "4  https://www.francetvinfo.fr/image/75rt1bbs2-3f...  "
      ]
     },
     "execution_count": 1,
     "metadata": {},
     "output_type": "execute_result"
    }
   ],
   "source": [
    "import pandas as pd\n",
    "df = pd.read_json(\"francetvinfo_transformed.json\", lines=True)\n",
    "df.head()"
   ]
  },
  {
   "cell_type": "code",
   "execution_count": 2,
   "metadata": {},
   "outputs": [
    {
     "data": {
      "text/plain": [
       "(2534, 6)"
      ]
     },
     "execution_count": 2,
     "metadata": {},
     "output_type": "execute_result"
    }
   ],
   "source": [
    "df.shape"
   ]
  },
  {
   "cell_type": "code",
   "execution_count": 10,
   "metadata": {},
   "outputs": [
    {
     "data": {
      "text/plain": [
       "Timestamp('2024-01-27 10:05:26+0100', tz='pytz.FixedOffset(60)')"
      ]
     },
     "execution_count": 10,
     "metadata": {},
     "output_type": "execute_result"
    }
   ],
   "source": [
    "df['date'].max()"
   ]
  }
 ],
 "metadata": {
  "kernelspec": {
   "display_name": "scraping_env",
   "language": "python",
   "name": "python3"
  },
  "language_info": {
   "codemirror_mode": {
    "name": "ipython",
    "version": 3
   },
   "file_extension": ".py",
   "mimetype": "text/x-python",
   "name": "python",
   "nbconvert_exporter": "python",
   "pygments_lexer": "ipython3",
   "version": "3.10.12"
  }
 },
 "nbformat": 4,
 "nbformat_minor": 2
}

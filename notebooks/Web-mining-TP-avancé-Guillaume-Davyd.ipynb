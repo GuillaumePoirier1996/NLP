{
 "cells": [
  {
   "cell_type": "markdown",
   "metadata": {
    "id": "KjEH8bRssHtu"
   },
   "source": [
    "___\n",
    "\n",
    "# <span style=\"color:#00369c;\">Projet de Webmining et Traitement du langage naturel</span>\n",
    "\n",
    "<table style=\"width:100%; text-align:center;\">\n",
    "  <tr>\n",
    "    <td>\n",
    "      <strong style=\"font-size: 25px;\">Davyd Bayard</strong><br>\n",
    "      <a href=\"https://www.linkedin.com/in/davyd-bayard/\">\n",
    "        <img src=\"https://media.licdn.com/dms/image/D4E03AQGVOp1OztlUwA/profile-displayphoto-shrink_800_800/0/1677345039076?e=1715212800&v=beta&t=PKTHEjBxLRsRygBnFFj4otK_PjgbHYwXSM6qa84s9kc\" alt=\"Davyd Bayard\" width=\"200\"/>\n",
    "      </a>\n",
    "    </td>\n",
    "    <td>\n",
    "      <strong style=\"font-size: 25px;\">Guillaume Poirier</strong><br>\n",
    "      <a href=\"https://www.linkedin.com/in/guillaume-poirier-41231713a/\">\n",
    "        <img src=\"https://media.licdn.com/dms/image/D4E03AQEyJMrFoKxchQ/profile-displayphoto-shrink_800_800/0/1664483713894?e=1715212800&v=beta&t=s0-iRjARTl6NGA7rAlW0hp1EQCPGLjbVmX223HIhVPI\" alt=\"Guillaume Poirier\" width=\"200\"/>\n",
    "      </a>\n",
    "    </td>\n",
    "  </tr>\n",
    "</table>\n",
    "\n",
    "\n",
    "___\n"
   ]
  },
  {
   "cell_type": "markdown",
   "metadata": {
    "id": "DDXzMjA6sHtx"
   },
   "source": [
    "<img src=\"https://img-0.journaldunet.com/ncnLdbj2tdRoYqV-c_Q6_b9SPA0=/1500x/smart/36216b4b04c2491090e62bc6cf1c8db5/ccmcms-jdn/34555171.jpg\"/>"
   ]
  },
  {
   "cell_type": "markdown",
   "metadata": {
    "id": "M4_IYnpisHty"
   },
   "source": [
    "# <span style=\"color:#00369c;\">Objectif</span>"
   ]
  },
  {
   "cell_type": "markdown",
   "metadata": {
    "id": "SxQs4JVysHty"
   },
   "source": [
    "Dans cette seconde partie du TP, nous abordons la tâche de détection des entités nommées en tant que problème d'étiquetage. L'objectif est de développer le système le plus performant possible en utilisant les connaissances acquises en cours et les compétences en implémentation de modèles neuronaux sous **tf.keras**, telles que vues dans la première partie. Nous travaillerons avec les données de la compétition CONLL 2003, qui comprennent trois ensembles de données étiquetées selon le modèle BIO, pour l'apprentissage, la validation et les tests."
   ]
  },
  {
   "cell_type": "markdown",
   "metadata": {
    "id": "7LQOZamisHtz"
   },
   "source": [
    "# <span style=\"color:#00369c;\">Import et Observation des données</span>"
   ]
  },
  {
   "cell_type": "code",
   "execution_count": 1,
   "metadata": {
    "id": "yOriBWuXsHtz",
    "outputId": "9408a1b2-a4e6-433d-c833-c4cc266f27b8",
    "tags": []
   },
   "outputs": [
    {
     "name": "stdout",
     "output_type": "stream",
     "text": [
      "Extraction terminée.\n"
     ]
    }
   ],
   "source": [
    "#On commence par extraire les jeux de données\n",
    "# Il existe un lien permettant de télégarger les données (Hugging Face)\n",
    "#Ce zip contient le train, validation et test dataset et un fichier de metadata\n",
    "\n",
    "import urllib.request\n",
    "import zipfile\n",
    "import os\n",
    "\n",
    "#URL de Hugging Face\n",
    "url = \"https://data.deepai.org/conll2003.zip\"\n",
    "\n",
    "#Nom du fichier après le téléchargement\n",
    "zip_filename = \"conll2003.zip\"\n",
    "\n",
    "#On utilise urllib pour télécharger l'archive\n",
    "urllib.request.urlretrieve(url, zip_filename)\n",
    "\n",
    "#On définit le nom du répertoire qui contiendra les différents datasets\n",
    "extract_dir = \"conll2003_data\"\n",
    "\n",
    "#On extrait les fichiers avec le package zipfile\n",
    "with zipfile.ZipFile(zip_filename, 'r') as zip_ref:\n",
    "    zip_ref.extractall(extract_dir)\n",
    "\n",
    "#Puis on supprime l'archive zip qui ne sert plus à rien\n",
    "os.remove(zip_filename)\n",
    "\n",
    "print(\"Extraction terminée.\")"
   ]
  },
  {
   "cell_type": "code",
   "execution_count": 2,
   "metadata": {
    "id": "o0pjGqdisHt1",
    "outputId": "6acb0e0a-5d28-4079-9485-0922a3f8453e",
    "tags": []
   },
   "outputs": [
    {
     "name": "stdout",
     "output_type": "stream",
     "text": [
      "-DOCSTART- -X- -X- O\n",
      "\n",
      "EU NNP B-NP B-ORG\n",
      "rejects VBZ B-VP O\n",
      "German JJ B-NP B-MISC\n",
      "call NN I-NP O\n",
      "to TO B-VP O\n",
      "boycott VB I-VP O\n",
      "British JJ B-NP B-MISC\n",
      "lamb NN I-NP O\n",
      ". . O O\n",
      "\n",
      "Peter NNP B-NP B-PER\n",
      "Blackburn NNP I-NP I-PER\n",
      "\n",
      "BRUSSELS NNP B-NP B-LOC\n",
      "1996-08-22 CD I-NP O\n",
      "\n",
      "The DT B-NP O\n",
      "European NNP I-NP B-ORG\n",
      "Commission NNP I-NP I-ORG\n",
      "said VBD B-VP O\n",
      "on IN B-PP O\n",
      "Thursday NNP B-NP O\n",
      "it PRP B-NP O\n",
      "disagreed VBD B-VP O\n",
      "with IN B-PP O\n",
      "German JJ B-NP B-MISC\n",
      "advice NN I-NP O\n",
      "to TO B-PP O\n",
      "consumers NNS B-NP O\n",
      "to TO B-VP O\n",
      "shun VB I-VP O\n",
      "British JJ B-NP B-MISC\n",
      "lamb NN I-NP O\n",
      "until IN B-SBAR O\n",
      "scientists NNS B-NP O\n",
      "determine VBP B-VP O\n",
      "whether IN B-SBAR O\n",
      "mad JJ B-NP O\n",
      "cow NN I-NP O\n",
      "disease NN I-NP O\n",
      "can MD B-VP O\n",
      "be VB I-VP O\n",
      "transmitted VBN I-VP O\n",
      "to TO B-PP O\n",
      "sheep NN B-NP O\n",
      ". . O O\n",
      "\n",
      "Germany NNP B-NP B-LOC\n"
     ]
    }
   ],
   "source": [
    "#A présent, on va observer la structure des données, ici on a choisi le fichier train\n",
    "train_file = \"conll2003_data/train.txt\"\n",
    "\n",
    "#On lit les 5 premières lignes du fichier avec un simple with open() et méthode readline()\n",
    "with open(train_file, 'r', encoding='utf-8') as file:\n",
    "    for i in range(50):\n",
    "        line = file.readline()\n",
    "        print(line.strip())"
   ]
  },
  {
   "cell_type": "markdown",
   "metadata": {
    "id": "-zBj8z1BsHt1"
   },
   "source": [
    "De ça on a plusieurs remarques :\n",
    "- Les champs sont séparés par des espaces.\n",
    "- Chaque ligne est séparée par un retour à la ligne (\\n).\n",
    "- Une phrase se termine lorsqu'il n'y a plus de mots (il y a un mot vide entre chaque phrase).\n",
    "- Le header est mal formulé. Nous avons identifié les champs suivants en nous basant sur la documentation de la base de données disponible sur [HuggingFace](https://huggingface.co/datasets/conll2003) :\n",
    "    - Token : représente chaque token dans le texte\n",
    "    - Pos : indique la partie de discours (Part-Of-Speech) associée à chaque token\n",
    "    - Chunk : représente le chunking, qui est une tâche d'analyse syntaxique consistant à diviser une phrase en morceaux de mots plus petits (chunks).\n",
    "    - NE : indique l'entité nommée (Named Entity) associée à chaque token"
   ]
  },
  {
   "cell_type": "markdown",
   "metadata": {
    "id": "6AxYkwVosHt1"
   },
   "source": [
    "# <span style=\"color:#00369c;\">Structuration de la donnée</span>"
   ]
  },
  {
   "cell_type": "markdown",
   "metadata": {
    "id": "OuhXv0JbsHt1"
   },
   "source": [
    "Cette partie est consacré à la construction d'une fonction permettant de lire un fichier et de stocker en mémoire les tokens et les différentes étiquettes. Ici a choisi un format pandas pour plus de simplicité."
   ]
  },
  {
   "cell_type": "code",
   "execution_count": 3,
   "metadata": {
    "id": "Gc_RLBzXsHt2",
    "outputId": "54439931-4cbe-45bc-d39a-0e07885b5860",
    "tags": []
   },
   "outputs": [
    {
     "name": "stderr",
     "output_type": "stream",
     "text": [
      "/tmp/ipykernel_13893/1467032446.py:32: FutureWarning: DataFrame.applymap has been deprecated. Use DataFrame.map instead.\n",
      "  df = df.applymap(lambda x: x.strip() if isinstance(x, str) else x)\n",
      "/tmp/ipykernel_13893/1467032446.py:32: FutureWarning: DataFrame.applymap has been deprecated. Use DataFrame.map instead.\n",
      "  df = df.applymap(lambda x: x.strip() if isinstance(x, str) else x)\n",
      "/tmp/ipykernel_13893/1467032446.py:32: FutureWarning: DataFrame.applymap has been deprecated. Use DataFrame.map instead.\n",
      "  df = df.applymap(lambda x: x.strip() if isinstance(x, str) else x)\n"
     ]
    },
    {
     "data": {
      "text/html": [
       "<div>\n",
       "<style scoped>\n",
       "    .dataframe tbody tr th:only-of-type {\n",
       "        vertical-align: middle;\n",
       "    }\n",
       "\n",
       "    .dataframe tbody tr th {\n",
       "        vertical-align: top;\n",
       "    }\n",
       "\n",
       "    .dataframe thead th {\n",
       "        text-align: right;\n",
       "    }\n",
       "</style>\n",
       "<table border=\"1\" class=\"dataframe\">\n",
       "  <thead>\n",
       "    <tr style=\"text-align: right;\">\n",
       "      <th></th>\n",
       "      <th>TOKEN</th>\n",
       "      <th>POS</th>\n",
       "      <th>CHUNK</th>\n",
       "      <th>NE</th>\n",
       "      <th>SENTENCE</th>\n",
       "    </tr>\n",
       "  </thead>\n",
       "  <tbody>\n",
       "    <tr>\n",
       "      <th>1</th>\n",
       "      <td>EU</td>\n",
       "      <td>NNP</td>\n",
       "      <td>B-NP</td>\n",
       "      <td>B-ORG</td>\n",
       "      <td>1</td>\n",
       "    </tr>\n",
       "    <tr>\n",
       "      <th>2</th>\n",
       "      <td>rejects</td>\n",
       "      <td>VBZ</td>\n",
       "      <td>B-VP</td>\n",
       "      <td>O</td>\n",
       "      <td>1</td>\n",
       "    </tr>\n",
       "    <tr>\n",
       "      <th>3</th>\n",
       "      <td>German</td>\n",
       "      <td>JJ</td>\n",
       "      <td>B-NP</td>\n",
       "      <td>B-MISC</td>\n",
       "      <td>1</td>\n",
       "    </tr>\n",
       "    <tr>\n",
       "      <th>4</th>\n",
       "      <td>call</td>\n",
       "      <td>NN</td>\n",
       "      <td>I-NP</td>\n",
       "      <td>O</td>\n",
       "      <td>1</td>\n",
       "    </tr>\n",
       "    <tr>\n",
       "      <th>5</th>\n",
       "      <td>to</td>\n",
       "      <td>TO</td>\n",
       "      <td>B-VP</td>\n",
       "      <td>O</td>\n",
       "      <td>1</td>\n",
       "    </tr>\n",
       "  </tbody>\n",
       "</table>\n",
       "</div>"
      ],
      "text/plain": [
       "     TOKEN  POS CHUNK      NE  SENTENCE\n",
       "1       EU  NNP  B-NP   B-ORG         1\n",
       "2  rejects  VBZ  B-VP       O         1\n",
       "3   German   JJ  B-NP  B-MISC         1\n",
       "4     call   NN  I-NP       O         1\n",
       "5       to   TO  B-VP       O         1"
      ]
     },
     "execution_count": 3,
     "metadata": {},
     "output_type": "execute_result"
    }
   ],
   "source": [
    "import pandas as pd\n",
    "\n",
    "def structurer_donnee(filename):\n",
    "    \"\"\"\n",
    "    Fonction pour structurer les données à partir d'un fichier.\n",
    "\n",
    "    Parameters:\n",
    "    filename (str): Chemin du fichier contenant les données.\n",
    "\n",
    "    Returns:\n",
    "    pandas.DataFrame: DataFrame contenant les données structurées.\n",
    "\n",
    "    Remarques:\n",
    "    - Les champs sont séparés par des espaces.\n",
    "    - Chaque ligne représente un mot avec ses étiquettes (POS, CHUNK, NE).\n",
    "    - Une phrase se termine lorsqu'un mot est un élément vide.\n",
    "    \"\"\"\n",
    "\n",
    "    df = pd.read_csv(filename,\n",
    "                    sep = ' ', header = None, keep_default_na = False,\n",
    "                    names = ['TOKEN', 'POS', 'CHUNK', 'NE'],\n",
    "                    quoting = 3, skip_blank_lines = False)\n",
    "\n",
    "    #On mets un identifiant sur le numéro de la phrase pour chaque mot\n",
    "    #Une phrase se termine dès lors que mot est un élément vide\n",
    "    df['SENTENCE'] = (df.TOKEN == '').cumsum()\n",
    "\n",
    "    #Ici la première valeur est vide donc on l'enlève\n",
    "    df = df.drop(df.index[0]).reset_index(drop=True)\n",
    "\n",
    "    # à titre indicatif on retire les espaces superflus sur le mot\n",
    "    df = df.applymap(lambda x: x.strip() if isinstance(x, str) else x)\n",
    "\n",
    "    # Suppression des lignes contenant des mots vides\n",
    "    return df[df.TOKEN != '']\n",
    "\n",
    "\n",
    "train_df = structurer_donnee('conll2003_data/train.txt')\n",
    "valid_df = structurer_donnee('conll2003_data/valid.txt')\n",
    "test_df = structurer_donnee('conll2003_data/test.txt')\n",
    "\n",
    "train_df.head()"
   ]
  },
  {
   "cell_type": "code",
   "execution_count": 4,
   "metadata": {
    "id": "zrdevvJYsHt3",
    "tags": []
   },
   "outputs": [
    {
     "data": {
      "text/plain": [
       "POS\n",
       "NNP       34392\n",
       "NN        23899\n",
       "CD        19704\n",
       "IN        19064\n",
       "DT        13453\n",
       "JJ        11831\n",
       "NNS        9903\n",
       "VBD        8293\n",
       ".          7389\n",
       ",          7291\n",
       "VB         4252\n",
       "VBN        4105\n",
       "RB         3975\n",
       "CC         3653\n",
       "TO         3469\n",
       "PRP        3163\n",
       ")          2866\n",
       "(          2866\n",
       "VBG        2585\n",
       "VBZ        2426\n",
       ":          2386\n",
       "\"          2178\n",
       "POS        1553\n",
       "PRP$       1520\n",
       "VBP        1436\n",
       "MD         1199\n",
       "-X-         945\n",
       "NNPS        684\n",
       "WP          528\n",
       "RP          528\n",
       "WDT         506\n",
       "SYM         439\n",
       "$           427\n",
       "WRB         384\n",
       "JJR         382\n",
       "JJS         254\n",
       "FW          166\n",
       "RBR         163\n",
       "EX          136\n",
       "RBS          35\n",
       "''           35\n",
       "PDT          33\n",
       "UH           30\n",
       "WP$          23\n",
       "LS           13\n",
       "NN|SYM        4\n",
       "Name: count, dtype: int64"
      ]
     },
     "execution_count": 4,
     "metadata": {},
     "output_type": "execute_result"
    }
   ],
   "source": [
    "#Quelques analyses\n",
    "train_df.POS.value_counts()"
   ]
  },
  {
   "cell_type": "code",
   "execution_count": 5,
   "metadata": {
    "id": "K_1AX8kgsHt3",
    "tags": []
   },
   "outputs": [
    {
     "data": {
      "text/plain": [
       "I-NP       66645\n",
       "B-NP       57387\n",
       "O          27646\n",
       "B-PP       18843\n",
       "B-VP       18047\n",
       "I-VP        8818\n",
       "B-ADVP      2637\n",
       "B-SBAR      1269\n",
       "B-ADJP      1165\n",
       "-X-          945\n",
       "B-PRT        527\n",
       "I-ADJP       211\n",
       "I-ADVP       138\n",
       "I-PP         103\n",
       "B-INTJ        59\n",
       "I-CONJP       39\n",
       "B-LST         32\n",
       "B-CONJP       31\n",
       "I-SBAR        19\n",
       "I-LST          4\n",
       "I-INTJ         1\n",
       "Name: CHUNK, dtype: int64"
      ]
     },
     "execution_count": 5,
     "metadata": {},
     "output_type": "execute_result"
    }
   ],
   "source": [
    "train_df.CHUNK.value_counts()"
   ]
  },
  {
   "cell_type": "code",
   "execution_count": 6,
   "metadata": {
    "id": "gitvCqccsHt3",
    "tags": []
   },
   "outputs": [
    {
     "data": {
      "text/plain": [
       "O         170523\n",
       "B-LOC       7140\n",
       "B-PER       6600\n",
       "B-ORG       6321\n",
       "I-PER       4528\n",
       "I-ORG       3704\n",
       "B-MISC      3438\n",
       "I-LOC       1157\n",
       "I-MISC      1155\n",
       "Name: NE, dtype: int64"
      ]
     },
     "execution_count": 6,
     "metadata": {},
     "output_type": "execute_result"
    }
   ],
   "source": [
    "train_df.NE.value_counts()"
   ]
  },
  {
   "cell_type": "code",
   "execution_count": 5,
   "metadata": {
    "id": "e97MlQqVsHt3",
    "tags": []
   },
   "outputs": [
    {
     "name": "stdout",
     "output_type": "stream",
     "text": [
      "Nombre d'étiquettes :  9\n",
      "Nombre de token :  23624\n",
      "Longueur maximal d'une phrase :  124  tokens\n",
      "Nombre de phrase au total possible :  14986\n"
     ]
    }
   ],
   "source": [
    "#Nb d'étiquettes\n",
    "ntags = len(train_df['NE'].unique())\n",
    "print(\"Nombre d'étiquettes : \", ntags)\n",
    "\n",
    "#Nb tokens\n",
    "ntokens = len(train_df['TOKEN'].unique())\n",
    "print(\"Nombre de token : \", ntokens)\n",
    "\n",
    "#Longueur max d'une séquence\n",
    "# Calculer maxlen en prenant le maximum de la longueur des phrases dans les DataFrames train_df, valid_df et test_df\n",
    "maxlen_train = train_df.groupby('SENTENCE').size().max()\n",
    "maxlen_valid = valid_df.groupby('SENTENCE').size().max()\n",
    "maxlen_test = test_df.groupby('SENTENCE').size().max()\n",
    "\n",
    "maxlen = max(maxlen_train, maxlen_valid, maxlen_test)\n",
    "\n",
    "print(\"Longueur maximal d'une phrase : \", maxlen, \" tokens\")\n",
    "\n",
    "#Nombre de phrase au total\n",
    "sentence_max = len(train_df.groupby('SENTENCE'))\n",
    "print(\"Nombre de phrase au total possible : \", sentence_max)"
   ]
  },
  {
   "cell_type": "markdown",
   "metadata": {
    "id": "CWBlE0ResHt4"
   },
   "source": [
    "# <span style=\"color:#00369c;\">Préparation de données</span>"
   ]
  },
  {
   "cell_type": "markdown",
   "metadata": {
    "id": "gcYr5b0fsHt4"
   },
   "source": [
    "Cette section vise à préparer les données pour être utilisées dans des algorithmes de type réseau récurrent. Ces algorithmes traitent des séquences de tokens. Pour chaque token dans une séquence, les étiquettes associées sont représentées sous forme de vecteurs one hot. En d'autres termes, pour une séquence de longueur L, les étiquettes sont représentées sous forme d'une matrice L × N, où N est le nombre possible d'étiquettes."
   ]
  },
  {
   "cell_type": "code",
   "execution_count": 6,
   "metadata": {
    "id": "gHCAKZaRsHt4",
    "tags": []
   },
   "outputs": [
    {
     "name": "stderr",
     "output_type": "stream",
     "text": [
      "2024-03-11 00:54:01.741181: I external/local_tsl/tsl/cuda/cudart_stub.cc:32] Could not find cuda drivers on your machine, GPU will not be used.\n",
      "2024-03-11 00:54:01.743484: I external/local_tsl/tsl/cuda/cudart_stub.cc:32] Could not find cuda drivers on your machine, GPU will not be used.\n",
      "2024-03-11 00:54:01.774456: I tensorflow/core/platform/cpu_feature_guard.cc:210] This TensorFlow binary is optimized to use available CPU instructions in performance-critical operations.\n",
      "To enable the following instructions: AVX2 FMA, in other operations, rebuild TensorFlow with the appropriate compiler flags.\n",
      "2024-03-11 00:54:02.416099: W tensorflow/compiler/tf2tensorrt/utils/py_utils.cc:38] TF-TRT Warning: Could not find TensorRT\n"
     ]
    },
    {
     "name": "stdout",
     "output_type": "stream",
     "text": [
      "Dimension des tokens: (14986, 124)\n",
      "Dimension des labels: (14986, 124, 9)\n"
     ]
    }
   ],
   "source": [
    "import numpy as np\n",
    "from keras.utils import to_categorical\n",
    "\n",
    "def create_sequences(data, maxlen, label_set):\n",
    "    \"\"\"\n",
    "    Crée des séquences de tokens et encode les étiquettes en vecteurs one-hot.\n",
    "\n",
    "    Args:\n",
    "        data (DataFrame): DataFrame contenant les données à traiter.\n",
    "        maxlen (int): Longueur maximale des séquences de tokens.\n",
    "        label_set (array-like): Ensemble des étiquettes possibles.\n",
    "\n",
    "    Returns:\n",
    "        tuple: Un tuple contenant les séquences de tokens et les étiquettes encodées en vecteurs one-hot.\n",
    "\n",
    "    \"\"\"\n",
    "    #listes pour stocker les séquences de tokens et les étiquettes\n",
    "    sequences = []\n",
    "    labels = []\n",
    "\n",
    "    #dictionnaire pour mapper les étiquettes aux entiers\n",
    "    label_to_int = {label: i for i, label in enumerate(label_set)}\n",
    "\n",
    "    #Parcourir chaque groupe de phrases dans les données, groupées par identifiant de phrase\n",
    "    for sentence_id, sentence_group in data.groupby('SENTENCE'):\n",
    "        #listes pour stocker les tokens et les étiquettes de la phrase\n",
    "        sentence_tokens = []\n",
    "        sentence_labels = []\n",
    "\n",
    "        #Parcourir chaque ligne dans le groupe de phrases\n",
    "        for _, row in sentence_group.iterrows():\n",
    "            #On ajoute le token et de l'étiquette à leurs listes respectives\n",
    "            sentence_tokens.append(row['TOKEN'])\n",
    "            sentence_labels.append(row['NE'])\n",
    "\n",
    "        #On effectue un rembourrage pour remplir la séquence\n",
    "        padded_tokens = sentence_tokens[:maxlen] + [''] * (maxlen - len(sentence_tokens))\n",
    "\n",
    "        #On encode les étiquettes en utilisant le dictionnaire de mapping\n",
    "        #On ajoute 0 pour le padding si la longueur est inférieure à maxlen\n",
    "        encoded_labels = [label_to_int[label] for label in sentence_labels[:maxlen]] + [0] * (maxlen - len(sentence_labels))\n",
    "\n",
    "        #On ajoute au listes les séquences de tokens et les étiquettes encodées\n",
    "        sequences.append(padded_tokens)\n",
    "        labels.append(encoded_labels)\n",
    "\n",
    "    #liste en tableaux numpy\n",
    "    sequences = np.array(sequences)\n",
    "    labels = np.array(labels)\n",
    "\n",
    "    #On encode les labels en vecteurs one-hot (sujet)  avec to_categorical() de Keras\n",
    "    labels = to_categorical(labels, num_classes=len(label_set))\n",
    "\n",
    "    return sequences, labels\n",
    "\n",
    "\n",
    "#Application de la fonction sur les 3 jeux de données\n",
    "train_sequences, train_labels = create_sequences(train_df, maxlen, train_df['NE'].unique())\n",
    "valid_sequences, valid_labels = create_sequences(valid_df, maxlen, valid_df['NE'].unique())\n",
    "test_sequences, test_labels = create_sequences(test_df, maxlen, test_df['NE'].unique())\n",
    "\n",
    "#On vérifie les dimensions\n",
    "print(\"Dimension des tokens:\", train_sequences.shape)\n",
    "print(\"Dimension des labels:\", train_labels.shape)\n"
   ]
  },
  {
   "cell_type": "code",
   "execution_count": 9,
   "metadata": {
    "id": "PKwd2O2isHt5",
    "tags": []
   },
   "outputs": [
    {
     "data": {
      "text/plain": [
       "array([[[1., 0., 0., ..., 0., 0., 0.],\n",
       "        [0., 1., 0., ..., 0., 0., 0.],\n",
       "        [0., 0., 1., ..., 0., 0., 0.],\n",
       "        ...,\n",
       "        [1., 0., 0., ..., 0., 0., 0.],\n",
       "        [1., 0., 0., ..., 0., 0., 0.],\n",
       "        [1., 0., 0., ..., 0., 0., 0.]],\n",
       "\n",
       "       [[0., 0., 0., ..., 0., 0., 0.],\n",
       "        [0., 0., 0., ..., 0., 0., 0.],\n",
       "        [1., 0., 0., ..., 0., 0., 0.],\n",
       "        ...,\n",
       "        [1., 0., 0., ..., 0., 0., 0.],\n",
       "        [1., 0., 0., ..., 0., 0., 0.],\n",
       "        [1., 0., 0., ..., 0., 0., 0.]]], dtype=float32)"
      ]
     },
     "execution_count": 9,
     "metadata": {},
     "output_type": "execute_result"
    }
   ],
   "source": [
    "#Aperçu de la liste des  séquences de labels\n",
    "train_labels[:2]"
   ]
  },
  {
   "cell_type": "code",
   "execution_count": 10,
   "metadata": {
    "id": "kh8w3JBbsHt5",
    "tags": []
   },
   "outputs": [
    {
     "data": {
      "text/plain": [
       "array([['EU', 'rejects', 'German', ..., '', '', ''],\n",
       "       ['Peter', 'Blackburn', '', ..., '', '', ''],\n",
       "       ['BRUSSELS', '1996-08-22', '', ..., '', '', ''],\n",
       "       ...,\n",
       "       ['Plymouth', '2', 'Preston', ..., '', '', ''],\n",
       "       ['Division', 'three', '', ..., '', '', ''],\n",
       "       ['Swansea', '1', 'Lincoln', ..., '', '', '']], dtype='<U61')"
      ]
     },
     "execution_count": 10,
     "metadata": {},
     "output_type": "execute_result"
    }
   ],
   "source": [
    "#Aperçu de la séquence destokens\n",
    "train_sequences"
   ]
  },
  {
   "cell_type": "code",
   "execution_count": 7,
   "metadata": {
    "id": "4njmDxohsHt6",
    "tags": []
   },
   "outputs": [
    {
     "name": "stdout",
     "output_type": "stream",
     "text": [
      "[[ 6420 20821  7229 14822 22700 14673  5084 18390   125     0     0     0\n",
      "      0     0     0     0     0     0     0     0     0     0     0     0\n",
      "      0     0     0     0     0     0     0     0     0     0     0     0\n",
      "      0     0     0     0     0     0     0     0     0     0     0     0\n",
      "      0     0     0     0     0     0     0     0     0     0     0     0\n",
      "      0     0     0     0     0     0     0     0     0     0     0     0\n",
      "      0     0     0     0     0     0     0     0     0     0     0     0\n",
      "      0     0     0     0     0     0     0     0     0     0     0     0\n",
      "      0     0     0     0     0     0     0     0     0     0     0     0\n",
      "      0     0     0     0     0     0     0     0     0     0     0     0\n",
      "      0     0     0     0]\n",
      " [10721  4911     0     0     0     0     0     0     0     0     0     0\n",
      "      0     0     0     0     0     0     0     0     0     0     0     0\n",
      "      0     0     0     0     0     0     0     0     0     0     0     0\n",
      "      0     0     0     0     0     0     0     0     0     0     0     0\n",
      "      0     0     0     0     0     0     0     0     0     0     0     0\n",
      "      0     0     0     0     0     0     0     0     0     0     0     0\n",
      "      0     0     0     0     0     0     0     0     0     0     0     0\n",
      "      0     0     0     0     0     0     0     0     0     0     0     0\n",
      "      0     0     0     0     0     0     0     0     0     0     0     0\n",
      "      0     0     0     0     0     0     0     0     0     0     0     0\n",
      "      0     0     0     0]\n",
      " [ 4579  1401     0     0     0     0     0     0     0     0     0     0\n",
      "      0     0     0     0     0     0     0     0     0     0     0     0\n",
      "      0     0     0     0     0     0     0     0     0     0     0     0\n",
      "      0     0     0     0     0     0     0     0     0     0     0     0\n",
      "      0     0     0     0     0     0     0     0     0     0     0     0\n",
      "      0     0     0     0     0     0     0     0     0     0     0     0\n",
      "      0     0     0     0     0     0     0     0     0     0     0     0\n",
      "      0     0     0     0     0     0     0     0     0     0     0     0\n",
      "      0     0     0     0     0     0     0     0     0     0     0     0\n",
      "      0     0     0     0     0     0     0     0     0     0     0     0\n",
      "      0     0     0     0]\n",
      " [12694  6638  5723 21233 19479 12739 18237 16101 23503  7229 13866 22700\n",
      "  15488 22700 21637  5084 18390 23086 21305 16028 23426 18727 15636 16139\n",
      "  14848 14431 22822 22700 21555   125     0     0     0     0     0     0\n",
      "      0     0     0     0     0     0     0     0     0     0     0     0\n",
      "      0     0     0     0     0     0     0     0     0     0     0     0\n",
      "      0     0     0     0     0     0     0     0     0     0     0     0\n",
      "      0     0     0     0     0     0     0     0     0     0     0     0\n",
      "      0     0     0     0     0     0     0     0     0     0     0     0\n",
      "      0     0     0     0     0     0     0     0     0     0     0     0\n",
      "      0     0     0     0     0     0     0     0     0     0     0     0\n",
      "      0     0     0     0]\n",
      " [ 7234    12 20921 22700 22570  6638 13005    12 23191 15284 13379 13685\n",
      "  21233 19479 13353 15488 21612 14800 21556 17255 15613 19569 22565  5083\n",
      "  23086 22570 21303 13866 23339 15134   125     0     0     0     0     0\n",
      "      0     0     0     0     0     0     0     0     0     0     0     0\n",
      "      0     0     0     0     0     0     0     0     0     0     0     0\n",
      "      0     0     0     0     0     0     0     0     0     0     0     0\n",
      "      0     0     0     0     0     0     0     0     0     0     0     0\n",
      "      0     0     0     0     0     0     0     0     0     0     0     0\n",
      "      0     0     0     0     0     0     0     0     0     0     0     0\n",
      "      0     0     0     0     0     0     0     0     0     0     0     0\n",
      "      0     0     0     0]]\n"
     ]
    }
   ],
   "source": [
    "#On créer un dictionnaire pour mapper les tokens à des entiers\n",
    "token_to_int = {token: i + 1 for i, token in enumerate(sorted(set(train_df['TOKEN'])))}\n",
    "\n",
    "#Pour chaque séquences (train, test, validation) on convertie les séquences  de token en séquence d'entier\n",
    "train_sequences_int = np.array([[token_to_int.get(token, 0) for token in sentence] for sentence in train_sequences])\n",
    "valid_sequences_int = np.array([[token_to_int.get(token, 0) for token in sentence] for sentence in valid_sequences])\n",
    "test_sequences_int = np.array([[token_to_int.get(token, 0) for token in sentence] for sentence in test_sequences])\n",
    "\n",
    "#Aperçu des 5 premières séquences\n",
    "print(train_sequences_int[:5])"
   ]
  },
  {
   "cell_type": "markdown",
   "metadata": {
    "id": "1F8iw06tsHt6"
   },
   "source": [
    "# <span style=\"color:#00369c;\">Construction du modèle et évaluation</span>"
   ]
  },
  {
   "cell_type": "code",
   "execution_count": null,
   "metadata": {
    "id": "mmpvflkSsHt6",
    "tags": []
   },
   "outputs": [],
   "source": [
    "import tensorflow as tf\n",
    "from tensorflow.keras.models import Sequential\n",
    "from tensorflow.keras.layers import InputLayer, Embedding, LSTM, TimeDistributed, Dense, Activation\n",
    "from tensorflow.keras.optimizers import Adam\n",
    "\n",
    "#On définit les dimensions des embeddings et des vecteurs LSTM (arbitraire)\n",
    "embed_dim = 50\n",
    "lstm_dim = 100\n",
    "\n",
    "#On créé un dictionnaire pour mapper les étiquettes à des entiers\n",
    "label_to_int = {label: i for i, label in enumerate(sorted(set(train_df['NE'])))}\n",
    "\n",
    "#Modèle NER1 (sujet)\n",
    "ner1 = Sequential()\n",
    "ner1.add(InputLayer(input_shape=(maxlen, )))\n",
    "ner1.add(Embedding(input_dim=len(token_to_int) + 1, output_dim=embed_dim, mask_zero=True))\n",
    "ner1.add(LSTM(lstm_dim, return_sequences=True))\n",
    "ner1.add(TimeDistributed(Dense(len(label_to_int))))\n",
    "ner1.add(Activation('softmax'))\n",
    "\n",
    "#Compilation\n",
    "ner1.compile(optimizer=Adam(), loss='categorical_crossentropy', metrics=['accuracy'])\n",
    "\n",
    "#Résumé du modèle\n",
    "ner1.summary()\n",
    "\n",
    "#Entrainement du modèle\n",
    "history = ner1.fit(train_sequences_int, train_labels, validation_data=(valid_sequences_int, valid_labels), epochs=10, batch_size=32)\n",
    "\n",
    "#Evaluation sur le jeu de validation\n",
    "loss, accuracy = ner1.evaluate(valid_sequences_int, valid_labels)\n",
    "print(\"Loss sur l'ensemble de validation:\", loss)\n",
    "print(\"Précision sur l'ensemble de validation:\", accuracy)\n"
   ]
  },
  {
   "cell_type": "code",
   "execution_count": 13,
   "metadata": {
    "id": "Dn-Tl5WnsHt7",
    "tags": []
   },
   "outputs": [
    {
     "data": {
      "image/png": "[encoded data removed]",
      "text/plain": [
       "<Figure size 720x360 with 1 Axes>"
      ]
     },
     "metadata": {
      "needs_background": "light"
     },
     "output_type": "display_data"
    },
    {
     "data": {
      "image/png": "[encoded data removed]",
      "text/plain": [
       "<Figure size 720x360 with 1 Axes>"
      ]
     },
     "metadata": {
      "needs_background": "light"
     },
     "output_type": "display_data"
    }
   ],
   "source": [
    "#Courbe de l'évolution de la précision et de la perte en fonction des epochs\n",
    "\n",
    "import matplotlib.pyplot as plt\n",
    "#Récupérer les informations de l'entrainement\n",
    "train_accuracy = history.history['accuracy']\n",
    "val_accuracy = history.history['val_accuracy']\n",
    "train_loss = history.history['loss']\n",
    "val_loss = history.history['val_loss']\n",
    "\n",
    "#Exactitude\n",
    "plt.figure(figsize=(10, 5))\n",
    "plt.plot(train_accuracy, label='Exactitude Train', color='blue')\n",
    "plt.plot(val_accuracy, label='Exactitude Validation', color='orange')\n",
    "plt.title('Exactitude sur les epochs')\n",
    "plt.xlabel('Epochs')\n",
    "plt.ylabel('Exactitude')\n",
    "plt.legend()\n",
    "plt.show()\n",
    "\n",
    "#Perte\n",
    "plt.figure(figsize=(10, 5))\n",
    "plt.plot(train_loss, label='Perte Entrainement ', color='blue')\n",
    "plt.plot(val_loss, label='Perte Validation', color='orange')\n",
    "plt.title('Perte sur les epochs')\n",
    "plt.xlabel('Epochs')\n",
    "plt.ylabel('Perte')\n",
    "plt.legend()\n",
    "plt.show()"
   ]
  },
  {
   "cell_type": "markdown",
   "metadata": {
    "id": "6EBdNEn8sHt7"
   },
   "source": [
    "# <span style=\"color:#00369c;\">Jeu de donnée test</span>"
   ]
  },
  {
   "cell_type": "code",
   "execution_count": 14,
   "metadata": {
    "id": "CDSaSSn6sHt7",
    "tags": []
   },
   "outputs": [
    {
     "name": "stdout",
     "output_type": "stream",
     "text": [
      "116/116 [==============================] - 9s 61ms/step\n",
      "Séquence 1:\n",
      "Tokens: ['SOCCER', '-', 'JAPAN', 'GET', 'LUCKY', 'WIN', ',', 'CHINA', 'IN', 'SURPRISE', 'DEFEAT', '.']\n",
      "Étiquettes prédites: ['B-LOC', 'B-LOC', 'B-LOC', 'B-LOC', 'B-LOC', 'B-LOC', 'B-LOC', 'O', 'B-LOC', 'B-LOC', 'B-LOC', 'B-LOC', 'B-LOC', 'B-LOC', 'B-LOC', 'B-LOC', 'B-LOC', 'B-LOC', 'B-LOC', 'B-LOC', 'B-LOC', 'B-LOC', 'B-LOC', 'B-LOC', 'B-LOC', 'B-LOC', 'B-LOC', 'B-LOC', 'B-LOC', 'B-LOC', 'B-LOC', 'B-LOC', 'B-LOC', 'B-LOC', 'B-LOC', 'B-LOC', 'B-LOC', 'B-LOC', 'B-LOC', 'B-LOC', 'B-LOC', 'B-LOC', 'B-LOC', 'B-LOC', 'B-LOC', 'B-LOC', 'B-LOC', 'B-LOC', 'B-LOC', 'B-LOC', 'B-LOC', 'B-LOC', 'B-LOC', 'B-LOC', 'B-LOC', 'B-LOC', 'B-LOC', 'B-LOC', 'B-LOC', 'B-LOC', 'B-LOC', 'B-LOC', 'B-LOC', 'B-LOC', 'B-LOC', 'B-LOC', 'B-LOC', 'B-LOC', 'B-LOC', 'B-LOC', 'B-LOC', 'B-LOC', 'B-LOC', 'B-LOC', 'B-LOC', 'B-LOC', 'B-LOC', 'B-LOC', 'B-LOC', 'B-LOC', 'B-LOC', 'B-LOC', 'B-LOC', 'B-LOC', 'B-LOC', 'B-LOC', 'B-LOC', 'B-LOC', 'B-LOC', 'B-LOC', 'B-LOC', 'B-LOC', 'B-LOC', 'B-LOC', 'B-LOC', 'B-LOC', 'B-LOC', 'B-LOC', 'B-LOC', 'B-LOC', 'B-LOC', 'B-LOC', 'B-LOC', 'B-LOC', 'B-LOC', 'B-LOC', 'B-LOC', 'B-LOC', 'B-LOC', 'B-LOC', 'B-LOC', 'B-LOC', 'B-LOC', 'B-LOC', 'B-LOC', 'B-LOC', 'B-LOC', 'B-LOC', 'B-LOC', 'B-LOC', 'B-LOC', 'B-LOC', 'B-LOC', 'B-LOC']\n",
      "\n",
      "Séquence 2:\n",
      "Tokens: ['Nadim', 'Ladki']\n",
      "Étiquettes prédites: ['O', 'O', 'O', 'O', 'O', 'O', 'O', 'O', 'O', 'O', 'O', 'O', 'O', 'O', 'O', 'O', 'O', 'O', 'O', 'O', 'O', 'O', 'O', 'O', 'O', 'O', 'O', 'O', 'O', 'O', 'O', 'O', 'O', 'O', 'O', 'O', 'O', 'O', 'O', 'O', 'O', 'O', 'O', 'O', 'O', 'O', 'O', 'O', 'O', 'O', 'O', 'O', 'O', 'O', 'O', 'O', 'O', 'O', 'O', 'O', 'O', 'O', 'O', 'O', 'O', 'O', 'O', 'O', 'O', 'O', 'O', 'O', 'O', 'O', 'O', 'O', 'O', 'O', 'O', 'O', 'O', 'O', 'O', 'O', 'O', 'O', 'O', 'O', 'O', 'O', 'O', 'O', 'O', 'O', 'O', 'O', 'O', 'O', 'O', 'O', 'O', 'O', 'O', 'O', 'O', 'O', 'O', 'O', 'O', 'O', 'O', 'O', 'O', 'O', 'O', 'O', 'O', 'O', 'O', 'O', 'O', 'O', 'O', 'O']\n",
      "\n",
      "Séquence 3:\n",
      "Tokens: ['AL-AIN', ',', 'United', 'Arab', 'Emirates', '1996-12-06']\n",
      "Étiquettes prédites: ['O', 'B-LOC', 'B-MISC', 'I-ORG', 'I-ORG', 'I-ORG', 'I-ORG', 'I-ORG', 'I-ORG', 'I-ORG', 'I-ORG', 'I-ORG', 'I-ORG', 'I-ORG', 'I-ORG', 'I-ORG', 'I-ORG', 'I-ORG', 'I-ORG', 'I-ORG', 'I-ORG', 'I-ORG', 'I-ORG', 'I-ORG', 'I-ORG', 'I-ORG', 'I-ORG', 'I-ORG', 'I-ORG', 'I-ORG', 'I-ORG', 'I-ORG', 'I-ORG', 'I-ORG', 'I-ORG', 'I-ORG', 'I-ORG', 'I-ORG', 'I-ORG', 'I-ORG', 'I-ORG', 'I-ORG', 'I-ORG', 'I-ORG', 'I-ORG', 'I-ORG', 'I-ORG', 'I-ORG', 'I-ORG', 'I-ORG', 'I-ORG', 'I-ORG', 'I-ORG', 'I-ORG', 'I-ORG', 'I-ORG', 'I-ORG', 'I-ORG', 'I-ORG', 'I-ORG', 'I-ORG', 'I-ORG', 'I-ORG', 'I-ORG', 'I-ORG', 'I-ORG', 'I-ORG', 'I-ORG', 'I-ORG', 'I-ORG', 'I-ORG', 'I-ORG', 'I-ORG', 'I-ORG', 'I-ORG', 'I-ORG', 'I-ORG', 'I-ORG', 'I-ORG', 'I-ORG', 'I-ORG', 'I-ORG', 'I-ORG', 'I-ORG', 'I-ORG', 'I-ORG', 'I-ORG', 'I-ORG', 'I-ORG', 'I-ORG', 'I-ORG', 'I-ORG', 'I-ORG', 'I-ORG', 'I-ORG', 'I-ORG', 'I-ORG', 'I-ORG', 'I-ORG', 'I-ORG', 'I-ORG', 'I-ORG', 'I-ORG', 'I-ORG', 'I-ORG', 'I-ORG', 'I-ORG', 'I-ORG', 'I-ORG', 'I-ORG', 'I-ORG', 'I-ORG', 'I-ORG', 'I-ORG', 'I-ORG', 'I-ORG', 'I-ORG', 'I-ORG', 'I-ORG', 'I-ORG', 'I-ORG', 'I-ORG', 'I-ORG', 'I-ORG']\n",
      "\n",
      "Séquence 4:\n",
      "Tokens: ['Japan', 'began', 'the', 'defence', 'of', 'their', 'Asian', 'Cup', 'title', 'with', 'a', 'lucky', '2-1', 'win', 'against', 'Syria', 'in', 'a', 'Group', 'C', 'championship', 'match', 'on', 'Friday', '.']\n",
      "Étiquettes prédites: ['B-MISC', 'B-LOC', 'B-LOC', 'B-LOC', 'B-LOC', 'B-LOC', 'B-PER', 'B-ORG', 'B-LOC', 'B-LOC', 'B-LOC', 'B-LOC', 'B-LOC', 'B-LOC', 'B-LOC', 'B-MISC', 'B-LOC', 'B-LOC', 'B-LOC', 'B-LOC', 'B-LOC', 'B-LOC', 'B-LOC', 'B-LOC', 'B-LOC', 'B-LOC', 'B-LOC', 'B-LOC', 'B-LOC', 'B-LOC', 'B-LOC', 'B-LOC', 'B-LOC', 'B-LOC', 'B-LOC', 'B-LOC', 'B-LOC', 'B-LOC', 'B-LOC', 'B-LOC', 'B-LOC', 'B-LOC', 'B-LOC', 'B-LOC', 'B-LOC', 'B-LOC', 'B-LOC', 'B-LOC', 'B-LOC', 'B-LOC', 'B-LOC', 'B-LOC', 'B-LOC', 'B-LOC', 'B-LOC', 'B-LOC', 'B-LOC', 'B-LOC', 'B-LOC', 'B-LOC', 'B-LOC', 'B-LOC', 'B-LOC', 'B-LOC', 'B-LOC', 'B-LOC', 'B-LOC', 'B-LOC', 'B-LOC', 'B-LOC', 'B-LOC', 'B-LOC', 'B-LOC', 'B-LOC', 'B-LOC', 'B-LOC', 'B-LOC', 'B-LOC', 'B-LOC', 'B-LOC', 'B-LOC', 'B-LOC', 'B-LOC', 'B-LOC', 'B-LOC', 'B-LOC', 'B-LOC', 'B-LOC', 'B-LOC', 'B-LOC', 'B-LOC', 'B-LOC', 'B-LOC', 'B-LOC', 'B-LOC', 'B-LOC', 'B-LOC', 'B-LOC', 'B-LOC', 'B-LOC', 'B-LOC', 'B-LOC', 'B-LOC', 'B-LOC', 'B-LOC', 'B-LOC', 'B-LOC', 'B-LOC', 'B-LOC', 'B-LOC', 'B-LOC', 'B-LOC', 'B-LOC', 'B-LOC', 'B-LOC', 'B-LOC', 'B-LOC', 'B-LOC', 'B-LOC', 'B-LOC', 'B-LOC', 'B-LOC', 'B-LOC', 'B-LOC']\n",
      "\n",
      "Séquence 5:\n",
      "Tokens: ['But', 'China', 'saw', 'their', 'luck', 'desert', 'them', 'in', 'the', 'second', 'match', 'of', 'the', 'group', ',', 'crashing', 'to', 'a', 'surprise', '2-0', 'defeat', 'to', 'newcomers', 'Uzbekistan', '.']\n",
      "Étiquettes prédites: ['B-LOC', 'B-MISC', 'B-LOC', 'B-LOC', 'B-LOC', 'B-LOC', 'B-LOC', 'B-LOC', 'B-LOC', 'B-LOC', 'B-LOC', 'B-LOC', 'B-LOC', 'B-LOC', 'B-LOC', 'B-LOC', 'B-LOC', 'B-LOC', 'B-LOC', 'B-LOC', 'B-LOC', 'B-LOC', 'B-LOC', 'B-LOC', 'B-LOC', 'B-LOC', 'B-LOC', 'B-LOC', 'B-LOC', 'B-LOC', 'B-LOC', 'B-LOC', 'B-LOC', 'B-LOC', 'B-LOC', 'B-LOC', 'B-LOC', 'B-LOC', 'B-LOC', 'B-LOC', 'B-LOC', 'B-LOC', 'B-LOC', 'B-LOC', 'B-LOC', 'B-LOC', 'B-LOC', 'B-LOC', 'B-LOC', 'B-LOC', 'B-LOC', 'B-LOC', 'B-LOC', 'B-LOC', 'B-LOC', 'B-LOC', 'B-LOC', 'B-LOC', 'B-LOC', 'B-LOC', 'B-LOC', 'B-LOC', 'B-LOC', 'B-LOC', 'B-LOC', 'B-LOC', 'B-LOC', 'B-LOC', 'B-LOC', 'B-LOC', 'B-LOC', 'B-LOC', 'B-LOC', 'B-LOC', 'B-LOC', 'B-LOC', 'B-LOC', 'B-LOC', 'B-LOC', 'B-LOC', 'B-LOC', 'B-LOC', 'B-LOC', 'B-LOC', 'B-LOC', 'B-LOC', 'B-LOC', 'B-LOC', 'B-LOC', 'B-LOC', 'B-LOC', 'B-LOC', 'B-LOC', 'B-LOC', 'B-LOC', 'B-LOC', 'B-LOC', 'B-LOC', 'B-LOC', 'B-LOC', 'B-LOC', 'B-LOC', 'B-LOC', 'B-LOC', 'B-LOC', 'B-LOC', 'B-LOC', 'B-LOC', 'B-LOC', 'B-LOC', 'B-LOC', 'B-LOC', 'B-LOC', 'B-LOC', 'B-LOC', 'B-LOC', 'B-LOC', 'B-LOC', 'B-LOC', 'B-LOC', 'B-LOC', 'B-LOC', 'B-LOC', 'B-LOC']\n",
      "\n"
     ]
    }
   ],
   "source": [
    "#On calcule les prédictions sur la séquence du jeu de données test\n",
    "predictions = ner1.predict(test_sequences_int)\n",
    "\n",
    "def decode_predictions(predictions, sequences):\n",
    "    \"\"\"\n",
    "    Décode les prédictions du modèle en étiquettes prédites.\n",
    "\n",
    "    Args:\n",
    "        predictions (list): Liste de listes représentant les prédictions du modèle pour chaque token dans chaque séquence.\n",
    "        sequences (list): Liste de listes représentant les séquences de tokens.\n",
    "\n",
    "    Returns:\n",
    "        list: Liste de listes contenant les étiquettes prédites pour chaque token dans chaque séquence.\n",
    "\n",
    "    La fonction parcourt les prédictions du modèle et les séquences de tokens, elle décode chaque prédiction en étiquette prédite en utilisant l'indice de la classe avec la probabilité la plus élevée, puis les ajoute à une liste de listes pour représenter les étiquettes prédites pour chaque token dans chaque séquence.\n",
    "\n",
    "    Les tokens de rembourrage (chaînes vides) sont ignorés et ne sont pas inclus dans les étiquettes prédites.\n",
    "\n",
    "    Exemple d'utilisation:\n",
    "        predictions = ner_model.predict(test_sequences_int)\n",
    "        predicted_labels = decode_predictions(predictions, test_sequences)\n",
    "    \"\"\"\n",
    "    # Définir un dictionnaire pour convertir les indices de classe en étiquettes prédites\n",
    "    int_to_label = {0: 'O', 1: 'B-LOC', 2: 'B-PER', 3: 'I-PER', 4: 'I-LOC', 5: 'B-MISC', 6: 'I-MISC', 7: 'B-ORG', 8: 'I-ORG'}\n",
    "\n",
    "    decoded_labels = []\n",
    "    for i, sequence in enumerate(predictions):\n",
    "        decoded_sequence = []\n",
    "        for j, token_probs in enumerate(sequence):\n",
    "            # Vérifier si le token est un token de rembourrage\n",
    "            if sequences[i][j] != '&RBRRG':\n",
    "                # Sélectionner l'indice de la classe avec la probabilité la plus élevée\n",
    "                predicted_label_index = np.argmax(token_probs)\n",
    "\n",
    "                # Convertir l'indice de la classe en étiquette prédite en utilisant le dictionnaire inverse\n",
    "                predicted_label = int_to_label[predicted_label_index]\n",
    "            else:\n",
    "                # Ignorer les tokens de rembourrage\n",
    "                predicted_label = '&RBRRG'\n",
    "\n",
    "            decoded_sequence.append(predicted_label)\n",
    "        decoded_labels.append(decoded_sequence)\n",
    "    return decoded_labels\n",
    "\n",
    "\n",
    "#Utiliser la fonction pour décoder les prédictions\n",
    "predicted_labels = decode_predictions(predictions, test_sequences)\n",
    "\n",
    "#Aperçu des étiquettes prédites pour les 5 premières séquences de test\n",
    "for i in range(5):\n",
    "    print(\"Séquence {}:\".format(i+1))\n",
    "\n",
    "    #Pour l'esthétique\n",
    "    #On filtre les tokens et les étiquettes prédites contenant des chaînes vides\n",
    "    filtered_tokens = [token for token in test_sequences[i] if token != '']\n",
    "    filtered_predicted_labels = [label for label in predicted_labels[i] if label != '']\n",
    "\n",
    "    print(\"Tokens:\", filtered_tokens)\n",
    "    print(\"Étiquettes prédites:\", filtered_predicted_labels)\n",
    "\n",
    "    print()"
   ]
  },
  {
   "cell_type": "markdown",
   "metadata": {
    "id": "jrBdALhfsHt8"
   },
   "source": [
    "# <span style=\"color:#00369c;\">Pourquoi ne pas utiliser evaluate directement ?</span>"
   ]
  },
  {
   "cell_type": "markdown",
   "metadata": {
    "id": "PqbVsqs0sHt8"
   },
   "source": [
    "La fonction evaluate est généralement utilisée pour évaluer les performances d'un modèle sur un ensemble de données pour lequel les labels réels sont connus. Cependant, dans le cas des **modèles de séquence** pour la détection d'entités nommées (NER), les prédictions du modèle et les véritables étiquettes doivent être comparées au niveau **des séquences** plutôt qu'au niveau **des points de données**.\n",
    "\n",
    "La fonction *evaluate* calcule les métriques de performance (telles que la perte et la précision) sur un ensemble de données, mais elle ne prend pas en compte la **structure des séquences** dans ces données. Elle traite chaque point de données **individuellement**, ce qui n'est pas approprié pour les tâches de **séquence** comme NER où la structure de la séquence est importante.\n",
    "\n",
    "Il est évident qu'il y a un déséquilibre dans les catégories à prédire, comme on peut le voir avec la commande value_count qui révèle qu'il y a beaucoup plus d'occurrences de la catégorie 'O' que des autres catégories. Pour rappel, 'O' désigne la catégorie des mots qui ne sont pas pertinents pour la tâche spécifique (tels que les déterminants, les liaisons, etc.) ainsi que les tokens de remplissage. Par conséquent, l'utilisation de la fonction evaluate serait inappropriée ici car elle ne prend pas en compte le déséquilibre des classes lors de l'évaluation du modèle.\n",
    "\n",
    "Une possibilité est d'utiliser la fonction ***compute_class_weight*** de ***sklearn*** qui permet de balancer les classes et, comme indiqué dans le sujet, de creer ces propres fonctions d'évaluations. On peut aussi utiliser ***precision_recall_fscore_support*** de ***sklearn*** comme indiqué ci après."
   ]
  },
  {
   "cell_type": "markdown",
   "metadata": {
    "id": "8teDWr_asHt8"
   },
   "source": [
    "# <span style=\"color:#00369c;\">Fonction pour mesurer les scores</span>"
   ]
  },
  {
   "cell_type": "code",
   "execution_count": 11,
   "metadata": {
    "id": "ScYzoCsRsHt8",
    "tags": []
   },
   "outputs": [],
   "source": [
    "from sklearn.metrics import precision_recall_fscore_support\n",
    "\n",
    "def calculate_scores(true_labels, predicted_labels):\n",
    "    \"\"\"\n",
    "    Calcule les scores de rappel, précision et F1-score pour chaque étiquette spécifiée et pour l'ensemble des étiquettes.\n",
    "\n",
    "    Args:\n",
    "        true_labels (list): Liste des vrais labels.\n",
    "        predicted_labels (list): Liste des labels prédits.\n",
    "\n",
    "    Returns:\n",
    "        dict: Un dictionnaire contenant les scores de rappel, précision et F1-score pour chaque étiquette et pour l'ensemble des étiquettes.\n",
    "\n",
    "    La fonction calcule les scores de rappel, précision et F1-score pour chaque étiquette spécifiée ('B-LOC', 'I-LOC', 'B-PER', 'I-PER', 'B-ORG', 'I-ORG', 'B-MISC', 'I-MISC')\n",
    "    ainsi que pour l'ensemble de ces étiquettes ('Global'). Les scores sont calculés en comparant les étiquettes véritables avec les étiquettes prédites.\n",
    "    Les étiquettes sont considérées de manière binaire ('1' pour présence de l'étiquette et '0' sinon).\n",
    "\n",
    "    \"\"\"\n",
    "    #Liste des 9 entités possibles\n",
    "    labels = ['B-LOC', 'I-LOC', 'B-PER', 'I-PER', 'B-ORG', 'I-ORG', 'B-MISC', 'I-MISC']\n",
    "\n",
    "    #dictionnaire pour stocker les scores\n",
    "    scores = {}\n",
    "\n",
    "    #calculer les scores pour chaque label spécifié\n",
    "    for label in labels:\n",
    "        #On récupère les indices des étiquettes vraies et prédites correspondant à l'étiquette actuelle\n",
    "        indices_true = [i for i, x in enumerate(true_labels) if x == label]\n",
    "        indices_pred = [i for i, x in enumerate(predicted_labels) if x == label]\n",
    "\n",
    "        #On convertie les étiquettes en format binaire (1 si l'indice est présent, 0 sinon)\n",
    "        true_labels_binary = [1 if i in indices_true else 0 for i in range(len(true_labels))]\n",
    "        predicted_labels_binary = [1 if i in indices_pred else 0 for i in range(len(predicted_labels))]\n",
    "\n",
    "        #On calcule les scores de précision, rappel et F1-score pour l'étiquette actuelle\n",
    "        precision, recall, f1_score, _ = precision_recall_fscore_support(true_labels_binary, predicted_labels_binary, average='binary', zero_division=0)\n",
    "\n",
    "        #On stocke les scores dans le dictionnaire\n",
    "        scores[label] = {'Recall': recall, 'Precision': precision, 'F1-score': f1_score}\n",
    "\n",
    "    #On calcule les scores globaux pour l'ensemble des étiquettes\n",
    "    true_labels_binary_global = ['B-' in x or 'I-' in x for x in true_labels]\n",
    "    predicted_labels_binary_global = ['B-' in x or 'I-' in x for x in predicted_labels]\n",
    "\n",
    "    precision_global, recall_global, f1_score_global, _ = precision_recall_fscore_support(true_labels_binary_global, predicted_labels_binary_global, average='binary', zero_division=0)\n",
    "\n",
    "    #On stocke les scores globaux dans le dictionnaire\n",
    "    scores['Global'] = {'Recall': recall_global, 'Precision': precision_global, 'F1-score': f1_score_global}\n",
    "\n",
    "    return scores\n"
   ]
  },
  {
   "cell_type": "code",
   "execution_count": 16,
   "metadata": {
    "id": "mOCsDEf9sHt9",
    "tags": []
   },
   "outputs": [
    {
     "name": "stdout",
     "output_type": "stream",
     "text": [
      "B-LOC: Recall = 0.00, Precision = 0.00, F1-score = 0.00\n",
      "I-LOC: Recall = 0.00, Precision = 0.00, F1-score = 0.00\n",
      "B-PER: Recall = 0.00, Precision = 0.00, F1-score = 0.00\n",
      "I-PER: Recall = 0.00, Precision = 0.00, F1-score = 0.00\n",
      "B-ORG: Recall = 0.00, Precision = 0.00, F1-score = 0.00\n",
      "I-ORG: Recall = 0.00, Precision = 0.00, F1-score = 0.00\n",
      "B-MISC: Recall = 0.00, Precision = 0.00, F1-score = 0.00\n",
      "I-MISC: Recall = 0.00, Precision = 0.00, F1-score = 0.00\n",
      "Global: Recall = 0.00, Precision = 0.00, F1-score = 0.00\n",
      "Global: Recall = 0.00, Precision = 0.00, F1-score = 0.00\n"
     ]
    }
   ],
   "source": [
    "#On extrait des étiquettes vraies du DataFrame de test du début\n",
    "true_labels = test_df.groupby(\"SENTENCE\")[\"NE\"].apply(list).tolist()\n",
    "\n",
    "#On nettoie les étiquettes prédites en enlevant les étiquettes vides\n",
    "#Il faut les même longueurs pour les étiquettes prédits et véritables\n",
    "predicted_labels_cleaned = [[label for label in sequence if label != ''] for sequence in predicted_labels]\n",
    "\n",
    "#On calcule les scores en utilisant la fonction calculate_scores définit plus haut\n",
    "scores = calculate_scores(true_labels, predicted_labels_cleaned)\n",
    "\n",
    "#On affiche les scores pour chaque étiquette et pour le score global\n",
    "for label, score in scores.items():\n",
    "    print(f\"{label}: Recall = {score['Recall']:.2f}, Precision = {score['Precision']:.2f}, F1-score = {score['F1-score']:.2f}\")\n",
    "\n",
    "#Score global\n",
    "print(\"Global: Recall = {:.2f}, Precision = {:.2f}, F1-score = {:.2f}\".format(scores['Global']['Recall'], scores['Global']['Precision'], scores['Global']['F1-score']))\n"
   ]
  },
  {
   "cell_type": "code",
   "execution_count": 19,
   "metadata": {
    "tags": []
   },
   "outputs": [
    {
     "name": "stdout",
     "output_type": "stream",
     "text": [
      "B-LOC : 394961\n",
      "B-MISC : 28211\n",
      "B-ORG : 3131\n",
      "B-PER : 2479\n",
      "I-LOC : 2212\n",
      "I-MISC : 4052\n",
      "I-ORG : 5731\n",
      "I-PER : 4861\n",
      "O : 11054\n"
     ]
    }
   ],
   "source": [
    "# Utilisation de np.unique avec return_counts=True\n",
    "elements, occurrences = np.unique(predicted_labels_cleaned, return_counts=True)\n",
    "\n",
    "# Affichage des éléments et de leurs occurrences\n",
    "for elem, count in zip(elements, occurrences):\n",
    "    print(elem, \":\", count)"
   ]
  },
  {
   "cell_type": "markdown",
   "metadata": {
    "id": "3XQnXo98sHt9"
   },
   "source": [
    "# <span style=\"color:#00369c;\">Améliorer le modèle</span>"
   ]
  },
  {
   "cell_type": "markdown",
   "metadata": {
    "id": "EN0feWvF-ln1"
   },
   "source": [
    "## Tokeniser\n",
    "### Méthode 1 : utilisée jusqu'à maintenant\n",
    "Dans la première façon (en suivant l'énoncé du sujet du TP), nous avons :\n",
    "- créer des  séquences de tokens et encoder les étiquettes en vecteurs one-hot\n",
    "- convertis les tokens en séquences d'entiers à l'aide d'un dictionnaire qui mappe chaque token à un entier unique\n",
    "\n",
    "### Méthode 2  : utilisation d'un tokenizer pré-entrainé\n",
    "Dans la 2e méthode qu'on propose est :\n",
    "- utiliser un tokenizer pré-entraîné de la bibliothèque Transformers pour tokeniser les échantillons (ici on a choisi bert-base-cased comme modèle) et donc créer les séquences de sous-tokens.\n",
    "- pour les étiquettes, elles sont mappées aux indices des étiquettes définis dans un schéma spécifié (valeurs possibles de NE)\n",
    "\n",
    "### Avantages :\n",
    "- <b>Représentations de mots contextualisées :</b> contrairement à la méthode one-hot, BERT produit des représentations de mots qui sont contextualisées (chaque mot est représenté de manière dynamique en fonction des mots qui l'entourent dans la phrase).\n",
    "- <b>Gestion des sous-mots (subwords) : </b> BERT utilise un tokenizer qui peut diviser les tokens en sous-tokens plus petits => gestion des tokens rares ou inconnus en les décomposant en parties plus petits qui peuvent être mieux compris. Exemple : si un modèle n'a jamais vu le token \"anticonstitutionnellement\", il peut le diviser en sous-token plus courts comme \"anti\", \"constitution\", \"elle\", \"ment\", qui peuvent être plus facilement reconnus.  \n",
    "- <b>Amélioration de la performance :</b> les deux avantages ci-dessus impliquent une performance meilleure sur une variété de tâches de traitement du langage naturel comme la détection de NE.\n",
    "\n",
    "## Modèle\n",
    "### Méthode 1 : NER1 (sujet)\n",
    "- architecture de type séquentielle\n",
    "- une couche d'embedding suivie d'une couche LSTM (Long Short-Term Memory) avec un retour de séquence (return_sequences=True)\n",
    "- partie linéaire avec une couche Dense avec une activation softmax, enveloppée dans une couche TimeDistributed, pour la classification de chaque token\n",
    "\n",
    "### Méthode 2 : BERT\n",
    "- architecture type BERT\n",
    "- plusieurs couches dont une couche principale \"bert\" (TFBertMainLayer) qui effectue l'extraction de caractéristiques à partir des données d'entrée.\n",
    "- il comporte une couche Dense pour la classification des tokens.\n",
    "\n",
    "### Avantage du modèle BERT\n",
    "- BERT capture les informations contextuelles et séquentielles à partir de l'ensemble du texte donc meilleure compréhension du sens des mots.\n",
    "- BERT est pré-entraîné sur de vastes corpus de texte non annotés, lui permettant d'apprendre des représentations linguistiques générales\n",
    "- BERT peut-être fine-tuné sur des données annotées (ici on a choisi un nombre d'epochs faible pour limiter le temps de calcul).\n"
   ]
  },
  {
   "cell_type": "code",
   "execution_count": 1,
   "metadata": {
    "colab": {
     "base_uri": "https://localhost:8080/"
    },
    "id": "DNWSVU_esSPc",
    "outputId": "077d8bec-299e-463f-8463-f48612736100"
   },
   "outputs": [
    {
     "name": "stdout",
     "output_type": "stream",
     "text": [
      "Collecting datasets\n",
      "  Downloading datasets-2.18.0-py3-none-any.whl (510 kB)\n",
      "\u001b[2K     \u001b[90m━━━━━━━━━━━━━━━━━━━━━━━━━━━━━━━━━━━━━━━━\u001b[0m \u001b[32m510.5/510.5 kB\u001b[0m \u001b[31m3.7 MB/s\u001b[0m eta \u001b[36m0:00:00\u001b[0m\n",
      "\u001b[?25hRequirement already satisfied: filelock in /usr/local/lib/python3.10/dist-packages (from datasets) (3.13.1)\n",
      "Requirement already satisfied: numpy>=1.17 in /usr/local/lib/python3.10/dist-packages (from datasets) (1.25.2)\n",
      "Requirement already satisfied: pyarrow>=12.0.0 in /usr/local/lib/python3.10/dist-packages (from datasets) (14.0.2)\n",
      "Requirement already satisfied: pyarrow-hotfix in /usr/local/lib/python3.10/dist-packages (from datasets) (0.6)\n",
      "Collecting dill<0.3.9,>=0.3.0 (from datasets)\n",
      "  Downloading dill-0.3.8-py3-none-any.whl (116 kB)\n",
      "\u001b[2K     \u001b[90m━━━━━━━━━━━━━━━━━━━━━━━━━━━━━━━━━━━━━━━━\u001b[0m \u001b[32m116.3/116.3 kB\u001b[0m \u001b[31m13.9 MB/s\u001b[0m eta \u001b[36m0:00:00\u001b[0m\n",
      "\u001b[?25hRequirement already satisfied: pandas in /usr/local/lib/python3.10/dist-packages (from datasets) (1.5.3)\n",
      "Requirement already satisfied: requests>=2.19.0 in /usr/local/lib/python3.10/dist-packages (from datasets) (2.31.0)\n",
      "Requirement already satisfied: tqdm>=4.62.1 in /usr/local/lib/python3.10/dist-packages (from datasets) (4.66.2)\n",
      "Requirement already satisfied: xxhash in /usr/local/lib/python3.10/dist-packages (from datasets) (3.4.1)\n",
      "Collecting multiprocess (from datasets)\n",
      "  Downloading multiprocess-0.70.16-py310-none-any.whl (134 kB)\n",
      "\u001b[2K     \u001b[90m━━━━━━━━━━━━━━━━━━━━━━━━━━━━━━━━━━━━━━━━\u001b[0m \u001b[32m134.8/134.8 kB\u001b[0m \u001b[31m16.3 MB/s\u001b[0m eta \u001b[36m0:00:00\u001b[0m\n",
      "\u001b[?25hRequirement already satisfied: fsspec[http]<=2024.2.0,>=2023.1.0 in /usr/local/lib/python3.10/dist-packages (from datasets) (2023.6.0)\n",
      "Requirement already satisfied: aiohttp in /usr/local/lib/python3.10/dist-packages (from datasets) (3.9.3)\n",
      "Requirement already satisfied: huggingface-hub>=0.19.4 in /usr/local/lib/python3.10/dist-packages (from datasets) (0.20.3)\n",
      "Requirement already satisfied: packaging in /usr/local/lib/python3.10/dist-packages (from datasets) (23.2)\n",
      "Requirement already satisfied: pyyaml>=5.1 in /usr/local/lib/python3.10/dist-packages (from datasets) (6.0.1)\n",
      "Requirement already satisfied: aiosignal>=1.1.2 in /usr/local/lib/python3.10/dist-packages (from aiohttp->datasets) (1.3.1)\n",
      "Requirement already satisfied: attrs>=17.3.0 in /usr/local/lib/python3.10/dist-packages (from aiohttp->datasets) (23.2.0)\n",
      "Requirement already satisfied: frozenlist>=1.1.1 in /usr/local/lib/python3.10/dist-packages (from aiohttp->datasets) (1.4.1)\n",
      "Requirement already satisfied: multidict<7.0,>=4.5 in /usr/local/lib/python3.10/dist-packages (from aiohttp->datasets) (6.0.5)\n",
      "Requirement already satisfied: yarl<2.0,>=1.0 in /usr/local/lib/python3.10/dist-packages (from aiohttp->datasets) (1.9.4)\n",
      "Requirement already satisfied: async-timeout<5.0,>=4.0 in /usr/local/lib/python3.10/dist-packages (from aiohttp->datasets) (4.0.3)\n",
      "Requirement already satisfied: typing-extensions>=3.7.4.3 in /usr/local/lib/python3.10/dist-packages (from huggingface-hub>=0.19.4->datasets) (4.10.0)\n",
      "Requirement already satisfied: charset-normalizer<4,>=2 in /usr/local/lib/python3.10/dist-packages (from requests>=2.19.0->datasets) (3.3.2)\n",
      "Requirement already satisfied: idna<4,>=2.5 in /usr/local/lib/python3.10/dist-packages (from requests>=2.19.0->datasets) (3.6)\n",
      "Requirement already satisfied: urllib3<3,>=1.21.1 in /usr/local/lib/python3.10/dist-packages (from requests>=2.19.0->datasets) (2.0.7)\n",
      "Requirement already satisfied: certifi>=2017.4.17 in /usr/local/lib/python3.10/dist-packages (from requests>=2.19.0->datasets) (2024.2.2)\n",
      "Requirement already satisfied: python-dateutil>=2.8.1 in /usr/local/lib/python3.10/dist-packages (from pandas->datasets) (2.8.2)\n",
      "Requirement already satisfied: pytz>=2020.1 in /usr/local/lib/python3.10/dist-packages (from pandas->datasets) (2023.4)\n",
      "Requirement already satisfied: six>=1.5 in /usr/local/lib/python3.10/dist-packages (from python-dateutil>=2.8.1->pandas->datasets) (1.16.0)\n",
      "Installing collected packages: dill, multiprocess, datasets\n",
      "Successfully installed datasets-2.18.0 dill-0.3.8 multiprocess-0.70.16\n"
     ]
    }
   ],
   "source": [
    "#Il est donc nécessaire d'installer ce package \"datasets\"\n",
    "!pip install datasets"
   ]
  },
  {
   "cell_type": "code",
   "execution_count": 2,
   "metadata": {
    "colab": {
     "base_uri": "https://localhost:8080/",
     "height": 333,
     "referenced_widgets": [
      "66b0ec0de45648588532bc1db0d06f42",
      "f98ad877cd794678b32bcd3c2f9939f9",
      "27a8716f49d2419c8e4fc46128ac6663",
      "12306e47d91843e984c08760ba85c5e1",
      "9194c4738cc24b2db90c7edd751de9eb",
      "b300c1577f6f493e8e1ef216dca9d9f9",
      "dfdadecafa5b4648b683dcf139f5b29e",
      "d8d172f16be7400fb53c78eb13cce24a",
      "3f7fce24b1204fe69a779faadb8bf99a",
      "b4afcc2ace784754a4bf06ba33c61700",
      "eb0e78520b4f458c975688a85ee4a499",
      "832c9163d7eb46b3b9b7135a4a440a0f",
      "2a974284ef374551b9051a21f55c527a",
      "2c23658f5eb94695a1ec2c686beac1f0",
      "385a8298d3a4440ba5a8c6382f582eb7",
      "9b88e9ef59814c8b9c39d3dcf76e880d",
      "0bb817b10daa48808f26e4735f4d744e",
      "7da63f75dfa04ca9867790b622c45837",
      "f1ee585c48324b5cb8dc900dd696942c",
      "54f551b6c0b94b8bbc4b62ede08b4fdd",
      "e82e833195ca48c789b10886f2a6a0a9",
      "c03e974e934d4fa181f33e50e73241a3",
      "9aff65dda0ce453da753013438f1aeb7",
      "4c5d37fcc2a5469ab092688a41e7b458",
      "4c4bcc10ae8c4e0aaabef0a8c80b1c61",
      "723f453206264c00adeb14ab9d8aae40",
      "dae74c8b558744968476efadaaf5b23b",
      "cc776e3b126e4794b56b25f56b345063",
      "800eae44f81847debad27b443128c428",
      "d3c5870f4669479bb23dcb0fb8941fa5",
      "f8e3bdd6b8ef4d3eaa63a94b75349811",
      "3bb3861dab144712857702bcadf88dc5",
      "35f02dea13ca4c88b43c7bf878d46856",
      "aa3718ed227a41a3bc45e3be8585c215",
      "52dab8a99db04d0b86f819733f1b48bf",
      "098052c0aa4b4cccbb3fa38589003163",
      "390cd3b434264df6a827d88cd53c4642",
      "b7c81335cc4e46e79a33fd87e2646424",
      "0209ed2e0a444717baae0cbc459d2b2b",
      "8cf5c773b3d44353b56392127fe7d48e",
      "bc6d37cc24624e1d8784de5df22a697c",
      "851a28bd8fb64431a5affe23ab0edfe9",
      "bde35ca06bfd414bbabb716aac928566",
      "59e34226d5194a5da4890cab7eaa517b",
      "9e0f69c2ae72408d9cfbf41d038fd948",
      "8f369f6b57534198830226c19fc3ac18",
      "3cf530011d364a169b17778ad8e88416",
      "66c7148eba8440c089c0647d2c587e98",
      "4138f0f359d94216b19c1ff5bdf094a3",
      "7e38732a9048485083d9ce464d992103",
      "a374e65c61eb465bb52dd9ab2ded4977",
      "2ca57068fbc8491bbac87fe849370877",
      "c809112d4241483d99bdd3495ff6548b",
      "97dbe7f00cb14a57a0d4a64bae07c221",
      "1c278ddc12e142569bd28c869356b16d",
      "ce51238ad2254fe797a4044f81975873",
      "f62ee1157d3a451e885289a1cfd2808f",
      "9c2089addd5e45fd96e37288a574801c",
      "6fb428b2e753473b896316278f74f4a5",
      "be442b6c59a04c1abe72edbc838952be",
      "d8150c5943eb47b599fffe6e54a3f5cf",
      "f681a994ad9e434ca201237c0ba867f8",
      "2691e4223470449785d9fbaaa2bfff84",
      "2947b8ddf400416284f02c0a30133418",
      "308df0b059314242a63f539b57ef8ee6",
      "c65c9b03426c415cab02297df0ca21bb"
     ]
    },
    "execution": {
     "iopub.execute_input": "2024-03-10T14:02:54.434640Z",
     "iopub.status.busy": "2024-03-10T14:02:54.433613Z",
     "iopub.status.idle": "2024-03-10T14:03:04.252089Z",
     "shell.execute_reply": "2024-03-10T14:03:04.251105Z",
     "shell.execute_reply.started": "2024-03-10T14:02:54.434591Z"
    },
    "id": "fzBE2EmjsHt9",
    "outputId": "57296e23-6ee6-4b39-e39d-c3cd2e51e9e1"
   },
   "outputs": [
    {
     "name": "stderr",
     "output_type": "stream",
     "text": [
      "/usr/local/lib/python3.10/dist-packages/huggingface_hub/utils/_token.py:88: UserWarning: \n",
      "The secret `HF_TOKEN` does not exist in your Colab secrets.\n",
      "To authenticate with the Hugging Face Hub, create a token in your settings tab (https://huggingface.co/settings/tokens), set it as secret in your Google Colab and restart your session.\n",
      "You will be able to reuse this secret in all of your notebooks.\n",
      "Please note that authentication is recommended but still optional to access public models or datasets.\n",
      "  warnings.warn(\n"
     ]
    },
    {
     "data": {
      "application/vnd.jupyter.widget-view+json": {
       "model_id": "66b0ec0de45648588532bc1db0d06f42",
       "version_major": 2,
       "version_minor": 0
      },
      "text/plain": [
       "Downloading data:   0%|          | 0.00/1.23M [00:00<?, ?B/s]"
      ]
     },
     "metadata": {},
     "output_type": "display_data"
    },
    {
     "data": {
      "application/vnd.jupyter.widget-view+json": {
       "model_id": "832c9163d7eb46b3b9b7135a4a440a0f",
       "version_major": 2,
       "version_minor": 0
      },
      "text/plain": [
       "Downloading data:   0%|          | 0.00/312k [00:00<?, ?B/s]"
      ]
     },
     "metadata": {},
     "output_type": "display_data"
    },
    {
     "data": {
      "application/vnd.jupyter.widget-view+json": {
       "model_id": "9aff65dda0ce453da753013438f1aeb7",
       "version_major": 2,
       "version_minor": 0
      },
      "text/plain": [
       "Downloading data:   0%|          | 0.00/283k [00:00<?, ?B/s]"
      ]
     },
     "metadata": {},
     "output_type": "display_data"
    },
    {
     "data": {
      "application/vnd.jupyter.widget-view+json": {
       "model_id": "aa3718ed227a41a3bc45e3be8585c215",
       "version_major": 2,
       "version_minor": 0
      },
      "text/plain": [
       "Generating train split:   0%|          | 0/14041 [00:00<?, ? examples/s]"
      ]
     },
     "metadata": {},
     "output_type": "display_data"
    },
    {
     "data": {
      "application/vnd.jupyter.widget-view+json": {
       "model_id": "9e0f69c2ae72408d9cfbf41d038fd948",
       "version_major": 2,
       "version_minor": 0
      },
      "text/plain": [
       "Generating validation split:   0%|          | 0/3250 [00:00<?, ? examples/s]"
      ]
     },
     "metadata": {},
     "output_type": "display_data"
    },
    {
     "data": {
      "application/vnd.jupyter.widget-view+json": {
       "model_id": "ce51238ad2254fe797a4044f81975873",
       "version_major": 2,
       "version_minor": 0
      },
      "text/plain": [
       "Generating test split:   0%|          | 0/3453 [00:00<?, ? examples/s]"
      ]
     },
     "metadata": {},
     "output_type": "display_data"
    }
   ],
   "source": [
    "#Import des données de compétitions conll2003\n",
    "from datasets import load_dataset\n",
    "\n",
    "dataset_brute = load_dataset(\"conll2003\")"
   ]
  },
  {
   "cell_type": "code",
   "execution_count": 3,
   "metadata": {
    "colab": {
     "base_uri": "https://localhost:8080/"
    },
    "execution": {
     "iopub.execute_input": "2024-03-10T14:03:04.253885Z",
     "iopub.status.busy": "2024-03-10T14:03:04.253564Z",
     "iopub.status.idle": "2024-03-10T14:03:04.260801Z",
     "shell.execute_reply": "2024-03-10T14:03:04.259688Z",
     "shell.execute_reply.started": "2024-03-10T14:03:04.253858Z"
    },
    "id": "yFurkNzwsHt-",
    "outputId": "f951392d-ad3a-41f1-964a-899ea3e74998"
   },
   "outputs": [
    {
     "data": {
      "text/plain": [
       "DatasetDict({\n",
       "    train: Dataset({\n",
       "        features: ['id', 'tokens', 'pos_tags', 'chunk_tags', 'ner_tags'],\n",
       "        num_rows: 14041\n",
       "    })\n",
       "    validation: Dataset({\n",
       "        features: ['id', 'tokens', 'pos_tags', 'chunk_tags', 'ner_tags'],\n",
       "        num_rows: 3250\n",
       "    })\n",
       "    test: Dataset({\n",
       "        features: ['id', 'tokens', 'pos_tags', 'chunk_tags', 'ner_tags'],\n",
       "        num_rows: 3453\n",
       "    })\n",
       "})"
      ]
     },
     "execution_count": 3,
     "metadata": {},
     "output_type": "execute_result"
    }
   ],
   "source": [
    "#Forme des données\n",
    "dataset_brute"
   ]
  },
  {
   "cell_type": "code",
   "execution_count": 4,
   "metadata": {
    "colab": {
     "base_uri": "https://localhost:8080/"
    },
    "execution": {
     "iopub.execute_input": "2024-03-10T14:03:04.262185Z",
     "iopub.status.busy": "2024-03-10T14:03:04.261911Z",
     "iopub.status.idle": "2024-03-10T14:03:04.304207Z",
     "shell.execute_reply": "2024-03-10T14:03:04.303356Z",
     "shell.execute_reply.started": "2024-03-10T14:03:04.262162Z"
    },
    "id": "0dxtNzB5sHt-",
    "outputId": "7eeee3b3-cc7b-4d90-b3b3-2412ac736d01"
   },
   "outputs": [
    {
     "name": "stdout",
     "output_type": "stream",
     "text": [
      "Tokens : partie entrainement\n",
      "['EU', 'rejects', 'German', 'call', 'to', 'boycott', 'British', 'lamb', '.']\n",
      "\n",
      "\n",
      "Tags ner : partie entrainement\n",
      "[3, 0, 7, 0, 0, 0, 7, 0, 0]\n"
     ]
    }
   ],
   "source": [
    "#Etude des données\n",
    "print(\"Tokens : partie entrainement\")\n",
    "print(dataset_brute[\"train\"][0][\"tokens\"])\n",
    "\n",
    "print(\"\\n\")\n",
    "print(\"Tags ner : partie entrainement\")\n",
    "print(dataset_brute[\"train\"][0][\"ner_tags\"])"
   ]
  },
  {
   "cell_type": "code",
   "execution_count": 5,
   "metadata": {
    "colab": {
     "base_uri": "https://localhost:8080/"
    },
    "execution": {
     "iopub.execute_input": "2024-03-10T14:04:13.893470Z",
     "iopub.status.busy": "2024-03-10T14:04:13.892796Z",
     "iopub.status.idle": "2024-03-10T14:04:13.899902Z",
     "shell.execute_reply": "2024-03-10T14:04:13.898974Z",
     "shell.execute_reply.started": "2024-03-10T14:04:13.893440Z"
    },
    "id": "_g-xleEosHt-",
    "outputId": "3fa39481-aaf7-49c8-e9ea-ebd6a22967f1"
   },
   "outputs": [
    {
     "data": {
      "text/plain": [
       "['O', 'B-PER', 'I-PER', 'B-ORG', 'I-ORG', 'B-LOC', 'I-LOC', 'B-MISC', 'I-MISC']"
      ]
     },
     "execution_count": 5,
     "metadata": {},
     "output_type": "execute_result"
    }
   ],
   "source": [
    "#Labels possible\n",
    "ner = dataset_brute[\"train\"].features[\"ner_tags\"]\n",
    "nom_labels = ner.feature.names\n",
    "nom_labels"
   ]
  },
  {
   "cell_type": "code",
   "execution_count": 6,
   "metadata": {
    "colab": {
     "base_uri": "https://localhost:8080/",
     "height": 145,
     "referenced_widgets": [
      "7768db31aeeb4bc1819221bdd52449dd",
      "44e3055940ba48edad1b4450d1786db3",
      "b9ce516243cf4809b3abc0b7b48e5b9d",
      "0bcf0c00ac2f47a296edf2c82e1bbc7c",
      "33930400e8ce40a686a014a56eeaa794",
      "10dd7634c9094e5f9cfce87fa9a469dd",
      "019840352134493c8ebd23ca766bc477",
      "d38f34e5816941d2b773259fc2ed56d9",
      "b98106543871429d9ffecf5c1f25d0f0",
      "007df8918561453d887ab7925755162e",
      "3c6c9753ad6549c7b89193869c36b737",
      "6879c10a73a3426ea5b48b6dbc24d639",
      "83de1a62e4b94e88b3967d09c2c7ef9e",
      "00dbb973bfba44428d7301cb0e913d7f",
      "bf09b425c3f14ff38bcb03589e025aaa",
      "7771305d4d124d27ae90bdea61e234ea",
      "b7bac9ff4cd84f788f7e281f759b0d0b",
      "20b13c2748ff438fbd6b0af54a6cf9ce",
      "e92af131082c453da216e9a0f0cdbcb9",
      "46904a32580344b89b4b1c5272019f87",
      "ca8f61dfd4fa401baba72a01ab888925",
      "c7722ccaafc04100a328881e2ac8341c",
      "f919ba53d4394d4797da7b207a982889",
      "7860dee2eb3a4c33a4d9e517666d76fc",
      "82f406fc6d8245e7a9e8d1ec1feab87c",
      "e669cfd80b3d42c0883817b7ea022ad0",
      "d4d46352fcaa4f23a15a30a3e3fd523b",
      "1c6323763ace4b229fef4488c17d9b75",
      "db6da9514d7a4a8eb69f940c8a1f5ca5",
      "a10683c41f97464c857a76ff54974811",
      "09b28edaccc94e689272b7492f1acb21",
      "3b6cce88168845c6a42364afc4a17d5e",
      "790ae566f7954ad2aef82214e9bed2a1",
      "24486130fc4a45f69ae9d7785b53f3dc",
      "25126bcdb4de44bbba4f0738b0d9c1c6",
      "061b043e756d4ee29832cae299378afd",
      "4565c01167a94c1c9ec58f978ac17e34",
      "2a5bb026cfb6420c9de65c66ba618172",
      "550403b0ada849438542cbaeca6f174d",
      "836a29d097c0495e86680c2342c3f652",
      "dd93cd0301a842529474eed8f2eda54e",
      "8351412657fb4e318c1e5bd089d4de94",
      "fcfbc7c1488a42678cec39473ab6ee01",
      "2f0f784c24d3421087b02f9e26f358bd"
     ]
    },
    "execution": {
     "iopub.execute_input": "2024-03-10T14:04:16.194911Z",
     "iopub.status.busy": "2024-03-10T14:04:16.194479Z",
     "iopub.status.idle": "2024-03-10T14:04:26.189185Z",
     "shell.execute_reply": "2024-03-10T14:04:26.188124Z",
     "shell.execute_reply.started": "2024-03-10T14:04:16.194882Z"
    },
    "id": "v859q8xgsHt_",
    "outputId": "21fa402e-32e0-461d-e9ab-551111d2f415"
   },
   "outputs": [
    {
     "data": {
      "application/vnd.jupyter.widget-view+json": {
       "model_id": "7768db31aeeb4bc1819221bdd52449dd",
       "version_major": 2,
       "version_minor": 0
      },
      "text/plain": [
       "tokenizer_config.json:   0%|          | 0.00/49.0 [00:00<?, ?B/s]"
      ]
     },
     "metadata": {},
     "output_type": "display_data"
    },
    {
     "data": {
      "application/vnd.jupyter.widget-view+json": {
       "model_id": "6879c10a73a3426ea5b48b6dbc24d639",
       "version_major": 2,
       "version_minor": 0
      },
      "text/plain": [
       "config.json:   0%|          | 0.00/570 [00:00<?, ?B/s]"
      ]
     },
     "metadata": {},
     "output_type": "display_data"
    },
    {
     "data": {
      "application/vnd.jupyter.widget-view+json": {
       "model_id": "f919ba53d4394d4797da7b207a982889",
       "version_major": 2,
       "version_minor": 0
      },
      "text/plain": [
       "vocab.txt:   0%|          | 0.00/213k [00:00<?, ?B/s]"
      ]
     },
     "metadata": {},
     "output_type": "display_data"
    },
    {
     "data": {
      "application/vnd.jupyter.widget-view+json": {
       "model_id": "24486130fc4a45f69ae9d7785b53f3dc",
       "version_major": 2,
       "version_minor": 0
      },
      "text/plain": [
       "tokenizer.json:   0%|          | 0.00/436k [00:00<?, ?B/s]"
      ]
     },
     "metadata": {},
     "output_type": "display_data"
    }
   ],
   "source": [
    "#Import du tokeniser pré-entrainé BERT\n",
    "from transformers import AutoTokenizer\n",
    "\n",
    "nom_model_tokeniser = \"bert-base-cased\"\n",
    "tokenizer = AutoTokenizer.from_pretrained(nom_model_tokeniser)"
   ]
  },
  {
   "cell_type": "code",
   "execution_count": 7,
   "metadata": {
    "colab": {
     "base_uri": "https://localhost:8080/"
    },
    "execution": {
     "iopub.execute_input": "2024-03-10T14:04:26.191737Z",
     "iopub.status.busy": "2024-03-10T14:04:26.191112Z",
     "iopub.status.idle": "2024-03-10T14:04:26.201360Z",
     "shell.execute_reply": "2024-03-10T14:04:26.200447Z",
     "shell.execute_reply.started": "2024-03-10T14:04:26.191700Z"
    },
    "id": "8KBAU0mIsHt_",
    "outputId": "b33d2c4f-d582-41c1-d092-35aba9df9790"
   },
   "outputs": [
    {
     "data": {
      "text/plain": [
       "['[CLS]',\n",
       " 'Israel',\n",
       " 'on',\n",
       " 'Wednesday',\n",
       " 'sent',\n",
       " 'Syria',\n",
       " 'a',\n",
       " 'message',\n",
       " ',',\n",
       " 'via',\n",
       " 'Washington',\n",
       " ',',\n",
       " 'saying',\n",
       " 'it',\n",
       " 'was',\n",
       " 'committed',\n",
       " 'to',\n",
       " 'peace',\n",
       " 'and',\n",
       " 'wanted',\n",
       " 'to',\n",
       " 'open',\n",
       " 'negotiations',\n",
       " 'without',\n",
       " 'pre',\n",
       " '##con',\n",
       " '##ditions',\n",
       " '.',\n",
       " '[SEP]']"
      ]
     },
     "execution_count": 7,
     "metadata": {},
     "output_type": "execute_result"
    }
   ],
   "source": [
    "# Tokens après tokenisation\n",
    "inputs = tokenizer(dataset_brute[\"train\"][102][\"tokens\"], is_split_into_words=True)\n",
    "inputs.tokens()"
   ]
  },
  {
   "cell_type": "code",
   "execution_count": 8,
   "metadata": {
    "colab": {
     "base_uri": "https://localhost:8080/"
    },
    "execution": {
     "iopub.execute_input": "2024-03-10T14:04:26.203400Z",
     "iopub.status.busy": "2024-03-10T14:04:26.202812Z",
     "iopub.status.idle": "2024-03-10T14:04:26.216767Z",
     "shell.execute_reply": "2024-03-10T14:04:26.215672Z",
     "shell.execute_reply.started": "2024-03-10T14:04:26.203367Z"
    },
    "id": "8yA42zEZsHt_",
    "outputId": "6b6081b7-ae12-4b55-8967-7d96800922f9"
   },
   "outputs": [
    {
     "data": {
      "text/plain": [
       "['Israel',\n",
       " 'on',\n",
       " 'Wednesday',\n",
       " 'sent',\n",
       " 'Syria',\n",
       " 'a',\n",
       " 'message',\n",
       " ',',\n",
       " 'via',\n",
       " 'Washington',\n",
       " ',',\n",
       " 'saying',\n",
       " 'it',\n",
       " 'was',\n",
       " 'committed',\n",
       " 'to',\n",
       " 'peace',\n",
       " 'and',\n",
       " 'wanted',\n",
       " 'to',\n",
       " 'open',\n",
       " 'negotiations',\n",
       " 'without',\n",
       " 'preconditions',\n",
       " '.']"
      ]
     },
     "execution_count": 8,
     "metadata": {},
     "output_type": "execute_result"
    }
   ],
   "source": [
    "dataset_brute[\"train\"][102][\"tokens\"]"
   ]
  },
  {
   "cell_type": "markdown",
   "metadata": {
    "id": "_FC4nOj3sHuG"
   },
   "source": [
    "Ici on observe que le tokeniser a ajouté des tokens spéciaux caractérisant le début et la fin de la phrase ([CLS] et [SEP]). De même, on observe que le mot \"preconditions\" a été tokeniser en sous-tokens (pre, ##con et ##ditions). Il faudra donc modifier les sous-tokens afin d'obtenir les tokens entiers. Pour ceci, nous allons construire une fonction qui va ré-aligner les sous-tokens en tokens."
   ]
  },
  {
   "cell_type": "code",
   "execution_count": 9,
   "metadata": {
    "execution": {
     "iopub.execute_input": "2024-03-10T14:04:30.723367Z",
     "iopub.status.busy": "2024-03-10T14:04:30.722283Z",
     "iopub.status.idle": "2024-03-10T14:04:30.731982Z",
     "shell.execute_reply": "2024-03-10T14:04:30.730903Z",
     "shell.execute_reply.started": "2024-03-10T14:04:30.723333Z"
    },
    "id": "U1FJR6T0sHuG"
   },
   "outputs": [],
   "source": [
    "def aligner_étiquettes_avec_token(étiquettes, id_mots):\n",
    "    \"\"\"\n",
    "    Aligner les étiquettes avec les tokens correspondants en fonction des identifiants de mots.\n",
    "\n",
    "    Args:\n",
    "    - étiquettes (list): Liste des étiquettes correspondant à chaque mot dans la phrase.\n",
    "    - id_mots (list): Liste des identifiants de mots indiquant à quel mot chaque token appartient (id après tokenisation).\n",
    "\n",
    "    Returns:\n",
    "    - nouvelles_étiquettes (list): Liste des étiquettes alignées avec les tokens.\n",
    "\n",
    "    Explication:\n",
    "    Cette fonction aligne une liste d'étiquettes avec les tokens correspondants en fonction des identifiants de mots fournis.\n",
    "    Elle prend en compte les tokens spéciaux et assure que les étiquettes sont correctement alignées avec les tokens dans la phrase.\n",
    "    \"\"\"\n",
    "\n",
    "    #Liste vide pour stocker les étiquettes alignées\n",
    "    nouvelles_étiquettes = []\n",
    "\n",
    "    #Variable pour suivre le mot actuel\n",
    "    mot_actuel = None\n",
    "\n",
    "    # Itérer à travers les identifiants de mots\n",
    "    for id_mot in id_mots:\n",
    "        if id_mot != mot_actuel:\n",
    "            #Si on est en présence d'un nouveau mot\n",
    "            mot_actuel = id_mot\n",
    "\n",
    "            # On récupère l'étiquette pour le mot actuel avec son identifiant\n",
    "            # Si l'identifiant de mot est None (indiquant un token spécial), attribuer -100 comme étiquette (arbitraire)\n",
    "            étiquette = -100 if id_mot is None else étiquettes[id_mot]\n",
    "\n",
    "            # Ajouter l'étiquette à la liste des étiquettes alignées\n",
    "            nouvelles_étiquettes.append(étiquette)\n",
    "\n",
    "        elif id_mot is None:\n",
    "            # Si le mot est un token spécial, ajouter -100 comme étiquette pour les tokens spéciaux\n",
    "            nouvelles_étiquettes.append(-100)\n",
    "\n",
    "        else:\n",
    "            # Si le mot est le même que le token précédent\n",
    "            #On récupère l'étiquette pour le token actuel\n",
    "            étiquette = étiquettes[id_mot]\n",
    "\n",
    "            # Si l'étiquette est une balise de début (B-XXX), la changer en balise intérieure (I-XXX)\n",
    "            #En effet, vu qu'on est en présence du même mot alors la balise de début B devient la balise I\n",
    "            if étiquette % 2 == 1:\n",
    "                étiquette += 1\n",
    "\n",
    "            # Ajouter l'étiquette mise à jour à la liste des étiquettes alignées\n",
    "            nouvelles_étiquettes.append(étiquette)\n",
    "\n",
    "    # Retourner la liste des étiquettes alignées\n",
    "    return nouvelles_étiquettes\n"
   ]
  },
  {
   "cell_type": "code",
   "execution_count": 10,
   "metadata": {
    "colab": {
     "base_uri": "https://localhost:8080/"
    },
    "execution": {
     "iopub.execute_input": "2024-03-10T14:04:31.877991Z",
     "iopub.status.busy": "2024-03-10T14:04:31.877515Z",
     "iopub.status.idle": "2024-03-10T14:04:31.887515Z",
     "shell.execute_reply": "2024-03-10T14:04:31.886676Z",
     "shell.execute_reply.started": "2024-03-10T14:04:31.877954Z"
    },
    "id": "Bd1HJ_VusHuH",
    "outputId": "dfc97c20-3285-4f3b-c806-65bf9c66c839"
   },
   "outputs": [
    {
     "name": "stdout",
     "output_type": "stream",
     "text": [
      "Étiquettes du jeu de données original :\n",
      "[5, 0, 0, 0, 5, 0, 0, 0, 0, 5, 0, 0, 0, 0, 0, 0, 0, 0, 0, 0, 0, 0, 0, 0, 0]\n",
      "Longueur de la liste des étiquettes : 25\n",
      "\n",
      "\n",
      "Identifiants des tokens après tokenisation :\n",
      "[None, 0, 1, 2, 3, 4, 5, 6, 7, 8, 9, 10, 11, 12, 13, 14, 15, 16, 17, 18, 19, 20, 21, 22, 23, 23, 23, 24, None]\n",
      "\n",
      "\n",
      "Étiquettes après tokenisation (en incluant les tokens spéciaux) :\n",
      "[-100, 5, 0, 0, 0, 5, 0, 0, 0, 0, 5, 0, 0, 0, 0, 0, 0, 0, 0, 0, 0, 0, 0, 0, 0, 0, 0, 0, -100]\n",
      "Longueur de la liste des étiquettes : 29\n"
     ]
    }
   ],
   "source": [
    "# On compare sur une phrase\n",
    "\n",
    "# Étiquettes du jeu de données d'entraînement sans tokenisation\n",
    "étiquettes = dataset_brute[\"train\"][102][\"ner_tags\"]\n",
    "\n",
    "# Éléments tokenisés\n",
    "entrées = tokenizer(dataset_brute[\"train\"][102][\"tokens\"], is_split_into_words=True)\n",
    "id_mots = entrées.word_ids()  # Récupérer les identifiants après tokenisation (donc + tokens spéciaux)\n",
    "\n",
    "print(\"Étiquettes du jeu de données original :\")\n",
    "print(étiquettes)\n",
    "print(\"Longueur de la liste des étiquettes :\", len(étiquettes))\n",
    "\n",
    "print(\"\\n\")\n",
    "\n",
    "print(\"Identifiants des tokens après tokenisation :\")\n",
    "print(id_mots)\n",
    "\n",
    "print(\"\\n\")\n",
    "\n",
    "print(\"Étiquettes après tokenisation (en incluant les tokens spéciaux) :\")\n",
    "print(aligner_étiquettes_avec_token(étiquettes, id_mots))\n",
    "print(\"Longueur de la liste des étiquettes :\", len(aligner_étiquettes_avec_token(étiquettes, id_mots)))\n"
   ]
  },
  {
   "cell_type": "markdown",
   "metadata": {
    "id": "VWSKmuU2sHuI"
   },
   "source": [
    "Ici la fonction a bien pris en compte les différents tokens spéciaux et les sous-tokens après tokenisation"
   ]
  },
  {
   "cell_type": "code",
   "execution_count": 11,
   "metadata": {
    "execution": {
     "iopub.execute_input": "2024-03-10T14:04:33.880967Z",
     "iopub.status.busy": "2024-03-10T14:04:33.880334Z",
     "iopub.status.idle": "2024-03-10T14:04:33.888073Z",
     "shell.execute_reply": "2024-03-10T14:04:33.887124Z",
     "shell.execute_reply.started": "2024-03-10T14:04:33.880934Z"
    },
    "id": "k4CYI-bIsHuI"
   },
   "outputs": [],
   "source": [
    "def tokenise_aligne_etiquettes(exemples):\n",
    "    \"\"\"\n",
    "    On généralise à tous les ensembles de données (train, validation et test) donc le dataset \"dataset_brute\".\n",
    "\n",
    "    Args:\n",
    "    - exemples (dict): Dictionnaire d'exemples contenant les tokens et les étiquettes NER.\n",
    "\n",
    "    Returns:\n",
    "    - jetons_tokenisés (dict): Dictionnaire contenant les tokens tokenisés et les étiquettes alignées.\n",
    "\n",
    "    Explication:\n",
    "    Cette fonction prend en entrée un dictionnaire d'exemples contenant les tokens et les étiquettes NER.\n",
    "    Elle utilise le tokenizer pour tokeniser les jetons en entrée et récupère les identifiants de mots pour chaque exemple.\n",
    "    Ensuite, elle utilise la fonction `aligner_étiquettes_avec_token` pour aligner les étiquettes avec les tokens correspondants.\n",
    "    Enfin, elle ajoute les étiquettes alignées au dictionnaire des tokens tokenisés et retourne le résultat.\n",
    "    \"\"\"\n",
    "\n",
    "    #On tokénise les entrées avec le modèle pré-entrainés BERT\n",
    "    jetons_tokenisés = tokenizer(\n",
    "        exemples[\"tokens\"], truncation=True, is_split_into_words=True\n",
    "    )\n",
    "\n",
    "    #On récupère toutes les étiquettes NER\n",
    "    toutes_étiquettes = exemples[\"ner_tags\"]\n",
    "\n",
    "    #Liste pour stocker les nouvelles étiquettes alignées\n",
    "    nouvelles_étiquettes = []\n",
    "\n",
    "    #On parcourt toutes les étiquettes\n",
    "    for i, étiquettes in enumerate(toutes_étiquettes):\n",
    "        #id de mots pour chaque exemple\n",
    "        id_mots = jetons_tokenisés.word_ids(i)\n",
    "\n",
    "        #On utilise la fonction aligner_étiquettes_avec_token pour aligner les étiquettes avec les tokens correspondants\n",
    "        nouvelles_étiquettes.append(aligner_étiquettes_avec_token(étiquettes, id_mots))\n",
    "\n",
    "    #On ajoute les nouvelles étiquettes au dictionnaire des jetons tokenisés\n",
    "    jetons_tokenisés[\"labels\"] = nouvelles_étiquettes\n",
    "\n",
    "    return jetons_tokenisés\n"
   ]
  },
  {
   "cell_type": "code",
   "execution_count": 12,
   "metadata": {
    "colab": {
     "base_uri": "https://localhost:8080/",
     "height": 113,
     "referenced_widgets": [
      "ed6fa36fe3ba4668a986b24ef11e51e5",
      "643502449f4d4de0940e6faee9ddf5ab",
      "77907def59d24cb192356bc6154aa269",
      "325dde0a88864400ab24580d62b2a8d8",
      "e2d02ed4f8284afbb421417653d943e2",
      "2b4ea672262549299c6abc14ebdb3cc2",
      "84073318fdc74ae591b521b7aa19107a",
      "2efbd26818ea4019a339205594363246",
      "be3c69d847384761b83041d1ee88bc61",
      "4ca6cc39df764c2a8c96a104008504d7",
      "225fb7af4d8f43abb849594240da8f8f",
      "99c4d3b3e6cf4b07a2c442aa7680ce5b",
      "f1506496baba46c698253bd2765bc0da",
      "6e29f04f531c471abcddef01750fca9a",
      "6ca1e8c4b5784666810ee3478701a8b3",
      "3b17d1f88bb84e14aabcfbaaba5c34bd",
      "5f5e889294044b09a74d99d349ea4fb2",
      "fb4ba31745e54822b1e3670088aaae5a",
      "d4419bbda0ea4136904a67ed0a61a975",
      "f92d0c1729c946458bfad7e11001aad5",
      "3eda64955d3b40a8a7e33fed597181e1",
      "6c914741e1b845a2bdfe083ef30ec092",
      "597393335ad7421697e16f7a07c7f686",
      "ba38b3c8f5c9444898e37a062a025488",
      "811e693db5f84087926e71e26f358694",
      "7ca8aa2ce9b04a289804d5fdd74cdf78",
      "65a670d3afaa4488ba07e2bab10954a6",
      "322741fb757a4d55be4f4cfa53b82d13",
      "73e82f3b77e84b668fb9ff352350f579",
      "6aacd12c468f431c9fa15604f97595ff",
      "f0dd92f45a9e425ba7f72bef02b622fe",
      "88a0ddee805b4ce99466d457fc8bf00c",
      "8b0091d20d8d45f994028adf75f0e630"
     ]
    },
    "execution": {
     "iopub.execute_input": "2024-03-10T14:04:36.054866Z",
     "iopub.status.busy": "2024-03-10T14:04:36.054142Z",
     "iopub.status.idle": "2024-03-10T14:04:39.245575Z",
     "shell.execute_reply": "2024-03-10T14:04:39.244816Z",
     "shell.execute_reply.started": "2024-03-10T14:04:36.054832Z"
    },
    "id": "mM2oRr1zsHuI",
    "outputId": "73b2b157-7c55-4e0f-83bc-c69b9cac36e6"
   },
   "outputs": [
    {
     "data": {
      "application/vnd.jupyter.widget-view+json": {
       "model_id": "ed6fa36fe3ba4668a986b24ef11e51e5",
       "version_major": 2,
       "version_minor": 0
      },
      "text/plain": [
       "Map:   0%|          | 0/14041 [00:00<?, ? examples/s]"
      ]
     },
     "metadata": {},
     "output_type": "display_data"
    },
    {
     "data": {
      "application/vnd.jupyter.widget-view+json": {
       "model_id": "99c4d3b3e6cf4b07a2c442aa7680ce5b",
       "version_major": 2,
       "version_minor": 0
      },
      "text/plain": [
       "Map:   0%|          | 0/3250 [00:00<?, ? examples/s]"
      ]
     },
     "metadata": {},
     "output_type": "display_data"
    },
    {
     "data": {
      "application/vnd.jupyter.widget-view+json": {
       "model_id": "597393335ad7421697e16f7a07c7f686",
       "version_major": 2,
       "version_minor": 0
      },
      "text/plain": [
       "Map:   0%|          | 0/3453 [00:00<?, ? examples/s]"
      ]
     },
     "metadata": {},
     "output_type": "display_data"
    }
   ],
   "source": [
    "#On applique la fonction \"tokenise_aligne_etiquettes\" à tous les exemples du jeu de données\n",
    "#Pour accélérer le processus de traitement des données, la fonction est appliquée à chaque lot d'exemples, permettant ainsi une parallélisation efficace des opérations\n",
    "\n",
    "# batched=True spécifie que la fonction sera appliquée par lots\n",
    "# remove_columns spécifie que les colonnes de dataset_brute seront supprimés dans le dataset après tokenisation\n",
    "#Ce qui évite d'avoir les colonnes du dataset brute dans le dataset après tokenisation\n",
    "\n",
    "tokenized_datasets = dataset_brute.map(\n",
    "    tokenise_aligne_etiquettes,\n",
    "    batched=True,\n",
    "    remove_columns=dataset_brute[\"train\"].column_names,\n",
    ")\n"
   ]
  },
  {
   "cell_type": "code",
   "execution_count": 13,
   "metadata": {
    "colab": {
     "base_uri": "https://localhost:8080/"
    },
    "execution": {
     "iopub.execute_input": "2024-03-10T14:04:41.391306Z",
     "iopub.status.busy": "2024-03-10T14:04:41.390443Z",
     "iopub.status.idle": "2024-03-10T14:04:41.396786Z",
     "shell.execute_reply": "2024-03-10T14:04:41.395745Z",
     "shell.execute_reply.started": "2024-03-10T14:04:41.391265Z"
    },
    "id": "qH5HLxcIsHuJ",
    "outputId": "35b08d56-2bc3-451b-c6eb-79c070379ba3"
   },
   "outputs": [
    {
     "data": {
      "text/plain": [
       "DatasetDict({\n",
       "    train: Dataset({\n",
       "        features: ['id', 'tokens', 'pos_tags', 'chunk_tags', 'ner_tags'],\n",
       "        num_rows: 14041\n",
       "    })\n",
       "    validation: Dataset({\n",
       "        features: ['id', 'tokens', 'pos_tags', 'chunk_tags', 'ner_tags'],\n",
       "        num_rows: 3250\n",
       "    })\n",
       "    test: Dataset({\n",
       "        features: ['id', 'tokens', 'pos_tags', 'chunk_tags', 'ner_tags'],\n",
       "        num_rows: 3453\n",
       "    })\n",
       "})"
      ]
     },
     "execution_count": 13,
     "metadata": {},
     "output_type": "execute_result"
    }
   ],
   "source": [
    "#Dataset original (sans tokenisation)\n",
    "dataset_brute"
   ]
  },
  {
   "cell_type": "code",
   "execution_count": 14,
   "metadata": {
    "colab": {
     "base_uri": "https://localhost:8080/"
    },
    "execution": {
     "iopub.execute_input": "2024-03-10T14:04:42.047152Z",
     "iopub.status.busy": "2024-03-10T14:04:42.046819Z",
     "iopub.status.idle": "2024-03-10T14:04:42.053114Z",
     "shell.execute_reply": "2024-03-10T14:04:42.052085Z",
     "shell.execute_reply.started": "2024-03-10T14:04:42.047126Z"
    },
    "id": "MuQ6DunWsHuJ",
    "outputId": "e8250e15-c8a1-4533-b8d7-d1337760a235"
   },
   "outputs": [
    {
     "data": {
      "text/plain": [
       "DatasetDict({\n",
       "    train: Dataset({\n",
       "        features: ['input_ids', 'token_type_ids', 'attention_mask', 'labels'],\n",
       "        num_rows: 14041\n",
       "    })\n",
       "    validation: Dataset({\n",
       "        features: ['input_ids', 'token_type_ids', 'attention_mask', 'labels'],\n",
       "        num_rows: 3250\n",
       "    })\n",
       "    test: Dataset({\n",
       "        features: ['input_ids', 'token_type_ids', 'attention_mask', 'labels'],\n",
       "        num_rows: 3453\n",
       "    })\n",
       "})"
      ]
     },
     "execution_count": 14,
     "metadata": {},
     "output_type": "execute_result"
    }
   ],
   "source": [
    "#Dataset tokenisé\n",
    "tokenized_datasets"
   ]
  },
  {
   "cell_type": "code",
   "execution_count": 15,
   "metadata": {
    "execution": {
     "iopub.execute_input": "2024-03-10T14:04:44.528340Z",
     "iopub.status.busy": "2024-03-10T14:04:44.527985Z",
     "iopub.status.idle": "2024-03-10T14:05:01.001955Z",
     "shell.execute_reply": "2024-03-10T14:05:01.001051Z",
     "shell.execute_reply.started": "2024-03-10T14:04:44.528312Z"
    },
    "id": "qTjmU_pgsHuK"
   },
   "outputs": [],
   "source": [
    "from transformers import DataCollatorForTokenClassification\n",
    "\n",
    "#On utilise DataCollatorForTokenClassification pour regrouper les données en lots pour l'entraînement de modèles de classification de tokens\n",
    "#Cela contribue à une convergence plus efficace du modèle et à des performances améliorées lors de la classification des tokens.\n",
    "\n",
    "data_collator = DataCollatorForTokenClassification(tokenizer=tokenizer)"
   ]
  },
  {
   "cell_type": "code",
   "execution_count": 16,
   "metadata": {
    "execution": {
     "iopub.execute_input": "2024-03-10T14:06:38.153042Z",
     "iopub.status.busy": "2024-03-10T14:06:38.152335Z",
     "iopub.status.idle": "2024-03-10T14:06:38.696242Z",
     "shell.execute_reply": "2024-03-10T14:06:38.694688Z",
     "shell.execute_reply.started": "2024-03-10T14:06:38.153010Z"
    },
    "id": "vj_Cu4ifsHuL"
   },
   "outputs": [],
   "source": [
    "#dataset TensorFlow pour l'entraînement à partir du dataset tokenisé pour l'ensemble d'entraînement\n",
    "tf_train_dataset = tokenized_datasets[\"train\"].to_tf_dataset(\n",
    "    columns=[\"input_ids\",\"attention_mask\", \"labels\", \"token_type_ids\"],  # Colonnes requises pour l'entraînement\n",
    "    collate_fn=data_collator,  # Collateur de données pour regrouper les exemples en lots\n",
    "    shuffle=True,  # Mélanger les exemples pour chaque epoch\n",
    "    batch_size=32,  # Taille des lots\n",
    ")\n",
    "\n",
    "# Création d'un dataset TensorFlow pour l'évaluation à partir du dataset tokenisé pour l'ensemble de test\n",
    "tf_eval_dataset = tokenized_datasets[\"test\"].to_tf_dataset(\n",
    "    columns=[\"input_ids\",\"attention_mask\", \"labels\", \"token_type_ids\"],  # Colonnes requises pour l'évaluation\n",
    "    collate_fn=data_collator,  # Collateur de données pour regrouper les exemples en lots\n",
    "    shuffle=False,  # Ne pas mélanger les exemples pour l'évaluation\n",
    "    batch_size=32,  # Taille des lots\n",
    ")\n"
   ]
  },
  {
   "cell_type": "code",
   "execution_count": 17,
   "metadata": {
    "colab": {
     "base_uri": "https://localhost:8080/"
    },
    "id": "AW_vODkXvtnE",
    "outputId": "fbf9aa02-1de1-4228-ec6a-a3d4cd38b732"
   },
   "outputs": [
    {
     "data": {
      "text/plain": [
       "Dataset({\n",
       "    features: ['input_ids', 'token_type_ids', 'attention_mask', 'labels'],\n",
       "    num_rows: 14041\n",
       "})"
      ]
     },
     "execution_count": 17,
     "metadata": {},
     "output_type": "execute_result"
    }
   ],
   "source": [
    "tokenized_datasets[\"train\"]"
   ]
  },
  {
   "cell_type": "code",
   "execution_count": 18,
   "metadata": {
    "colab": {
     "base_uri": "https://localhost:8080/"
    },
    "id": "qKoeXglFv9cB",
    "outputId": "921ecd91-b1c4-412f-9d0a-e13e8c70d970"
   },
   "outputs": [
    {
     "data": {
      "text/plain": [
       "[{'input_ids': [101,\n",
       "   7270,\n",
       "   22961,\n",
       "   1528,\n",
       "   1840,\n",
       "   1106,\n",
       "   21423,\n",
       "   1418,\n",
       "   2495,\n",
       "   12913,\n",
       "   119,\n",
       "   102],\n",
       "  'token_type_ids': [0, 0, 0, 0, 0, 0, 0, 0, 0, 0, 0, 0],\n",
       "  'attention_mask': [1, 1, 1, 1, 1, 1, 1, 1, 1, 1, 1, 1],\n",
       "  'labels': [-100, 3, 0, 7, 0, 0, 0, 7, 0, 0, 0, -100]},\n",
       " {'input_ids': [101, 1943, 14428, 102],\n",
       "  'token_type_ids': [0, 0, 0, 0],\n",
       "  'attention_mask': [1, 1, 1, 1],\n",
       "  'labels': [-100, 1, 2, -100]}]"
      ]
     },
     "execution_count": 18,
     "metadata": {},
     "output_type": "execute_result"
    }
   ],
   "source": [
    "[tokenized_datasets[\"train\"][i] for i in range(2)]"
   ]
  },
  {
   "cell_type": "code",
   "execution_count": 19,
   "metadata": {
    "colab": {
     "base_uri": "https://localhost:8080/"
    },
    "id": "qZ1W7ynSsHuL",
    "outputId": "fcb103ee-d042-4d7b-cea3-83cc26404cf7"
   },
   "outputs": [
    {
     "data": {
      "text/plain": [
       "tensor([[-100,    3,    0,    7,    0,    0,    0,    7,    0,    0,    0, -100],\n",
       "        [-100,    1,    2, -100, -100, -100, -100, -100, -100, -100, -100, -100]])"
      ]
     },
     "execution_count": 19,
     "metadata": {},
     "output_type": "execute_result"
    }
   ],
   "source": [
    "# On va créer un lot de données à partir des 2 premières phrases du jeu de données training\n",
    "# data_collator pour regrouper les exemples en lots de données pour que les données soient prête pour l'entrainement\n",
    "batch = data_collator([tokenized_datasets[\"train\"][i] for i in range(2)])\n",
    "batch[\"labels\"]"
   ]
  },
  {
   "cell_type": "code",
   "execution_count": 20,
   "metadata": {
    "colab": {
     "base_uri": "https://localhost:8080/"
    },
    "id": "ftGZdw1hsHuL",
    "outputId": "868f76fc-30a2-4041-c581-913ddde19ef1"
   },
   "outputs": [
    {
     "name": "stdout",
     "output_type": "stream",
     "text": [
      "[-100, 3, 0, 7, 0, 0, 0, 7, 0, 0, 0, -100]\n",
      "[-100, 1, 2, -100]\n"
     ]
    }
   ],
   "source": [
    "#Sans utiliser le data_collator, on a des données qui ne sont pas uniforme en terme de longueur de liste\n",
    "for i in range(2):\n",
    "    print(tokenized_datasets[\"train\"][i][\"labels\"])"
   ]
  },
  {
   "cell_type": "code",
   "execution_count": 21,
   "metadata": {
    "colab": {
     "base_uri": "https://localhost:8080/"
    },
    "id": "kw4PpkMfsHuL",
    "outputId": "c5957db7-e941-405c-9ea2-f3e34573d5d7"
   },
   "outputs": [
    {
     "name": "stdout",
     "output_type": "stream",
     "text": [
      "{'0': 'O', '1': 'B-PER', '2': 'I-PER', '3': 'B-ORG', '4': 'I-ORG', '5': 'B-LOC', '6': 'I-LOC', '7': 'B-MISC', '8': 'I-MISC'}\n",
      "{'O': '0', 'B-PER': '1', 'I-PER': '2', 'B-ORG': '3', 'I-ORG': '4', 'B-LOC': '5', 'I-LOC': '6', 'B-MISC': '7', 'I-MISC': '8'}\n"
     ]
    }
   ],
   "source": [
    "#On créé un dictionnaire de mapping des étiquettes ce qui va permettre de faire la correspondance entre le label numérique et sous forme de caractère\n",
    "id2label = {str(i): label for i, label in enumerate(nom_labels)}\n",
    "print(id2label)\n",
    "\n",
    "\n",
    "label2id = {v: k for k, v in id2label.items()}\n",
    "print(label2id)"
   ]
  },
  {
   "cell_type": "code",
   "execution_count": 22,
   "metadata": {
    "colab": {
     "base_uri": "https://localhost:8080/",
     "height": 138,
     "referenced_widgets": [
      "bd1f3ffa65a842298cf1d320a20e6016",
      "3eeb529371aa474e9d2b8d15682fa175",
      "c9730dcfcfcd4e0382dc412466373b97",
      "00d58e865df74ab693cd223e54e1c194",
      "e7e9a45761314b83a6cd04a7f46c62cc",
      "a8241de7cf444b0d926314d02b852b85",
      "bdcf4d073ad14207a404877925a766f0",
      "cb90777680494cf8886cda1c75e6bf60",
      "b2ae05addd1740c898d23d18e3a69e4d",
      "350328a44c4d4ed1999fd440102eea58",
      "3395200b4ce9443bab3c4424a0288829"
     ]
    },
    "id": "2o4EJkJ4sHuM",
    "outputId": "2d730558-ad9d-4319-80ba-69ca5f8b169a"
   },
   "outputs": [
    {
     "data": {
      "application/vnd.jupyter.widget-view+json": {
       "model_id": "bd1f3ffa65a842298cf1d320a20e6016",
       "version_major": 2,
       "version_minor": 0
      },
      "text/plain": [
       "model.safetensors:   0%|          | 0.00/436M [00:00<?, ?B/s]"
      ]
     },
     "metadata": {},
     "output_type": "display_data"
    },
    {
     "name": "stderr",
     "output_type": "stream",
     "text": [
      "All PyTorch model weights were used when initializing TFBertForTokenClassification.\n",
      "\n",
      "Some weights or buffers of the TF 2.0 model TFBertForTokenClassification were not initialized from the PyTorch model and are newly initialized: ['classifier.weight', 'classifier.bias']\n",
      "You should probably TRAIN this model on a down-stream task to be able to use it for predictions and inference.\n"
     ]
    }
   ],
   "source": [
    "from transformers import TFAutoModelForTokenClassification\n",
    "\n",
    "# Chargement du modèle pré-entraîné pour la classification de tokens\n",
    "model = TFAutoModelForTokenClassification.from_pretrained(\n",
    "    nom_model_tokeniser, #Modèle BERT\n",
    "    id2label=id2label,# Dictionnaire de correspondance des identifiants numériques aux noms des étiquettes\n",
    "    label2id=label2id,  # Dictionnaire de correspondance des noms des étiquettes aux identifiants numériques\n",
    ")"
   ]
  },
  {
   "cell_type": "code",
   "execution_count": 23,
   "metadata": {
    "colab": {
     "base_uri": "https://localhost:8080/"
    },
    "id": "9lQWy-7PsHuM",
    "outputId": "87626e18-2043-4885-d93c-cb8d15c42579"
   },
   "outputs": [
    {
     "data": {
      "text/plain": [
       "9"
      ]
     },
     "execution_count": 23,
     "metadata": {},
     "output_type": "execute_result"
    }
   ],
   "source": [
    "#Nb d'étiquettes unique\n",
    "model.config.num_labels"
   ]
  },
  {
   "cell_type": "code",
   "execution_count": 24,
   "metadata": {
    "id": "67hcRsNLsHuM"
   },
   "outputs": [],
   "source": [
    "from transformers import create_optimizer\n",
    "import tensorflow as tf\n",
    "from tensorflow.keras.utils import Sequence\n",
    "from tensorflow.keras.optimizers import Adam\n",
    "\n",
    "\n",
    "# Activation de l'entraînement en précision mixte float16\n",
    "# Cela utilise des nombres flottants 16 bits à la place des 32 bits habituels pour les calculs\n",
    "#La conséquence est la réduction de la taille des données et permet de traiter plus de données en parallèle.\n",
    "tf.keras.mixed_precision.set_global_policy(\"mixed_float16\")\n",
    "\n",
    "#Nb epochs (ici on a mis 3 pour )\n",
    "num_epochs = 3\n",
    "\n",
    "#Nb total d'étapes d'entraînement\n",
    "#Juste le nb d'epochs * le nb de la taille du dataset d'entrainement\n",
    "num_train_steps = len(tf_train_dataset) * num_epochs\n",
    "\n",
    "# Création de l'optimiseur et du scheduler d'entraînement\n",
    "optimizer, schedule = create_optimizer(\n",
    "    init_lr=2e-5, # Taux d'apprentissage initial\n",
    "    num_warmup_steps=0, # Nombre d'étapes de warmup\n",
    "    num_train_steps=num_train_steps, # Nombre total d'étapes d'entraînement\n",
    "    weight_decay_rate=0.01, # Taux de décroissance du poids\n",
    ")\n",
    "\n",
    "# Compilation du modèle\n",
    "model.compile(optimizer=optimizer)"
   ]
  },
  {
   "cell_type": "code",
   "execution_count": 25,
   "metadata": {
    "colab": {
     "base_uri": "https://localhost:8080/"
    },
    "id": "Lxa9EKKBsHuM",
    "outputId": "b1f5031f-a1db-4ed7-e086-0ea4fae47c45"
   },
   "outputs": [
    {
     "name": "stdout",
     "output_type": "stream",
     "text": [
      "Model: \"tf_bert_for_token_classification\"\n",
      "_________________________________________________________________\n",
      " Layer (type)                Output Shape              Param #   \n",
      "=================================================================\n",
      " bert (TFBertMainLayer)      multiple                  107719680 \n",
      "                                                                 \n",
      " dropout_37 (Dropout)        multiple                  0 (unused)\n",
      "                                                                 \n",
      " classifier (Dense)          multiple                  6921      \n",
      "                                                                 \n",
      "=================================================================\n",
      "Total params: 107726601 (410.94 MB)\n",
      "Trainable params: 107726601 (410.94 MB)\n",
      "Non-trainable params: 0 (0.00 Byte)\n",
      "_________________________________________________________________\n"
     ]
    }
   ],
   "source": [
    "model.summary()"
   ]
  },
  {
   "cell_type": "markdown",
   "metadata": {
    "id": "LBwgW1yu0nQl"
   },
   "source": [
    "Le modèle BERT est utilisé pour la tâche de classification des tokens. Il est composé de :\n",
    "- une couche principale BERT\n",
    "- une couche de Dropout pour éviter le sur-apprentissage\n",
    "- une couche Dense de classification\n",
    "\n",
    "Le modèle comprend un total de 107 726 601 paramètres (environ 410.94 Mo) donc la couche BERT comprenant 107 719 680 paramètres."
   ]
  },
  {
   "cell_type": "code",
   "execution_count": 26,
   "metadata": {
    "colab": {
     "base_uri": "https://localhost:8080/"
    },
    "id": "BOuld_OesHuM",
    "outputId": "9bcb8413-521a-4f02-de49-d3daefcedfcd"
   },
   "outputs": [
    {
     "name": "stdout",
     "output_type": "stream",
     "text": [
      "Epoch 1/3\n"
     ]
    },
    {
     "name": "stderr",
     "output_type": "stream",
     "text": [
      "WARNING:tensorflow:AutoGraph could not transform <function infer_framework at 0x792adf269c60> and will run it as-is.\n",
      "Cause: for/else statement not yet supported\n",
      "To silence this warning, decorate the function with @tf.autograph.experimental.do_not_convert\n"
     ]
    },
    {
     "name": "stdout",
     "output_type": "stream",
     "text": [
      "WARNING: AutoGraph could not transform <function infer_framework at 0x792adf269c60> and will run it as-is.\n",
      "Cause: for/else statement not yet supported\n",
      "To silence this warning, decorate the function with @tf.autograph.experimental.do_not_convert\n",
      "439/439 [==============================] - 330s 444ms/step - loss: 0.2295 - val_loss: 0.1343\n",
      "Epoch 2/3\n",
      "439/439 [==============================] - 174s 396ms/step - loss: 0.0580 - val_loss: 0.1451\n",
      "Epoch 3/3\n",
      "439/439 [==============================] - 183s 416ms/step - loss: 0.0362 - val_loss: 0.1396\n"
     ]
    }
   ],
   "source": [
    "#Phase d'entrainement du modèle\n",
    "history = model.fit(\n",
    "    tf_train_dataset,               # Dataset TensorFlow d'entraînement\n",
    "    validation_data=tf_eval_dataset,# Dataset TensorFlow de validation\n",
    "    epochs=num_epochs,              # Nombre d'époques d'entraînement\n",
    "    batch_size=64                   # Taille du lot pour l'entraînement\n",
    ")"
   ]
  },
  {
   "cell_type": "code",
   "execution_count": 27,
   "metadata": {
    "colab": {
     "base_uri": "https://localhost:8080/"
    },
    "id": "I3d7vKYksHuM",
    "outputId": "c4648eb9-6008-4e2d-9ecd-23148588d694"
   },
   "outputs": [
    {
     "name": "stdout",
     "output_type": "stream",
     "text": [
      "Collecting seqeval\n",
      "  Downloading seqeval-1.2.2.tar.gz (43 kB)\n",
      "\u001b[2K     \u001b[90m━━━━━━━━━━━━━━━━━━━━━━━━━━━━━━━━━━━━━━━━\u001b[0m \u001b[32m43.6/43.6 kB\u001b[0m \u001b[31m794.7 kB/s\u001b[0m eta \u001b[36m0:00:00\u001b[0m\n",
      "\u001b[?25h  Preparing metadata (setup.py) ... \u001b[?25l\u001b[?25hdone\n",
      "Requirement already satisfied: numpy>=1.14.0 in /usr/local/lib/python3.10/dist-packages (from seqeval) (1.25.2)\n",
      "Requirement already satisfied: scikit-learn>=0.21.3 in /usr/local/lib/python3.10/dist-packages (from seqeval) (1.2.2)\n",
      "Requirement already satisfied: scipy>=1.3.2 in /usr/local/lib/python3.10/dist-packages (from scikit-learn>=0.21.3->seqeval) (1.11.4)\n",
      "Requirement already satisfied: joblib>=1.1.1 in /usr/local/lib/python3.10/dist-packages (from scikit-learn>=0.21.3->seqeval) (1.3.2)\n",
      "Requirement already satisfied: threadpoolctl>=2.0.0 in /usr/local/lib/python3.10/dist-packages (from scikit-learn>=0.21.3->seqeval) (3.3.0)\n",
      "Building wheels for collected packages: seqeval\n",
      "  Building wheel for seqeval (setup.py) ... \u001b[?25l\u001b[?25hdone\n",
      "  Created wheel for seqeval: filename=seqeval-1.2.2-py3-none-any.whl size=16162 sha256=38bc310f8df47cbbd9226de4d2d35135497133eb81c14a6a369bc846010ef44a\n",
      "  Stored in directory: /root/.cache/pip/wheels/1a/67/4a/ad4082dd7dfc30f2abfe4d80a2ed5926a506eb8a972b4767fa\n",
      "Successfully built seqeval\n",
      "Installing collected packages: seqeval\n",
      "Successfully installed seqeval-1.2.2\n"
     ]
    }
   ],
   "source": [
    "#Installation du package pour obtenir les performances des modèles de classification de séquences en calculant des mesures telles que la précision, le rappel et le score F1 pour chaque étiquette.\n",
    "!pip install seqeval"
   ]
  },
  {
   "cell_type": "code",
   "execution_count": 28,
   "metadata": {
    "colab": {
     "base_uri": "https://localhost:8080/",
     "height": 173,
     "referenced_widgets": [
      "524c4d3c91c64570bba6969326340585",
      "2fcb56d5f99b49fdb41152368fc03c38",
      "881ba8c123e441cd838e5f1f6fa5bee5",
      "636d7c7c630d4eca87e2ebfff7aa120c",
      "7bc8d1e938ab4a7aae10ef45c7592078",
      "7f8b3ab806924e45a101132077fdcfaf",
      "1a3c33a2e88b4ba3826f489b34db880f",
      "be5a06ec0b1e4995afedeeea9a6df89f",
      "a388233dacf64b02a9ea29ebfcc3aa7c",
      "c0d913de539748a6bfd6ff7a7c2de413",
      "defd6bb57f554c82b0a498b2af078d4c"
     ]
    },
    "id": "u88rU47csHuP",
    "outputId": "a1e331a1-3cf9-4bc6-b2d6-addab6b37630"
   },
   "outputs": [
    {
     "name": "stderr",
     "output_type": "stream",
     "text": [
      "<ipython-input-28-5f0a14be26f5>:4: FutureWarning: load_metric is deprecated and will be removed in the next major version of datasets. Use 'evaluate.load' instead, from the new library 🤗 Evaluate: https://huggingface.co/docs/evaluate\n",
      "  metric = load_metric(\"seqeval\")\n",
      "/usr/local/lib/python3.10/dist-packages/datasets/load.py:756: FutureWarning: The repository for seqeval contains custom code which must be executed to correctly load the metric. You can inspect the repository content at https://raw.githubusercontent.com/huggingface/datasets/2.18.0/metrics/seqeval/seqeval.py\n",
      "You can avoid this message in future by passing the argument `trust_remote_code=True`.\n",
      "Passing `trust_remote_code=True` will be mandatory to load this metric from the next major release of `datasets`.\n",
      "  warnings.warn(\n"
     ]
    },
    {
     "data": {
      "application/vnd.jupyter.widget-view+json": {
       "model_id": "524c4d3c91c64570bba6969326340585",
       "version_major": 2,
       "version_minor": 0
      },
      "text/plain": [
       "Downloading builder script:   0%|          | 0.00/2.47k [00:00<?, ?B/s]"
      ]
     },
     "metadata": {},
     "output_type": "display_data"
    }
   ],
   "source": [
    "from datasets import load_metric\n",
    "\n",
    "# Chargement de la métrique Seqeval à partir de la bibliothèque Hugging Face Datasets\n",
    "metric = load_metric(\"seqeval\")"
   ]
  },
  {
   "cell_type": "code",
   "execution_count": 29,
   "metadata": {
    "colab": {
     "base_uri": "https://localhost:8080/"
    },
    "id": "Lp1W3ULpsHuQ",
    "outputId": "9b371330-ad37-4216-f3e8-5aef3332da20"
   },
   "outputs": [
    {
     "name": "stderr",
     "output_type": "stream",
     "text": [
      "Évaluation en cours: 100%|██████████| 108/108 [03:21<00:00,  1.87s/it]\n"
     ]
    },
    {
     "name": "stdout",
     "output_type": "stream",
     "text": [
      "Résultat de la métrique: {'LOC': {'precision': 0.9087677725118484, 'recall': 0.919664268585132, 'f1': 0.9141835518474374, 'number': 1668}, 'MISC': {'precision': 0.6927939317319848, 'recall': 0.7806267806267806, 'f1': 0.7340924313462827, 'number': 702}, 'ORG': {'precision': 0.8486916951080774, 'recall': 0.8982540638169777, 'f1': 0.8727698157355952, 'number': 1661}, 'PER': {'precision': 0.9365079365079365, 'recall': 0.9486703772418058, 'f1': 0.9425499231950843, 'number': 1617}, 'overall_precision': 0.8694468085106383, 'overall_recall': 0.9043909348441926, 'overall_f1': 0.8865746767334896, 'overall_accuracy': 0.9698870172231764}\n"
     ]
    }
   ],
   "source": [
    "import numpy as np\n",
    "from tqdm import tqdm\n",
    "\n",
    "# Listes pour stocker toutes les prédictions et étiquettes de chaque batch\n",
    "toutes_predictions = []\n",
    "tous_étiquettes = []\n",
    "\n",
    "num_batches = len(tf_eval_dataset)  #Nb total de lots dans le dataset de validation\n",
    "\n",
    "#Barre de progression sur le nombre de batch\n",
    "with tqdm(total=num_batches, desc=\"Évaluation en cours\") as pbar:\n",
    "    #Pour chaque batch dans le dataset de validation\n",
    "    for batch in tf_eval_dataset:\n",
    "        #Prédire les logits avec le modèle\n",
    "        logits = model.predict(batch, verbose=0)[\"logits\"]\n",
    "        étiquettes = batch[\"labels\"]  #On récupère les étiquettes réelles\n",
    "        prédictions = np.argmax(logits, axis=-1)  #On utilise np.argmax() pour obtenir les étiquettes prédites\n",
    "\n",
    "        #Pour chaque prédiction et étiquette du batch\n",
    "        for prédiction, étiquette in zip(prédictions, étiquettes):\n",
    "            #Pour chaque indice prédit et étiquette réelle\n",
    "            for idx_prédit, idx_étiquette in zip(prédiction, étiquette):\n",
    "                #On ignore les étiquettes spééciales contenant -100\n",
    "                if idx_étiquette == -100:\n",
    "                    continue\n",
    "\n",
    "                #Ajouter les prédictions et étiquettes réelles à des listes\n",
    "                toutes_predictions.append(nom_labels[idx_prédit])\n",
    "                tous_étiquettes.append(nom_labels[idx_étiquette])\n",
    "        pbar.update(1)  #MAJ de la barre de progression\n",
    "\n",
    "#On calcules les métriques à partir des prédictions et des étiquettes\n",
    "résultat_métrique = metric.compute(predictions=[toutes_predictions], references=[tous_étiquettes])\n",
    "\n",
    "#Résultats\n",
    "print(\"Résultat de la métrique:\", résultat_métrique)\n"
   ]
  },
  {
   "cell_type": "code",
   "execution_count": 31,
   "metadata": {
    "colab": {
     "base_uri": "https://localhost:8080/"
    },
    "id": "0_yMfOtLQIv7",
    "outputId": "fe58ba96-dcf2-4973-a99e-716801b2db24"
   },
   "outputs": [
    {
     "data": {
      "text/plain": [
       "['O',\n",
       " 'O',\n",
       " 'O',\n",
       " 'O',\n",
       " 'O',\n",
       " 'B-LOC',\n",
       " 'I-LOC',\n",
       " 'I-LOC',\n",
       " 'O',\n",
       " 'O',\n",
       " 'O',\n",
       " 'O',\n",
       " 'O',\n",
       " 'O',\n",
       " 'O',\n",
       " 'O',\n",
       " 'O',\n",
       " 'B-PER',\n",
       " 'I-PER',\n",
       " 'I-PER']"
      ]
     },
     "execution_count": 31,
     "metadata": {},
     "output_type": "execute_result"
    }
   ],
   "source": [
    "tous_étiquettes[:20]"
   ]
  },
  {
   "cell_type": "code",
   "execution_count": 32,
   "metadata": {
    "colab": {
     "base_uri": "https://localhost:8080/"
    },
    "id": "BeuAQ6lxQO-T",
    "outputId": "7cbdb53e-cd04-42b9-b94b-18dfa770c00f"
   },
   "outputs": [
    {
     "data": {
      "text/plain": [
       "['O',\n",
       " 'O',\n",
       " 'O',\n",
       " 'O',\n",
       " 'O',\n",
       " 'B-PER',\n",
       " 'I-PER',\n",
       " 'I-PER',\n",
       " 'O',\n",
       " 'O',\n",
       " 'B-PER',\n",
       " 'I-PER',\n",
       " 'I-PER',\n",
       " 'I-PER',\n",
       " 'O',\n",
       " 'O',\n",
       " 'O',\n",
       " 'B-PER',\n",
       " 'I-PER',\n",
       " 'I-PER']"
      ]
     },
     "execution_count": 32,
     "metadata": {},
     "output_type": "execute_result"
    }
   ],
   "source": [
    "toutes_predictions[:20]"
   ]
  },
  {
   "cell_type": "code",
   "execution_count": 38,
   "metadata": {
    "colab": {
     "base_uri": "https://localhost:8080/"
    },
    "id": "E3JwjNLzMnTt",
    "outputId": "a29923fc-faa0-4963-813b-0e19cbcd4e47"
   },
   "outputs": [
    {
     "name": "stdout",
     "output_type": "stream",
     "text": [
      "Scores obtenus :\n",
      "\n",
      "Entité: LOC\n",
      "Précision: 0.9294852722404047\n",
      "Rappel: 0.9292088042831648\n",
      "F1-score: 0.9293470177004314\n",
      "\n",
      "Entité: PER\n",
      "Précision: 0.9713426499203962\n",
      "Rappel: 0.9694562146892656\n",
      "F1-score: 0.9703985155076434\n",
      "\n",
      "Entité: ORG\n",
      "Précision: 0.9262615859938208\n",
      "Rappel: 0.9421747328724073\n",
      "F1-score: 0.934150394682177\n",
      "\n",
      "Entité: MISC\n",
      "Précision: 0.8618867924528302\n",
      "Rappel: 0.8186379928315413\n",
      "F1-score: 0.8397058823529412\n",
      "\n",
      "Entité: global\n",
      "Précision: 0.9381334737396341\n",
      "Rappel: 0.9381334737396341\n",
      "F1-score: 0.9381334737396341\n",
      "\n",
      "Score global :\n",
      "Précision globale: 0.9381334737396341\n",
      "Rappel global: 0.9381334737396341\n",
      "F1-score global: 0.9381334737396341\n"
     ]
    }
   ],
   "source": [
    "from collections import defaultdict\n",
    "from sklearn.metrics import precision_recall_fscore_support\n",
    "\n",
    "def calcul_precision_rappel(labels, predictions):\n",
    "    \"\"\"\n",
    "    Calcule la précision, le rappel et le F1-score pour les étiquettes commençant par B et I\n",
    "    pour chaque type d'entité (LOC, PER, ORG, MISC) ainsi que les scores globaux.\n",
    "\n",
    "    Args:\n",
    "    - labels : Liste des étiquettes réelles\n",
    "    - predictions : Liste des étiquettes prédites par le modèle\n",
    "\n",
    "    Returns:\n",
    "    - results : Dictionnaire contenant les scores de précision, de rappel et de F1-score pour chaque type d'entité\n",
    "                ainsi que les scores globaux.\n",
    "    \"\"\"\n",
    "\n",
    "    # Dictionnaires pour stocker les statistiques par type d'entité\n",
    "    stats_par_type = {type_entite: {'tp': 0, 'fp': 0, 'fn': 0} for type_entite in ['LOC', 'PER', 'ORG', 'MISC']}\n",
    "\n",
    "    # Variables pour le rappel et la précision globale\n",
    "    total_tp, total_fp, total_fn = 0, 0, 0\n",
    "\n",
    "    # Pour chaque étiquette\n",
    "    for etiquette, prediction in zip(labels, predictions):\n",
    "        if etiquette.startswith(('B-', 'I-')) and prediction.startswith(('B-', 'I-')):\n",
    "            # Extraire le type d'entité de l'étiquette\n",
    "            type_entite = etiquette.split('-')[1]\n",
    "\n",
    "            if etiquette == prediction:\n",
    "                stats_par_type[type_entite]['tp'] += 1  # Vrai positif\n",
    "                total_tp += 1\n",
    "            else:\n",
    "                stats_par_type[type_entite]['fn'] += 1  # Faux négatif\n",
    "                stats_par_type[prediction.split('-')[1]]['fp'] += 1  # Faux positif\n",
    "                total_fn += 1\n",
    "                total_fp += 1\n",
    "\n",
    "            # Affichage des étiquettes évaluées et des prédictions correspondantes\n",
    "            # print(f\"Étiquette: {etiquette}, Prédiction: {prediction}\")\n",
    "\n",
    "    # Calcul du rappel, de la précision et du F1-score pour chaque type d'entité\n",
    "    results = {}\n",
    "    for type_entite, stats in stats_par_type.items():\n",
    "        tp, fp, fn = stats['tp'], stats['fp'], stats['fn']\n",
    "        precision = tp / (tp + fp) if (tp + fp) > 0 else 0\n",
    "        rappel = tp / (tp + fn) if (tp + fn) > 0 else 0\n",
    "        f1_score = 2 * (precision * rappel) / (precision + rappel) if (precision + rappel) > 0 else 0\n",
    "        results[type_entite] = {'precision': precision, 'rappel': rappel, 'f1_score': f1_score}\n",
    "\n",
    "    # Calcul du rappel et de la précision globale\n",
    "    precision_globale = total_tp / (total_tp + total_fp) if (total_tp + total_fp) > 0 else 0\n",
    "    rappel_global = total_tp / (total_tp + total_fn) if (total_tp + total_fn) > 0 else 0\n",
    "    f1_score_global = 2 * (precision_globale * rappel_global) / (precision_globale + rappel_global) if (precision_globale + rappel_global) > 0 else 0\n",
    "\n",
    "    # Ajout des scores globaux au dictionnaire de résultats\n",
    "    results['global'] = {'precision': precision_globale, 'rappel': rappel_global, 'f1_score': f1_score_global}\n",
    "\n",
    "    return results\n",
    "\n",
    "# Utilisation de la fonction\n",
    "resultats = calcul_precision_rappel(tous_étiquettes, toutes_predictions)\n",
    "\n",
    "# Affichage des résultats\n",
    "print(\"Scores obtenus :\")\n",
    "for type_entite, scores in resultats.items():\n",
    "    print(f\"\\nEntité: {type_entite}\")\n",
    "    print(f\"Précision: {scores['precision']}\")\n",
    "    print(f\"Rappel: {scores['rappel']}\")\n",
    "    print(f\"F1-score: {scores['f1_score']}\")\n",
    "\n",
    "print(\"\\nScore global :\")\n",
    "print(f\"Précision globale: {resultats['global']['precision']}\")\n",
    "print(f\"Rappel global: {resultats['global']['rappel']}\")\n",
    "print(f\"F1-score global: {resultats['global']['f1_score']}\")\n"
   ]
  },
  {
   "cell_type": "markdown",
   "metadata": {
    "id": "eGVDSqMuR3nC"
   },
   "source": [
    "De ces résultats:\n",
    "\n",
    "Entité: LOC <br>\n",
    "Précision: 0.9294852722404047 <br>\n",
    "Rappel: 0.9292088042831648 <br>\n",
    "F1-score: 0.9293470177004314 <br>\n",
    "\n",
    "Entité: PER <br>\n",
    "Précision: 0.9713426499203962 <br>\n",
    "Rappel: 0.9694562146892656 <br>\n",
    "F1-score: 0.9703985155076434 <br>\n",
    "\n",
    "Entité: ORG <br>\n",
    "Précision: 0.9262615859938208 <br>\n",
    "Rappel: 0.9421747328724073 <br>\n",
    "F1-score: 0.934150394682177 <br>\n",
    "\n",
    "Entité: MISC <br>\n",
    "Précision: 0.8618867924528302 <br>\n",
    "Rappel: 0.8186379928315413 <br>\n",
    "F1-score: 0.8397058823529412 <br>\n",
    "\n",
    "Entité: global <br>\n",
    "Précision: 0.9381334737396341 <br>\n",
    "Rappel: 0.9381334737396341 <br>\n",
    "F1-score: 0.9381334737396341 <br>\n",
    "\n",
    "Score global : <br>\n",
    "Précision globale: 0.9381334737396341 <br>\n",
    "Rappel global: 0.9381334737396341 <br>\n",
    "F1-score global: 0.9381334737396341 <br>\n",
    "\n",
    "<br>\n",
    "\n",
    " On peut noter que :\n",
    "\n",
    "- pour l'entité LOC (lieu), le modèle a une précision de 92.95%, ce qui signifie que parmi toutes les entités prédites comme des lieux, 92.95% sont correctes. Le rappel est de 92.92%, ce qui indique que le modèle a correctement identifié 92.92% de tous les lieux dans les données réelles. Le F1-score, qui est une moyenne harmonique de la précision et du rappel, est de 92.93%, ce qui est une mesure globale de la performance du modèle pour cette catégorie.\n",
    "\n",
    "- pour l'entité PER (personne), le modèle a une précision de 97.13%, un rappel de 96.95%, et un F1-score de 97.04%. Ces scores indiquent une performance très élevée dans la prédiction des entités de type personne.\n",
    "\n",
    "- pour l'entité ORG (organisation), la précision est de 92.63%, le rappel est de 94.22%, et le F1-score est de 93.42%. Encore une fois, ces scores montrent une performance globalement élevée.\n",
    "\n",
    "- pour l'entité MISC (divers), la précision est de 86.19%, le rappel est de 81.86%, et le F1-score est de 83.97%. Bien que légèrement plus bas que les autres entités, ces scores restent relativement élevés.\n",
    "\n",
    "- les scores globaux agrégés montrent une précision, un rappel et un F1-score de 93.81%, indiquant une bonne performance globale du modèle."
   ]
  },
  {
   "cell_type": "markdown",
   "metadata": {},
   "source": [
    "# <span style=\"color:#00369c;\">D'autres essais'</span>"
   ]
  },
  {
   "cell_type": "markdown",
   "metadata": {},
   "source": [
    "### LSTM avec erreur balancé et dropout\n",
    "Il s'agit simplement d'une reprise du reseau NER1 avec du dropout et une erreur balancé"
   ]
  },
  {
   "cell_type": "code",
   "execution_count": 10,
   "metadata": {
    "tags": []
   },
   "outputs": [
    {
     "data": {
      "text/html": [
       "<pre style=\"white-space:pre;overflow-x:auto;line-height:normal;font-family:Menlo,'DejaVu Sans Mono',consolas,'Courier New',monospace\"><span style=\"font-weight: bold\">Model: \"sequential_1\"</span>\n",
       "</pre>\n"
      ],
      "text/plain": [
       "\u001b[1mModel: \"sequential_1\"\u001b[0m\n"
      ]
     },
     "metadata": {},
     "output_type": "display_data"
    },
    {
     "data": {
      "text/html": [
       "<pre style=\"white-space:pre;overflow-x:auto;line-height:normal;font-family:Menlo,'DejaVu Sans Mono',consolas,'Courier New',monospace\">┏━━━━━━━━━━━━━━━━━━━━━━━━━━━━━━━━━┳━━━━━━━━━━━━━━━━━━━━━━━━┳━━━━━━━━━━━━━━━┓\n",
       "┃<span style=\"font-weight: bold\"> Layer (type)                    </span>┃<span style=\"font-weight: bold\"> Output Shape           </span>┃<span style=\"font-weight: bold\">       Param # </span>┃\n",
       "┡━━━━━━━━━━━━━━━━━━━━━━━━━━━━━━━━━╇━━━━━━━━━━━━━━━━━━━━━━━━╇━━━━━━━━━━━━━━━┩\n",
       "│ embedding_1 (<span style=\"color: #0087ff; text-decoration-color: #0087ff\">Embedding</span>)         │ (<span style=\"color: #00d7ff; text-decoration-color: #00d7ff\">None</span>, <span style=\"color: #00af00; text-decoration-color: #00af00\">124</span>, <span style=\"color: #00af00; text-decoration-color: #00af00\">50</span>)        │     <span style=\"color: #00af00; text-decoration-color: #00af00\">1,181,250</span> │\n",
       "├─────────────────────────────────┼────────────────────────┼───────────────┤\n",
       "│ lstm_1 (<span style=\"color: #0087ff; text-decoration-color: #0087ff\">LSTM</span>)                   │ (<span style=\"color: #00d7ff; text-decoration-color: #00d7ff\">None</span>, <span style=\"color: #00af00; text-decoration-color: #00af00\">124</span>, <span style=\"color: #00af00; text-decoration-color: #00af00\">100</span>)       │        <span style=\"color: #00af00; text-decoration-color: #00af00\">60,400</span> │\n",
       "├─────────────────────────────────┼────────────────────────┼───────────────┤\n",
       "│ dropout_1 (<span style=\"color: #0087ff; text-decoration-color: #0087ff\">Dropout</span>)             │ (<span style=\"color: #00d7ff; text-decoration-color: #00d7ff\">None</span>, <span style=\"color: #00af00; text-decoration-color: #00af00\">124</span>, <span style=\"color: #00af00; text-decoration-color: #00af00\">100</span>)       │             <span style=\"color: #00af00; text-decoration-color: #00af00\">0</span> │\n",
       "├─────────────────────────────────┼────────────────────────┼───────────────┤\n",
       "│ time_distributed_1              │ (<span style=\"color: #00d7ff; text-decoration-color: #00d7ff\">None</span>, <span style=\"color: #00af00; text-decoration-color: #00af00\">124</span>, <span style=\"color: #00af00; text-decoration-color: #00af00\">9</span>)         │           <span style=\"color: #00af00; text-decoration-color: #00af00\">909</span> │\n",
       "│ (<span style=\"color: #0087ff; text-decoration-color: #0087ff\">TimeDistributed</span>)               │                        │               │\n",
       "├─────────────────────────────────┼────────────────────────┼───────────────┤\n",
       "│ activation_1 (<span style=\"color: #0087ff; text-decoration-color: #0087ff\">Activation</span>)       │ (<span style=\"color: #00d7ff; text-decoration-color: #00d7ff\">None</span>, <span style=\"color: #00af00; text-decoration-color: #00af00\">124</span>, <span style=\"color: #00af00; text-decoration-color: #00af00\">9</span>)         │             <span style=\"color: #00af00; text-decoration-color: #00af00\">0</span> │\n",
       "└─────────────────────────────────┴────────────────────────┴───────────────┘\n",
       "</pre>\n"
      ],
      "text/plain": [
       "┏━━━━━━━━━━━━━━━━━━━━━━━━━━━━━━━━━┳━━━━━━━━━━━━━━━━━━━━━━━━┳━━━━━━━━━━━━━━━┓\n",
       "┃\u001b[1m \u001b[0m\u001b[1mLayer (type)                   \u001b[0m\u001b[1m \u001b[0m┃\u001b[1m \u001b[0m\u001b[1mOutput Shape          \u001b[0m\u001b[1m \u001b[0m┃\u001b[1m \u001b[0m\u001b[1m      Param #\u001b[0m\u001b[1m \u001b[0m┃\n",
       "┡━━━━━━━━━━━━━━━━━━━━━━━━━━━━━━━━━╇━━━━━━━━━━━━━━━━━━━━━━━━╇━━━━━━━━━━━━━━━┩\n",
       "│ embedding_1 (\u001b[38;5;33mEmbedding\u001b[0m)         │ (\u001b[38;5;45mNone\u001b[0m, \u001b[38;5;34m124\u001b[0m, \u001b[38;5;34m50\u001b[0m)        │     \u001b[38;5;34m1,181,250\u001b[0m │\n",
       "├─────────────────────────────────┼────────────────────────┼───────────────┤\n",
       "│ lstm_1 (\u001b[38;5;33mLSTM\u001b[0m)                   │ (\u001b[38;5;45mNone\u001b[0m, \u001b[38;5;34m124\u001b[0m, \u001b[38;5;34m100\u001b[0m)       │        \u001b[38;5;34m60,400\u001b[0m │\n",
       "├─────────────────────────────────┼────────────────────────┼───────────────┤\n",
       "│ dropout_1 (\u001b[38;5;33mDropout\u001b[0m)             │ (\u001b[38;5;45mNone\u001b[0m, \u001b[38;5;34m124\u001b[0m, \u001b[38;5;34m100\u001b[0m)       │             \u001b[38;5;34m0\u001b[0m │\n",
       "├─────────────────────────────────┼────────────────────────┼───────────────┤\n",
       "│ time_distributed_1              │ (\u001b[38;5;45mNone\u001b[0m, \u001b[38;5;34m124\u001b[0m, \u001b[38;5;34m9\u001b[0m)         │           \u001b[38;5;34m909\u001b[0m │\n",
       "│ (\u001b[38;5;33mTimeDistributed\u001b[0m)               │                        │               │\n",
       "├─────────────────────────────────┼────────────────────────┼───────────────┤\n",
       "│ activation_1 (\u001b[38;5;33mActivation\u001b[0m)       │ (\u001b[38;5;45mNone\u001b[0m, \u001b[38;5;34m124\u001b[0m, \u001b[38;5;34m9\u001b[0m)         │             \u001b[38;5;34m0\u001b[0m │\n",
       "└─────────────────────────────────┴────────────────────────┴───────────────┘\n"
      ]
     },
     "metadata": {},
     "output_type": "display_data"
    },
    {
     "data": {
      "text/html": [
       "<pre style=\"white-space:pre;overflow-x:auto;line-height:normal;font-family:Menlo,'DejaVu Sans Mono',consolas,'Courier New',monospace\"><span style=\"font-weight: bold\"> Total params: </span><span style=\"color: #00af00; text-decoration-color: #00af00\">1,242,559</span> (4.74 MB)\n",
       "</pre>\n"
      ],
      "text/plain": [
       "\u001b[1m Total params: \u001b[0m\u001b[38;5;34m1,242,559\u001b[0m (4.74 MB)\n"
      ]
     },
     "metadata": {},
     "output_type": "display_data"
    },
    {
     "data": {
      "text/html": [
       "<pre style=\"white-space:pre;overflow-x:auto;line-height:normal;font-family:Menlo,'DejaVu Sans Mono',consolas,'Courier New',monospace\"><span style=\"font-weight: bold\"> Trainable params: </span><span style=\"color: #00af00; text-decoration-color: #00af00\">1,242,559</span> (4.74 MB)\n",
       "</pre>\n"
      ],
      "text/plain": [
       "\u001b[1m Trainable params: \u001b[0m\u001b[38;5;34m1,242,559\u001b[0m (4.74 MB)\n"
      ]
     },
     "metadata": {},
     "output_type": "display_data"
    },
    {
     "data": {
      "text/html": [
       "<pre style=\"white-space:pre;overflow-x:auto;line-height:normal;font-family:Menlo,'DejaVu Sans Mono',consolas,'Courier New',monospace\"><span style=\"font-weight: bold\"> Non-trainable params: </span><span style=\"color: #00af00; text-decoration-color: #00af00\">0</span> (0.00 B)\n",
       "</pre>\n"
      ],
      "text/plain": [
       "\u001b[1m Non-trainable params: \u001b[0m\u001b[38;5;34m0\u001b[0m (0.00 B)\n"
      ]
     },
     "metadata": {},
     "output_type": "display_data"
    },
    {
     "name": "stdout",
     "output_type": "stream",
     "text": [
      "Epoch 1/10\n",
      "\u001b[1m469/469\u001b[0m \u001b[32m━━━━━━━━━━━━━━━━━━━━\u001b[0m\u001b[37m\u001b[0m \u001b[1m39s\u001b[0m 74ms/step - accuracy: 0.0914 - loss: 0.1619 - val_accuracy: 0.0123 - val_loss: 1.3102\n",
      "Epoch 2/10\n",
      "\u001b[1m469/469\u001b[0m \u001b[32m━━━━━━━━━━━━━━━━━━━━\u001b[0m\u001b[37m\u001b[0m \u001b[1m34s\u001b[0m 73ms/step - accuracy: 0.1085 - loss: 0.0381 - val_accuracy: 0.0174 - val_loss: 1.4122\n",
      "Epoch 3/10\n",
      "\u001b[1m469/469\u001b[0m \u001b[32m━━━━━━━━━━━━━━━━━━━━\u001b[0m\u001b[37m\u001b[0m \u001b[1m34s\u001b[0m 72ms/step - accuracy: 0.1165 - loss: 0.0121 - val_accuracy: 0.0131 - val_loss: 1.5988\n",
      "Epoch 4/10\n",
      "\u001b[1m469/469\u001b[0m \u001b[32m━━━━━━━━━━━━━━━━━━━━\u001b[0m\u001b[37m\u001b[0m \u001b[1m35s\u001b[0m 74ms/step - accuracy: 0.1164 - loss: 0.0060 - val_accuracy: 0.0133 - val_loss: 1.6918\n",
      "Epoch 5/10\n",
      "\u001b[1m469/469\u001b[0m \u001b[32m━━━━━━━━━━━━━━━━━━━━\u001b[0m\u001b[37m\u001b[0m \u001b[1m36s\u001b[0m 76ms/step - accuracy: 0.1137 - loss: 0.0038 - val_accuracy: 0.0130 - val_loss: 1.7853\n",
      "Epoch 6/10\n",
      "\u001b[1m469/469\u001b[0m \u001b[32m━━━━━━━━━━━━━━━━━━━━\u001b[0m\u001b[37m\u001b[0m \u001b[1m36s\u001b[0m 77ms/step - accuracy: 0.1157 - loss: 0.0026 - val_accuracy: 0.0129 - val_loss: 1.8233\n",
      "Epoch 7/10\n",
      "\u001b[1m469/469\u001b[0m \u001b[32m━━━━━━━━━━━━━━━━━━━━\u001b[0m\u001b[37m\u001b[0m \u001b[1m37s\u001b[0m 79ms/step - accuracy: 0.1145 - loss: 0.0021 - val_accuracy: 0.0133 - val_loss: 1.9326\n",
      "Epoch 8/10\n",
      "\u001b[1m469/469\u001b[0m \u001b[32m━━━━━━━━━━━━━━━━━━━━\u001b[0m\u001b[37m\u001b[0m \u001b[1m37s\u001b[0m 78ms/step - accuracy: 0.1144 - loss: 0.0018 - val_accuracy: 0.0133 - val_loss: 1.8876\n",
      "Epoch 9/10\n",
      "\u001b[1m469/469\u001b[0m \u001b[32m━━━━━━━━━━━━━━━━━━━━\u001b[0m\u001b[37m\u001b[0m \u001b[1m36s\u001b[0m 76ms/step - accuracy: 0.1150 - loss: 0.0015 - val_accuracy: 0.0134 - val_loss: 2.0689\n",
      "Epoch 10/10\n",
      "\u001b[1m469/469\u001b[0m \u001b[32m━━━━━━━━━━━━━━━━━━━━\u001b[0m\u001b[37m\u001b[0m \u001b[1m35s\u001b[0m 75ms/step - accuracy: 0.1160 - loss: 0.0013 - val_accuracy: 0.0133 - val_loss: 2.0170\n",
      "\u001b[1m109/109\u001b[0m \u001b[32m━━━━━━━━━━━━━━━━━━━━\u001b[0m\u001b[37m\u001b[0m \u001b[1m2s\u001b[0m 14ms/step - accuracy: 0.0117 - loss: 2.0199\n"
     ]
    },
    {
     "ename": "NameError",
     "evalue": "name 'predicted_labels' is not defined",
     "output_type": "error",
     "traceback": [
      "\u001b[0;31m---------------------------------------------------------------------------\u001b[0m",
      "\u001b[0;31mNameError\u001b[0m                                 Traceback (most recent call last)",
      "\u001b[1;32m/home/ensai/Téléchargements/Wbemining-TP (1).ipynb Cell 73\u001b[0m line \u001b[0;36m3\n\u001b[1;32m     <a href='vscode-notebook-cell:/home/ensai/T%C3%A9l%C3%A9chargements/Wbemining-TP%20%281%29.ipynb#Y132sZmlsZQ%3D%3D?line=33'>34</a>\u001b[0m loss, accuracy \u001b[39m=\u001b[39m ner1\u001b[39m.\u001b[39mevaluate(valid_sequences_int, valid_labels)\n\u001b[1;32m     <a href='vscode-notebook-cell:/home/ensai/T%C3%A9l%C3%A9chargements/Wbemining-TP%20%281%29.ipynb#Y132sZmlsZQ%3D%3D?line=35'>36</a>\u001b[0m \u001b[39m#On nettoie les étiquettes prédites en enlevant les étiquettes vides\u001b[39;00m\n\u001b[1;32m     <a href='vscode-notebook-cell:/home/ensai/T%C3%A9l%C3%A9chargements/Wbemining-TP%20%281%29.ipynb#Y132sZmlsZQ%3D%3D?line=36'>37</a>\u001b[0m \u001b[39m#Il faut les même longueurs pour les étiquettes prédits et véritables\u001b[39;00m\n\u001b[0;32m---> <a href='vscode-notebook-cell:/home/ensai/T%C3%A9l%C3%A9chargements/Wbemining-TP%20%281%29.ipynb#Y132sZmlsZQ%3D%3D?line=37'>38</a>\u001b[0m predicted_labels_cleaned \u001b[39m=\u001b[39m [[label \u001b[39mfor\u001b[39;00m label \u001b[39min\u001b[39;00m sequence \u001b[39mif\u001b[39;00m label \u001b[39m!=\u001b[39m \u001b[39m'\u001b[39m\u001b[39m'\u001b[39m] \u001b[39mfor\u001b[39;00m sequence \u001b[39min\u001b[39;00m predicted_labels]\n\u001b[1;32m     <a href='vscode-notebook-cell:/home/ensai/T%C3%A9l%C3%A9chargements/Wbemining-TP%20%281%29.ipynb#Y132sZmlsZQ%3D%3D?line=39'>40</a>\u001b[0m \u001b[39m#On calcule les scores en utilisant la fonction calculate_scores définit plus haut\u001b[39;00m\n\u001b[1;32m     <a href='vscode-notebook-cell:/home/ensai/T%C3%A9l%C3%A9chargements/Wbemining-TP%20%281%29.ipynb#Y132sZmlsZQ%3D%3D?line=40'>41</a>\u001b[0m scores \u001b[39m=\u001b[39m calculate_scores(true_labels, predicted_labels_cleaned)\n",
      "\u001b[0;31mNameError\u001b[0m: name 'predicted_labels' is not defined"
     ]
    }
   ],
   "source": [
    "from tensorflow.keras.layers import Dropout\n",
    "from tensorflow.keras.losses import CategoricalFocalCrossentropy\n",
    "import tensorflow as tf\n",
    "from tensorflow.keras.models import Sequential\n",
    "from tensorflow.keras.layers import InputLayer, Embedding, LSTM, TimeDistributed, Dense, Activation\n",
    "from tensorflow.keras.optimizers import Adam\n",
    "\n",
    "#On définit les dimensions des embeddings et des vecteurs LSTM (arbitraire)\n",
    "embed_dim = 50\n",
    "lstm_dim = 100\n",
    "\n",
    "#On créé un dictionnaire pour mapper les étiquettes à des entiers\n",
    "label_to_int = {label: i for i, label in enumerate(sorted(set(train_df['NE'])))}\n",
    "\n",
    "# Modèle NER1 (sujet)\n",
    "ner1 = Sequential()\n",
    "ner1.add(InputLayer(input_shape=(maxlen, )))\n",
    "ner1.add(Embedding(input_dim=len(token_to_int) + 1, output_dim=embed_dim, mask_zero=True))\n",
    "ner1.add(LSTM(lstm_dim, return_sequences=True))\n",
    "ner1.add(Dropout(0.2))\n",
    "ner1.add(TimeDistributed(Dense(len(label_to_int))))\n",
    "ner1.add(Activation('softmax'))\n",
    "\n",
    "# Compilation\n",
    "ner1.compile(optimizer=Adam(), loss=CategoricalFocalCrossentropy(), metrics=['accuracy'])\n",
    "\n",
    "# Résumé du modèle\n",
    "ner1.summary()\n",
    "\n",
    "# Entraînement du modèle en utilisant les poids de classe\n",
    "history = ner1.fit(train_sequences_int, train_labels, validation_data=(valid_sequences_int, valid_labels), epochs=10, batch_size=32)"
   ]
  },
  {
   "cell_type": "code",
   "execution_count": 13,
   "metadata": {},
   "outputs": [
    {
     "name": "stdout",
     "output_type": "stream",
     "text": [
      "\u001b[1m116/116\u001b[0m \u001b[32m━━━━━━━━━━━━━━━━━━━━\u001b[0m\u001b[37m\u001b[0m \u001b[1m3s\u001b[0m 19ms/step\n",
      "Séquence 1:\n",
      "Tokens: ['SOCCER', '-', 'JAPAN', 'GET', 'LUCKY', 'WIN', ',', 'CHINA', 'IN', 'SURPRISE', 'DEFEAT', '.']\n",
      "Étiquettes prédites: ['B-LOC', 'B-LOC', 'B-LOC', 'B-LOC', 'B-LOC', 'B-LOC', 'B-LOC', 'O', 'B-LOC', 'B-LOC', 'B-LOC', 'B-LOC', 'B-LOC', 'B-LOC', 'B-LOC', 'B-LOC', 'B-LOC', 'B-LOC', 'B-LOC', 'B-LOC', 'B-LOC', 'B-LOC', 'B-LOC', 'B-LOC', 'B-LOC', 'B-LOC', 'B-LOC', 'B-LOC', 'B-LOC', 'B-LOC', 'B-LOC', 'B-LOC', 'B-LOC', 'B-LOC', 'B-LOC', 'B-LOC', 'B-LOC', 'B-LOC', 'B-LOC', 'B-LOC', 'B-LOC', 'B-LOC', 'B-LOC', 'B-LOC', 'B-LOC', 'B-LOC', 'B-LOC', 'B-LOC', 'B-LOC', 'B-LOC', 'B-LOC', 'B-LOC', 'B-LOC', 'B-LOC', 'B-LOC', 'B-LOC', 'B-LOC', 'B-LOC', 'B-LOC', 'B-LOC', 'B-LOC', 'B-LOC', 'B-LOC', 'B-LOC', 'B-LOC', 'B-LOC', 'B-LOC', 'B-LOC', 'B-LOC', 'B-LOC', 'B-LOC', 'B-LOC', 'B-LOC', 'B-LOC', 'B-LOC', 'B-LOC', 'B-LOC', 'B-LOC', 'B-LOC', 'B-LOC', 'B-LOC', 'B-LOC', 'B-LOC', 'B-LOC', 'B-LOC', 'B-LOC', 'B-LOC', 'B-LOC', 'B-LOC', 'B-LOC', 'B-LOC', 'B-LOC', 'B-LOC', 'B-LOC', 'B-LOC', 'B-LOC', 'B-LOC', 'B-LOC', 'B-LOC', 'B-LOC', 'B-LOC', 'B-LOC', 'B-LOC', 'B-LOC', 'B-LOC', 'B-LOC', 'B-LOC', 'B-LOC', 'B-LOC', 'B-LOC', 'B-LOC', 'B-LOC', 'B-LOC', 'B-LOC', 'B-LOC', 'B-LOC', 'B-LOC', 'B-LOC', 'B-LOC', 'B-LOC', 'B-LOC', 'B-LOC', 'B-LOC', 'B-LOC']\n",
      "\n",
      "Séquence 2:\n",
      "Tokens: ['Nadim', 'Ladki']\n",
      "Étiquettes prédites: ['O', 'O', 'O', 'O', 'O', 'O', 'O', 'O', 'O', 'O', 'O', 'O', 'O', 'O', 'O', 'O', 'O', 'O', 'O', 'O', 'O', 'O', 'O', 'O', 'O', 'O', 'O', 'O', 'O', 'O', 'O', 'O', 'O', 'O', 'O', 'O', 'O', 'O', 'O', 'O', 'O', 'O', 'O', 'O', 'O', 'O', 'O', 'O', 'O', 'O', 'O', 'O', 'O', 'O', 'O', 'O', 'O', 'O', 'O', 'O', 'O', 'O', 'O', 'O', 'O', 'O', 'O', 'O', 'O', 'O', 'O', 'O', 'O', 'O', 'O', 'O', 'O', 'O', 'O', 'O', 'O', 'O', 'O', 'O', 'O', 'O', 'O', 'O', 'O', 'O', 'O', 'O', 'O', 'O', 'O', 'O', 'O', 'O', 'O', 'O', 'O', 'O', 'O', 'O', 'O', 'O', 'O', 'O', 'O', 'O', 'O', 'O', 'O', 'O', 'O', 'O', 'O', 'O', 'O', 'O', 'O', 'O', 'O', 'O']\n",
      "\n",
      "Séquence 3:\n",
      "Tokens: ['AL-AIN', ',', 'United', 'Arab', 'Emirates', '1996-12-06']\n",
      "Étiquettes prédites: ['O', 'B-LOC', 'B-MISC', 'I-ORG', 'I-ORG', 'I-ORG', 'I-ORG', 'I-ORG', 'I-ORG', 'I-ORG', 'I-ORG', 'I-ORG', 'I-ORG', 'I-ORG', 'I-ORG', 'I-ORG', 'I-ORG', 'I-ORG', 'I-ORG', 'I-ORG', 'I-ORG', 'I-ORG', 'I-ORG', 'I-ORG', 'I-ORG', 'I-ORG', 'I-ORG', 'I-ORG', 'I-ORG', 'I-ORG', 'I-ORG', 'I-ORG', 'I-ORG', 'I-ORG', 'I-ORG', 'I-ORG', 'I-ORG', 'I-ORG', 'I-ORG', 'I-ORG', 'I-ORG', 'I-ORG', 'I-ORG', 'I-ORG', 'I-ORG', 'I-ORG', 'I-ORG', 'I-ORG', 'I-ORG', 'I-ORG', 'I-ORG', 'I-ORG', 'I-ORG', 'I-ORG', 'I-ORG', 'I-ORG', 'I-ORG', 'I-ORG', 'I-ORG', 'I-ORG', 'I-ORG', 'I-ORG', 'I-ORG', 'I-ORG', 'I-ORG', 'I-ORG', 'I-ORG', 'I-ORG', 'I-ORG', 'I-ORG', 'I-ORG', 'I-ORG', 'I-ORG', 'I-ORG', 'I-ORG', 'I-ORG', 'I-ORG', 'I-ORG', 'I-ORG', 'I-ORG', 'I-ORG', 'I-ORG', 'I-ORG', 'I-ORG', 'I-ORG', 'I-ORG', 'I-ORG', 'I-ORG', 'I-ORG', 'I-ORG', 'I-ORG', 'I-ORG', 'I-ORG', 'I-ORG', 'I-ORG', 'I-ORG', 'I-ORG', 'I-ORG', 'I-ORG', 'I-ORG', 'I-ORG', 'I-ORG', 'I-ORG', 'I-ORG', 'I-ORG', 'I-ORG', 'I-ORG', 'I-ORG', 'I-ORG', 'I-ORG', 'I-ORG', 'I-ORG', 'I-ORG', 'I-ORG', 'I-ORG', 'I-ORG', 'I-ORG', 'I-ORG', 'I-ORG', 'I-ORG', 'I-ORG', 'I-ORG', 'I-ORG', 'I-ORG']\n",
      "\n",
      "Séquence 4:\n",
      "Tokens: ['Japan', 'began', 'the', 'defence', 'of', 'their', 'Asian', 'Cup', 'title', 'with', 'a', 'lucky', '2-1', 'win', 'against', 'Syria', 'in', 'a', 'Group', 'C', 'championship', 'match', 'on', 'Friday', '.']\n",
      "Étiquettes prédites: ['B-MISC', 'B-LOC', 'B-LOC', 'B-LOC', 'B-LOC', 'B-LOC', 'B-PER', 'B-ORG', 'B-LOC', 'B-LOC', 'B-LOC', 'B-LOC', 'B-LOC', 'B-LOC', 'B-LOC', 'B-MISC', 'B-LOC', 'B-LOC', 'B-LOC', 'B-LOC', 'B-LOC', 'B-LOC', 'B-LOC', 'B-LOC', 'B-LOC', 'B-LOC', 'B-LOC', 'B-LOC', 'B-LOC', 'B-LOC', 'B-LOC', 'B-LOC', 'B-LOC', 'B-LOC', 'B-LOC', 'B-LOC', 'B-LOC', 'B-LOC', 'B-LOC', 'B-LOC', 'B-LOC', 'B-LOC', 'B-LOC', 'B-LOC', 'B-LOC', 'B-LOC', 'B-LOC', 'B-LOC', 'B-LOC', 'B-LOC', 'B-LOC', 'B-LOC', 'B-LOC', 'B-LOC', 'B-LOC', 'B-LOC', 'B-LOC', 'B-LOC', 'B-LOC', 'B-LOC', 'B-LOC', 'B-LOC', 'B-LOC', 'B-LOC', 'B-LOC', 'B-LOC', 'B-LOC', 'B-LOC', 'B-LOC', 'B-LOC', 'B-LOC', 'B-LOC', 'B-LOC', 'B-LOC', 'B-LOC', 'B-LOC', 'B-LOC', 'B-LOC', 'B-LOC', 'B-LOC', 'B-LOC', 'B-LOC', 'B-LOC', 'B-LOC', 'B-LOC', 'B-LOC', 'B-LOC', 'B-LOC', 'B-LOC', 'B-LOC', 'B-LOC', 'B-LOC', 'B-LOC', 'B-LOC', 'B-LOC', 'B-LOC', 'B-LOC', 'B-LOC', 'B-LOC', 'B-LOC', 'B-LOC', 'B-LOC', 'B-LOC', 'B-LOC', 'B-LOC', 'B-LOC', 'B-LOC', 'B-LOC', 'B-LOC', 'B-LOC', 'B-LOC', 'B-LOC', 'B-LOC', 'B-LOC', 'B-LOC', 'B-LOC', 'B-LOC', 'B-LOC', 'B-LOC', 'B-LOC', 'B-LOC', 'B-LOC', 'B-LOC', 'B-LOC']\n",
      "\n",
      "Séquence 5:\n",
      "Tokens: ['But', 'China', 'saw', 'their', 'luck', 'desert', 'them', 'in', 'the', 'second', 'match', 'of', 'the', 'group', ',', 'crashing', 'to', 'a', 'surprise', '2-0', 'defeat', 'to', 'newcomers', 'Uzbekistan', '.']\n",
      "Étiquettes prédites: ['B-LOC', 'B-MISC', 'B-LOC', 'B-LOC', 'B-LOC', 'B-LOC', 'B-LOC', 'B-LOC', 'B-LOC', 'B-LOC', 'B-LOC', 'B-LOC', 'B-LOC', 'B-LOC', 'B-LOC', 'B-LOC', 'B-LOC', 'B-LOC', 'B-LOC', 'B-LOC', 'B-LOC', 'B-LOC', 'B-LOC', 'B-LOC', 'B-LOC', 'B-LOC', 'B-LOC', 'B-LOC', 'B-LOC', 'B-LOC', 'B-LOC', 'B-LOC', 'B-LOC', 'B-LOC', 'B-LOC', 'B-LOC', 'B-LOC', 'B-LOC', 'B-LOC', 'B-LOC', 'B-LOC', 'B-LOC', 'B-LOC', 'B-LOC', 'B-LOC', 'B-LOC', 'B-LOC', 'B-LOC', 'B-LOC', 'B-LOC', 'B-LOC', 'B-LOC', 'B-LOC', 'B-LOC', 'B-LOC', 'B-LOC', 'B-LOC', 'B-LOC', 'B-LOC', 'B-LOC', 'B-LOC', 'B-LOC', 'B-LOC', 'B-LOC', 'B-LOC', 'B-LOC', 'B-LOC', 'B-LOC', 'B-LOC', 'B-LOC', 'B-LOC', 'B-LOC', 'B-LOC', 'B-LOC', 'B-LOC', 'B-LOC', 'B-LOC', 'B-LOC', 'B-LOC', 'B-LOC', 'B-LOC', 'B-LOC', 'B-LOC', 'B-LOC', 'B-LOC', 'B-LOC', 'B-LOC', 'B-LOC', 'B-LOC', 'B-LOC', 'B-LOC', 'B-LOC', 'B-LOC', 'B-LOC', 'B-LOC', 'B-LOC', 'B-LOC', 'B-LOC', 'B-LOC', 'B-LOC', 'B-LOC', 'B-LOC', 'B-LOC', 'B-LOC', 'B-LOC', 'B-LOC', 'B-LOC', 'B-LOC', 'B-LOC', 'B-LOC', 'B-LOC', 'B-LOC', 'B-LOC', 'B-LOC', 'B-LOC', 'B-LOC', 'B-LOC', 'B-LOC', 'B-LOC', 'B-LOC', 'B-LOC', 'B-LOC', 'B-LOC', 'B-LOC']\n",
      "\n"
     ]
    }
   ],
   "source": [
    "#On calcule les prédictions sur la séquence du jeu de données test\n",
    "predictions = ner1.predict(test_sequences_int)\n",
    "\n",
    "def decode_predictions(predictions, sequences):\n",
    "    \"\"\"\n",
    "    Décode les prédictions du modèle en étiquettes prédites.\n",
    "\n",
    "    Args:\n",
    "        predictions (list): Liste de listes représentant les prédictions du modèle pour chaque token dans chaque séquence.\n",
    "        sequences (list): Liste de listes représentant les séquences de tokens.\n",
    "\n",
    "    Returns:\n",
    "        list: Liste de listes contenant les étiquettes prédites pour chaque token dans chaque séquence.\n",
    "\n",
    "    La fonction parcourt les prédictions du modèle et les séquences de tokens, elle décode chaque prédiction en étiquette prédite en utilisant l'indice de la classe avec la probabilité la plus élevée, puis les ajoute à une liste de listes pour représenter les étiquettes prédites pour chaque token dans chaque séquence.\n",
    "\n",
    "    Les tokens de rembourrage (chaînes vides) sont ignorés et ne sont pas inclus dans les étiquettes prédites.\n",
    "\n",
    "    Exemple d'utilisation:\n",
    "        predictions = ner_model.predict(test_sequences_int)\n",
    "        predicted_labels = decode_predictions(predictions, test_sequences)\n",
    "    \"\"\"\n",
    "    # Définir un dictionnaire pour convertir les indices de classe en étiquettes prédites\n",
    "    int_to_label = {0: 'O', 1: 'B-LOC', 2: 'B-PER', 3: 'I-PER', 4: 'I-LOC', 5: 'B-MISC', 6: 'I-MISC', 7: 'B-ORG', 8: 'I-ORG'}\n",
    "\n",
    "    decoded_labels = []\n",
    "    for i, sequence in enumerate(predictions):\n",
    "        decoded_sequence = []\n",
    "        for j, token_probs in enumerate(sequence):\n",
    "            # Vérifier si le token est un token de rembourrage\n",
    "            if sequences[i][j] != '&RBRRG':\n",
    "                # Sélectionner l'indice de la classe avec la probabilité la plus élevée\n",
    "                predicted_label_index = np.argmax(token_probs)\n",
    "\n",
    "                # Convertir l'indice de la classe en étiquette prédite en utilisant le dictionnaire inverse\n",
    "                predicted_label = int_to_label[predicted_label_index]\n",
    "            else:\n",
    "                # Ignorer les tokens de rembourrage\n",
    "                predicted_label = '&RBRRG'\n",
    "\n",
    "            decoded_sequence.append(predicted_label)\n",
    "        decoded_labels.append(decoded_sequence)\n",
    "    return decoded_labels\n",
    "\n",
    "\n",
    "#Utiliser la fonction pour décoder les prédictions\n",
    "predicted_labels = decode_predictions(predictions, test_sequences)\n",
    "\n",
    "#Aperçu des étiquettes prédites pour les 5 premières séquences de test\n",
    "for i in range(5):\n",
    "    print(\"Séquence {}:\".format(i+1))\n",
    "\n",
    "    #Pour l'esthétique\n",
    "    #On filtre les tokens et les étiquettes prédites contenant des chaînes vides\n",
    "    filtered_tokens = [token for token in test_sequences[i] if token != '']\n",
    "    filtered_predicted_labels = [label for label in predicted_labels[i] if label != '']\n",
    "\n",
    "    print(\"Tokens:\", filtered_tokens)\n",
    "    print(\"Étiquettes prédites:\", filtered_predicted_labels)\n",
    "\n",
    "    print()"
   ]
  },
  {
   "cell_type": "code",
   "execution_count": 14,
   "metadata": {},
   "outputs": [
    {
     "name": "stdout",
     "output_type": "stream",
     "text": [
      "B-LOC: Recall = 0.00, Precision = 0.00, F1-score = 0.00\n",
      "I-LOC: Recall = 0.00, Precision = 0.00, F1-score = 0.00\n",
      "B-PER: Recall = 0.00, Precision = 0.00, F1-score = 0.00\n",
      "I-PER: Recall = 0.00, Precision = 0.00, F1-score = 0.00\n",
      "B-ORG: Recall = 0.00, Precision = 0.00, F1-score = 0.00\n",
      "I-ORG: Recall = 0.00, Precision = 0.00, F1-score = 0.00\n",
      "B-MISC: Recall = 0.00, Precision = 0.00, F1-score = 0.00\n",
      "I-MISC: Recall = 0.00, Precision = 0.00, F1-score = 0.00\n",
      "Global: Recall = 0.00, Precision = 0.00, F1-score = 0.00\n",
      "Global: Recall = 0.00, Precision = 0.00, F1-score = 0.00\n"
     ]
    }
   ],
   "source": [
    "#On extrait des étiquettes vraies du DataFrame de test du début\n",
    "true_labels = test_df.groupby(\"SENTENCE\")[\"NE\"].apply(list).tolist()\n",
    "\n",
    "#On nettoie les étiquettes prédites en enlevant les étiquettes vides\n",
    "#Il faut les même longueurs pour les étiquettes prédits et véritables\n",
    "predicted_labels_cleaned = [[label for label in sequence if label != ''] for sequence in predicted_labels]\n",
    "\n",
    "#On calcule les scores en utilisant la fonction calculate_scores définit plus haut\n",
    "scores = calculate_scores(true_labels, predicted_labels_cleaned)\n",
    "\n",
    "#On affiche les scores pour chaque étiquette et pour le score global\n",
    "for label, score in scores.items():\n",
    "    print(f\"{label}: Recall = {score['Recall']:.2f}, Precision = {score['Precision']:.2f}, F1-score = {score['F1-score']:.2f}\")\n",
    "\n",
    "#Score global\n",
    "print(\"Global: Recall = {:.2f}, Precision = {:.2f}, F1-score = {:.2f}\".format(scores['Global']['Recall'], scores['Global']['Precision'], scores['Global']['F1-score']))\n"
   ]
  }
 ],
 "metadata": {
  "accelerator": "GPU",
  "colab": {
   "gpuType": "T4",
   "provenance": []
  },
  "kaggle": {
   "accelerator": "nvidiaTeslaT4",
   "dataSources": [],
   "dockerImageVersionId": 30664,
   "isGpuEnabled": true,
   "isInternetEnabled": true,
   "language": "python",
   "sourceType": "notebook"
  },
  "kernelspec": {
   "display_name": "Python 3",
   "language": "python",
   "name": "python3"
  },
  "language_info": {
   "codemirror_mode": {
    "name": "ipython",
    "version": 3
   },
   "file_extension": ".py",
   "mimetype": "text/x-python",
   "name": "python",
   "nbconvert_exporter": "python",
   "pygments_lexer": "ipython3",
   "version": "3.10.12"
  },
  "widgets": {
   "application/vnd.jupyter.widget-state+json": {
    "007df8918561453d887ab7925755162e": {
     "model_module": "@jupyter-widgets/base",
     "model_module_version": "1.2.0",
     "model_name": "LayoutModel",
     "state": {
      "_model_module": "@jupyter-widgets/base",
      "_model_module_version": "1.2.0",
      "_model_name": "LayoutModel",
      "_view_count": null,
      "_view_module": "@jupyter-widgets/base",
      "_view_module_version": "1.2.0",
      "_view_name": "LayoutView",
      "align_content": null,
      "align_items": null,
      "align_self": null,
      "border": null,
      "bottom": null,
      "display": null,
      "flex": null,
      "flex_flow": null,
      "grid_area": null,
      "grid_auto_columns": null,
      "grid_auto_flow": null,
      "grid_auto_rows": null,
      "grid_column": null,
      "grid_gap": null,
      "grid_row": null,
      "grid_template_areas": null,
      "grid_template_columns": null,
      "grid_template_rows": null,
      "height": null,
      "justify_content": null,
      "justify_items": null,
      "left": null,
      "margin": null,
      "max_height": null,
      "max_width": null,
      "min_height": null,
      "min_width": null,
      "object_fit": null,
      "object_position": null,
      "order": null,
      "overflow": null,
      "overflow_x": null,
      "overflow_y": null,
      "padding": null,
      "right": null,
      "top": null,
      "visibility": null,
      "width": null
     }
    },
    "00d58e865df74ab693cd223e54e1c194": {
     "model_module": "@jupyter-widgets/controls",
     "model_module_version": "1.5.0",
     "model_name": "HTMLModel",
     "state": {
      "_dom_classes": [],
      "_model_module": "@jupyter-widgets/controls",
      "_model_module_version": "1.5.0",
      "_model_name": "HTMLModel",
      "_view_count": null,
      "_view_module": "@jupyter-widgets/controls",
      "_view_module_version": "1.5.0",
      "_view_name": "HTMLView",
      "description": "",
      "description_tooltip": null,
      "layout": "IPY_MODEL_350328a44c4d4ed1999fd440102eea58",
      "placeholder": "​",
      "style": "IPY_MODEL_3395200b4ce9443bab3c4424a0288829",
      "value": " 436M/436M [00:04&lt;00:00, 128MB/s]"
     }
    },
    "00dbb973bfba44428d7301cb0e913d7f": {
     "model_module": "@jupyter-widgets/controls",
     "model_module_version": "1.5.0",
     "model_name": "FloatProgressModel",
     "state": {
      "_dom_classes": [],
      "_model_module": "@jupyter-widgets/controls",
      "_model_module_version": "1.5.0",
      "_model_name": "FloatProgressModel",
      "_view_count": null,
      "_view_module": "@jupyter-widgets/controls",
      "_view_module_version": "1.5.0",
      "_view_name": "ProgressView",
      "bar_style": "success",
      "description": "",
      "description_tooltip": null,
      "layout": "IPY_MODEL_e92af131082c453da216e9a0f0cdbcb9",
      "max": 570,
      "min": 0,
      "orientation": "horizontal",
      "style": "IPY_MODEL_46904a32580344b89b4b1c5272019f87",
      "value": 570
     }
    },
    "019840352134493c8ebd23ca766bc477": {
     "model_module": "@jupyter-widgets/controls",
     "model_module_version": "1.5.0",
     "model_name": "DescriptionStyleModel",
     "state": {
      "_model_module": "@jupyter-widgets/controls",
      "_model_module_version": "1.5.0",
      "_model_name": "DescriptionStyleModel",
      "_view_count": null,
      "_view_module": "@jupyter-widgets/base",
      "_view_module_version": "1.2.0",
      "_view_name": "StyleView",
      "description_width": ""
     }
    },
    "0209ed2e0a444717baae0cbc459d2b2b": {
     "model_module": "@jupyter-widgets/base",
     "model_module_version": "1.2.0",
     "model_name": "LayoutModel",
     "state": {
      "_model_module": "@jupyter-widgets/base",
      "_model_module_version": "1.2.0",
      "_model_name": "LayoutModel",
      "_view_count": null,
      "_view_module": "@jupyter-widgets/base",
      "_view_module_version": "1.2.0",
      "_view_name": "LayoutView",
      "align_content": null,
      "align_items": null,
      "align_self": null,
      "border": null,
      "bottom": null,
      "display": null,
      "flex": null,
      "flex_flow": null,
      "grid_area": null,
      "grid_auto_columns": null,
      "grid_auto_flow": null,
      "grid_auto_rows": null,
      "grid_column": null,
      "grid_gap": null,
      "grid_row": null,
      "grid_template_areas": null,
      "grid_template_columns": null,
      "grid_template_rows": null,
      "height": null,
      "justify_content": null,
      "justify_items": null,
      "left": null,
      "margin": null,
      "max_height": null,
      "max_width": null,
      "min_height": null,
      "min_width": null,
      "object_fit": null,
      "object_position": null,
      "order": null,
      "overflow": null,
      "overflow_x": null,
      "overflow_y": null,
      "padding": null,
      "right": null,
      "top": null,
      "visibility": null,
      "width": null
     }
    },
    "061b043e756d4ee29832cae299378afd": {
     "model_module": "@jupyter-widgets/controls",
     "model_module_version": "1.5.0",
     "model_name": "FloatProgressModel",
     "state": {
      "_dom_classes": [],
      "_model_module": "@jupyter-widgets/controls",
      "_model_module_version": "1.5.0",
      "_model_name": "FloatProgressModel",
      "_view_count": null,
      "_view_module": "@jupyter-widgets/controls",
      "_view_module_version": "1.5.0",
      "_view_name": "ProgressView",
      "bar_style": "success",
      "description": "",
      "description_tooltip": null,
      "layout": "IPY_MODEL_dd93cd0301a842529474eed8f2eda54e",
      "max": 435797,
      "min": 0,
      "orientation": "horizontal",
      "style": "IPY_MODEL_8351412657fb4e318c1e5bd089d4de94",
      "value": 435797
     }
    },
    "098052c0aa4b4cccbb3fa38589003163": {
     "model_module": "@jupyter-widgets/controls",
     "model_module_version": "1.5.0",
     "model_name": "FloatProgressModel",
     "state": {
      "_dom_classes": [],
      "_model_module": "@jupyter-widgets/controls",
      "_model_module_version": "1.5.0",
      "_model_name": "FloatProgressModel",
      "_view_count": null,
      "_view_module": "@jupyter-widgets/controls",
      "_view_module_version": "1.5.0",
      "_view_name": "ProgressView",
      "bar_style": "success",
      "description": "",
      "description_tooltip": null,
      "layout": "IPY_MODEL_bc6d37cc24624e1d8784de5df22a697c",
      "max": 14041,
      "min": 0,
      "orientation": "horizontal",
      "style": "IPY_MODEL_851a28bd8fb64431a5affe23ab0edfe9",
      "value": 14041
     }
    },
    "09b28edaccc94e689272b7492f1acb21": {
     "model_module": "@jupyter-widgets/controls",
     "model_module_version": "1.5.0",
     "model_name": "ProgressStyleModel",
     "state": {
      "_model_module": "@jupyter-widgets/controls",
      "_model_module_version": "1.5.0",
      "_model_name": "ProgressStyleModel",
      "_view_count": null,
      "_view_module": "@jupyter-widgets/base",
      "_view_module_version": "1.2.0",
      "_view_name": "StyleView",
      "bar_color": null,
      "description_width": ""
     }
    },
    "0bb817b10daa48808f26e4735f4d744e": {
     "model_module": "@jupyter-widgets/base",
     "model_module_version": "1.2.0",
     "model_name": "LayoutModel",
     "state": {
      "_model_module": "@jupyter-widgets/base",
      "_model_module_version": "1.2.0",
      "_model_name": "LayoutModel",
      "_view_count": null,
      "_view_module": "@jupyter-widgets/base",
      "_view_module_version": "1.2.0",
      "_view_name": "LayoutView",
      "align_content": null,
      "align_items": null,
      "align_self": null,
      "border": null,
      "bottom": null,
      "display": null,
      "flex": null,
      "flex_flow": null,
      "grid_area": null,
      "grid_auto_columns": null,
      "grid_auto_flow": null,
      "grid_auto_rows": null,
      "grid_column": null,
      "grid_gap": null,
      "grid_row": null,
      "grid_template_areas": null,
      "grid_template_columns": null,
      "grid_template_rows": null,
      "height": null,
      "justify_content": null,
      "justify_items": null,
      "left": null,
      "margin": null,
      "max_height": null,
      "max_width": null,
      "min_height": null,
      "min_width": null,
      "object_fit": null,
      "object_position": null,
      "order": null,
      "overflow": null,
      "overflow_x": null,
      "overflow_y": null,
      "padding": null,
      "right": null,
      "top": null,
      "visibility": null,
      "width": null
     }
    },
    "0bcf0c00ac2f47a296edf2c82e1bbc7c": {
     "model_module": "@jupyter-widgets/controls",
     "model_module_version": "1.5.0",
     "model_name": "HTMLModel",
     "state": {
      "_dom_classes": [],
      "_model_module": "@jupyter-widgets/controls",
      "_model_module_version": "1.5.0",
      "_model_name": "HTMLModel",
      "_view_count": null,
      "_view_module": "@jupyter-widgets/controls",
      "_view_module_version": "1.5.0",
      "_view_name": "HTMLView",
      "description": "",
      "description_tooltip": null,
      "layout": "IPY_MODEL_007df8918561453d887ab7925755162e",
      "placeholder": "​",
      "style": "IPY_MODEL_3c6c9753ad6549c7b89193869c36b737",
      "value": " 49.0/49.0 [00:00&lt;00:00, 1.37kB/s]"
     }
    },
    "10dd7634c9094e5f9cfce87fa9a469dd": {
     "model_module": "@jupyter-widgets/base",
     "model_module_version": "1.2.0",
     "model_name": "LayoutModel",
     "state": {
      "_model_module": "@jupyter-widgets/base",
      "_model_module_version": "1.2.0",
      "_model_name": "LayoutModel",
      "_view_count": null,
      "_view_module": "@jupyter-widgets/base",
      "_view_module_version": "1.2.0",
      "_view_name": "LayoutView",
      "align_content": null,
      "align_items": null,
      "align_self": null,
      "border": null,
      "bottom": null,
      "display": null,
      "flex": null,
      "flex_flow": null,
      "grid_area": null,
      "grid_auto_columns": null,
      "grid_auto_flow": null,
      "grid_auto_rows": null,
      "grid_column": null,
      "grid_gap": null,
      "grid_row": null,
      "grid_template_areas": null,
      "grid_template_columns": null,
      "grid_template_rows": null,
      "height": null,
      "justify_content": null,
      "justify_items": null,
      "left": null,
      "margin": null,
      "max_height": null,
      "max_width": null,
      "min_height": null,
      "min_width": null,
      "object_fit": null,
      "object_position": null,
      "order": null,
      "overflow": null,
      "overflow_x": null,
      "overflow_y": null,
      "padding": null,
      "right": null,
      "top": null,
      "visibility": null,
      "width": null
     }
    },
    "12306e47d91843e984c08760ba85c5e1": {
     "model_module": "@jupyter-widgets/controls",
     "model_module_version": "1.5.0",
     "model_name": "HTMLModel",
     "state": {
      "_dom_classes": [],
      "_model_module": "@jupyter-widgets/controls",
      "_model_module_version": "1.5.0",
      "_model_name": "HTMLModel",
      "_view_count": null,
      "_view_module": "@jupyter-widgets/controls",
      "_view_module_version": "1.5.0",
      "_view_name": "HTMLView",
      "description": "",
      "description_tooltip": null,
      "layout": "IPY_MODEL_b4afcc2ace784754a4bf06ba33c61700",
      "placeholder": "​",
      "style": "IPY_MODEL_eb0e78520b4f458c975688a85ee4a499",
      "value": " 1.23M/1.23M [00:00&lt;00:00, 4.02MB/s]"
     }
    },
    "1a3c33a2e88b4ba3826f489b34db880f": {
     "model_module": "@jupyter-widgets/controls",
     "model_module_version": "1.5.0",
     "model_name": "DescriptionStyleModel",
     "state": {
      "_model_module": "@jupyter-widgets/controls",
      "_model_module_version": "1.5.0",
      "_model_name": "DescriptionStyleModel",
      "_view_count": null,
      "_view_module": "@jupyter-widgets/base",
      "_view_module_version": "1.2.0",
      "_view_name": "StyleView",
      "description_width": ""
     }
    },
    "1c278ddc12e142569bd28c869356b16d": {
     "model_module": "@jupyter-widgets/controls",
     "model_module_version": "1.5.0",
     "model_name": "DescriptionStyleModel",
     "state": {
      "_model_module": "@jupyter-widgets/controls",
      "_model_module_version": "1.5.0",
      "_model_name": "DescriptionStyleModel",
      "_view_count": null,
      "_view_module": "@jupyter-widgets/base",
      "_view_module_version": "1.2.0",
      "_view_name": "StyleView",
      "description_width": ""
     }
    },
    "1c6323763ace4b229fef4488c17d9b75": {
     "model_module": "@jupyter-widgets/base",
     "model_module_version": "1.2.0",
     "model_name": "LayoutModel",
     "state": {
      "_model_module": "@jupyter-widgets/base",
      "_model_module_version": "1.2.0",
      "_model_name": "LayoutModel",
      "_view_count": null,
      "_view_module": "@jupyter-widgets/base",
      "_view_module_version": "1.2.0",
      "_view_name": "LayoutView",
      "align_content": null,
      "align_items": null,
      "align_self": null,
      "border": null,
      "bottom": null,
      "display": null,
      "flex": null,
      "flex_flow": null,
      "grid_area": null,
      "grid_auto_columns": null,
      "grid_auto_flow": null,
      "grid_auto_rows": null,
      "grid_column": null,
      "grid_gap": null,
      "grid_row": null,
      "grid_template_areas": null,
      "grid_template_columns": null,
      "grid_template_rows": null,
      "height": null,
      "justify_content": null,
      "justify_items": null,
      "left": null,
      "margin": null,
      "max_height": null,
      "max_width": null,
      "min_height": null,
      "min_width": null,
      "object_fit": null,
      "object_position": null,
      "order": null,
      "overflow": null,
      "overflow_x": null,
      "overflow_y": null,
      "padding": null,
      "right": null,
      "top": null,
      "visibility": null,
      "width": null
     }
    },
    "20b13c2748ff438fbd6b0af54a6cf9ce": {
     "model_module": "@jupyter-widgets/controls",
     "model_module_version": "1.5.0",
     "model_name": "DescriptionStyleModel",
     "state": {
      "_model_module": "@jupyter-widgets/controls",
      "_model_module_version": "1.5.0",
      "_model_name": "DescriptionStyleModel",
      "_view_count": null,
      "_view_module": "@jupyter-widgets/base",
      "_view_module_version": "1.2.0",
      "_view_name": "StyleView",
      "description_width": ""
     }
    },
    "225fb7af4d8f43abb849594240da8f8f": {
     "model_module": "@jupyter-widgets/controls",
     "model_module_version": "1.5.0",
     "model_name": "DescriptionStyleModel",
     "state": {
      "_model_module": "@jupyter-widgets/controls",
      "_model_module_version": "1.5.0",
      "_model_name": "DescriptionStyleModel",
      "_view_count": null,
      "_view_module": "@jupyter-widgets/base",
      "_view_module_version": "1.2.0",
      "_view_name": "StyleView",
      "description_width": ""
     }
    },
    "24486130fc4a45f69ae9d7785b53f3dc": {
     "model_module": "@jupyter-widgets/controls",
     "model_module_version": "1.5.0",
     "model_name": "HBoxModel",
     "state": {
      "_dom_classes": [],
      "_model_module": "@jupyter-widgets/controls",
      "_model_module_version": "1.5.0",
      "_model_name": "HBoxModel",
      "_view_count": null,
      "_view_module": "@jupyter-widgets/controls",
      "_view_module_version": "1.5.0",
      "_view_name": "HBoxView",
      "box_style": "",
      "children": [
       "IPY_MODEL_25126bcdb4de44bbba4f0738b0d9c1c6",
       "IPY_MODEL_061b043e756d4ee29832cae299378afd",
       "IPY_MODEL_4565c01167a94c1c9ec58f978ac17e34"
      ],
      "layout": "IPY_MODEL_2a5bb026cfb6420c9de65c66ba618172"
     }
    },
    "25126bcdb4de44bbba4f0738b0d9c1c6": {
     "model_module": "@jupyter-widgets/controls",
     "model_module_version": "1.5.0",
     "model_name": "HTMLModel",
     "state": {
      "_dom_classes": [],
      "_model_module": "@jupyter-widgets/controls",
      "_model_module_version": "1.5.0",
      "_model_name": "HTMLModel",
      "_view_count": null,
      "_view_module": "@jupyter-widgets/controls",
      "_view_module_version": "1.5.0",
      "_view_name": "HTMLView",
      "description": "",
      "description_tooltip": null,
      "layout": "IPY_MODEL_550403b0ada849438542cbaeca6f174d",
      "placeholder": "​",
      "style": "IPY_MODEL_836a29d097c0495e86680c2342c3f652",
      "value": "tokenizer.json: 100%"
     }
    },
    "2691e4223470449785d9fbaaa2bfff84": {
     "model_module": "@jupyter-widgets/base",
     "model_module_version": "1.2.0",
     "model_name": "LayoutModel",
     "state": {
      "_model_module": "@jupyter-widgets/base",
      "_model_module_version": "1.2.0",
      "_model_name": "LayoutModel",
      "_view_count": null,
      "_view_module": "@jupyter-widgets/base",
      "_view_module_version": "1.2.0",
      "_view_name": "LayoutView",
      "align_content": null,
      "align_items": null,
      "align_self": null,
      "border": null,
      "bottom": null,
      "display": null,
      "flex": null,
      "flex_flow": null,
      "grid_area": null,
      "grid_auto_columns": null,
      "grid_auto_flow": null,
      "grid_auto_rows": null,
      "grid_column": null,
      "grid_gap": null,
      "grid_row": null,
      "grid_template_areas": null,
      "grid_template_columns": null,
      "grid_template_rows": null,
      "height": null,
      "justify_content": null,
      "justify_items": null,
      "left": null,
      "margin": null,
      "max_height": null,
      "max_width": null,
      "min_height": null,
      "min_width": null,
      "object_fit": null,
      "object_position": null,
      "order": null,
      "overflow": null,
      "overflow_x": null,
      "overflow_y": null,
      "padding": null,
      "right": null,
      "top": null,
      "visibility": null,
      "width": null
     }
    },
    "27a8716f49d2419c8e4fc46128ac6663": {
     "model_module": "@jupyter-widgets/controls",
     "model_module_version": "1.5.0",
     "model_name": "FloatProgressModel",
     "state": {
      "_dom_classes": [],
      "_model_module": "@jupyter-widgets/controls",
      "_model_module_version": "1.5.0",
      "_model_name": "FloatProgressModel",
      "_view_count": null,
      "_view_module": "@jupyter-widgets/controls",
      "_view_module_version": "1.5.0",
      "_view_name": "ProgressView",
      "bar_style": "success",
      "description": "",
      "description_tooltip": null,
      "layout": "IPY_MODEL_d8d172f16be7400fb53c78eb13cce24a",
      "max": 1227788,
      "min": 0,
      "orientation": "horizontal",
      "style": "IPY_MODEL_3f7fce24b1204fe69a779faadb8bf99a",
      "value": 1227788
     }
    },
    "2947b8ddf400416284f02c0a30133418": {
     "model_module": "@jupyter-widgets/controls",
     "model_module_version": "1.5.0",
     "model_name": "ProgressStyleModel",
     "state": {
      "_model_module": "@jupyter-widgets/controls",
      "_model_module_version": "1.5.0",
      "_model_name": "ProgressStyleModel",
      "_view_count": null,
      "_view_module": "@jupyter-widgets/base",
      "_view_module_version": "1.2.0",
      "_view_name": "StyleView",
      "bar_color": null,
      "description_width": ""
     }
    },
    "2a5bb026cfb6420c9de65c66ba618172": {
     "model_module": "@jupyter-widgets/base",
     "model_module_version": "1.2.0",
     "model_name": "LayoutModel",
     "state": {
      "_model_module": "@jupyter-widgets/base",
      "_model_module_version": "1.2.0",
      "_model_name": "LayoutModel",
      "_view_count": null,
      "_view_module": "@jupyter-widgets/base",
      "_view_module_version": "1.2.0",
      "_view_name": "LayoutView",
      "align_content": null,
      "align_items": null,
      "align_self": null,
      "border": null,
      "bottom": null,
      "display": null,
      "flex": null,
      "flex_flow": null,
      "grid_area": null,
      "grid_auto_columns": null,
      "grid_auto_flow": null,
      "grid_auto_rows": null,
      "grid_column": null,
      "grid_gap": null,
      "grid_row": null,
      "grid_template_areas": null,
      "grid_template_columns": null,
      "grid_template_rows": null,
      "height": null,
      "justify_content": null,
      "justify_items": null,
      "left": null,
      "margin": null,
      "max_height": null,
      "max_width": null,
      "min_height": null,
      "min_width": null,
      "object_fit": null,
      "object_position": null,
      "order": null,
      "overflow": null,
      "overflow_x": null,
      "overflow_y": null,
      "padding": null,
      "right": null,
      "top": null,
      "visibility": null,
      "width": null
     }
    },
    "2a974284ef374551b9051a21f55c527a": {
     "model_module": "@jupyter-widgets/controls",
     "model_module_version": "1.5.0",
     "model_name": "HTMLModel",
     "state": {
      "_dom_classes": [],
      "_model_module": "@jupyter-widgets/controls",
      "_model_module_version": "1.5.0",
      "_model_name": "HTMLModel",
      "_view_count": null,
      "_view_module": "@jupyter-widgets/controls",
      "_view_module_version": "1.5.0",
      "_view_name": "HTMLView",
      "description": "",
      "description_tooltip": null,
      "layout": "IPY_MODEL_0bb817b10daa48808f26e4735f4d744e",
      "placeholder": "​",
      "style": "IPY_MODEL_7da63f75dfa04ca9867790b622c45837",
      "value": "Downloading data: 100%"
     }
    },
    "2b4ea672262549299c6abc14ebdb3cc2": {
     "model_module": "@jupyter-widgets/base",
     "model_module_version": "1.2.0",
     "model_name": "LayoutModel",
     "state": {
      "_model_module": "@jupyter-widgets/base",
      "_model_module_version": "1.2.0",
      "_model_name": "LayoutModel",
      "_view_count": null,
      "_view_module": "@jupyter-widgets/base",
      "_view_module_version": "1.2.0",
      "_view_name": "LayoutView",
      "align_content": null,
      "align_items": null,
      "align_self": null,
      "border": null,
      "bottom": null,
      "display": null,
      "flex": null,
      "flex_flow": null,
      "grid_area": null,
      "grid_auto_columns": null,
      "grid_auto_flow": null,
      "grid_auto_rows": null,
      "grid_column": null,
      "grid_gap": null,
      "grid_row": null,
      "grid_template_areas": null,
      "grid_template_columns": null,
      "grid_template_rows": null,
      "height": null,
      "justify_content": null,
      "justify_items": null,
      "left": null,
      "margin": null,
      "max_height": null,
      "max_width": null,
      "min_height": null,
      "min_width": null,
      "object_fit": null,
      "object_position": null,
      "order": null,
      "overflow": null,
      "overflow_x": null,
      "overflow_y": null,
      "padding": null,
      "right": null,
      "top": null,
      "visibility": null,
      "width": null
     }
    },
    "2c23658f5eb94695a1ec2c686beac1f0": {
     "model_module": "@jupyter-widgets/controls",
     "model_module_version": "1.5.0",
     "model_name": "FloatProgressModel",
     "state": {
      "_dom_classes": [],
      "_model_module": "@jupyter-widgets/controls",
      "_model_module_version": "1.5.0",
      "_model_name": "FloatProgressModel",
      "_view_count": null,
      "_view_module": "@jupyter-widgets/controls",
      "_view_module_version": "1.5.0",
      "_view_name": "ProgressView",
      "bar_style": "success",
      "description": "",
      "description_tooltip": null,
      "layout": "IPY_MODEL_f1ee585c48324b5cb8dc900dd696942c",
      "max": 311883,
      "min": 0,
      "orientation": "horizontal",
      "style": "IPY_MODEL_54f551b6c0b94b8bbc4b62ede08b4fdd",
      "value": 311883
     }
    },
    "2ca57068fbc8491bbac87fe849370877": {
     "model_module": "@jupyter-widgets/base",
     "model_module_version": "1.2.0",
     "model_name": "LayoutModel",
     "state": {
      "_model_module": "@jupyter-widgets/base",
      "_model_module_version": "1.2.0",
      "_model_name": "LayoutModel",
      "_view_count": null,
      "_view_module": "@jupyter-widgets/base",
      "_view_module_version": "1.2.0",
      "_view_name": "LayoutView",
      "align_content": null,
      "align_items": null,
      "align_self": null,
      "border": null,
      "bottom": null,
      "display": null,
      "flex": null,
      "flex_flow": null,
      "grid_area": null,
      "grid_auto_columns": null,
      "grid_auto_flow": null,
      "grid_auto_rows": null,
      "grid_column": null,
      "grid_gap": null,
      "grid_row": null,
      "grid_template_areas": null,
      "grid_template_columns": null,
      "grid_template_rows": null,
      "height": null,
      "justify_content": null,
      "justify_items": null,
      "left": null,
      "margin": null,
      "max_height": null,
      "max_width": null,
      "min_height": null,
      "min_width": null,
      "object_fit": null,
      "object_position": null,
      "order": null,
      "overflow": null,
      "overflow_x": null,
      "overflow_y": null,
      "padding": null,
      "right": null,
      "top": null,
      "visibility": null,
      "width": null
     }
    },
    "2efbd26818ea4019a339205594363246": {
     "model_module": "@jupyter-widgets/base",
     "model_module_version": "1.2.0",
     "model_name": "LayoutModel",
     "state": {
      "_model_module": "@jupyter-widgets/base",
      "_model_module_version": "1.2.0",
      "_model_name": "LayoutModel",
      "_view_count": null,
      "_view_module": "@jupyter-widgets/base",
      "_view_module_version": "1.2.0",
      "_view_name": "LayoutView",
      "align_content": null,
      "align_items": null,
      "align_self": null,
      "border": null,
      "bottom": null,
      "display": null,
      "flex": null,
      "flex_flow": null,
      "grid_area": null,
      "grid_auto_columns": null,
      "grid_auto_flow": null,
      "grid_auto_rows": null,
      "grid_column": null,
      "grid_gap": null,
      "grid_row": null,
      "grid_template_areas": null,
      "grid_template_columns": null,
      "grid_template_rows": null,
      "height": null,
      "justify_content": null,
      "justify_items": null,
      "left": null,
      "margin": null,
      "max_height": null,
      "max_width": null,
      "min_height": null,
      "min_width": null,
      "object_fit": null,
      "object_position": null,
      "order": null,
      "overflow": null,
      "overflow_x": null,
      "overflow_y": null,
      "padding": null,
      "right": null,
      "top": null,
      "visibility": null,
      "width": null
     }
    },
    "2f0f784c24d3421087b02f9e26f358bd": {
     "model_module": "@jupyter-widgets/controls",
     "model_module_version": "1.5.0",
     "model_name": "DescriptionStyleModel",
     "state": {
      "_model_module": "@jupyter-widgets/controls",
      "_model_module_version": "1.5.0",
      "_model_name": "DescriptionStyleModel",
      "_view_count": null,
      "_view_module": "@jupyter-widgets/base",
      "_view_module_version": "1.2.0",
      "_view_name": "StyleView",
      "description_width": ""
     }
    },
    "2fcb56d5f99b49fdb41152368fc03c38": {
     "model_module": "@jupyter-widgets/controls",
     "model_module_version": "1.5.0",
     "model_name": "HTMLModel",
     "state": {
      "_dom_classes": [],
      "_model_module": "@jupyter-widgets/controls",
      "_model_module_version": "1.5.0",
      "_model_name": "HTMLModel",
      "_view_count": null,
      "_view_module": "@jupyter-widgets/controls",
      "_view_module_version": "1.5.0",
      "_view_name": "HTMLView",
      "description": "",
      "description_tooltip": null,
      "layout": "IPY_MODEL_7f8b3ab806924e45a101132077fdcfaf",
      "placeholder": "​",
      "style": "IPY_MODEL_1a3c33a2e88b4ba3826f489b34db880f",
      "value": "Downloading builder script: "
     }
    },
    "308df0b059314242a63f539b57ef8ee6": {
     "model_module": "@jupyter-widgets/base",
     "model_module_version": "1.2.0",
     "model_name": "LayoutModel",
     "state": {
      "_model_module": "@jupyter-widgets/base",
      "_model_module_version": "1.2.0",
      "_model_name": "LayoutModel",
      "_view_count": null,
      "_view_module": "@jupyter-widgets/base",
      "_view_module_version": "1.2.0",
      "_view_name": "LayoutView",
      "align_content": null,
      "align_items": null,
      "align_self": null,
      "border": null,
      "bottom": null,
      "display": null,
      "flex": null,
      "flex_flow": null,
      "grid_area": null,
      "grid_auto_columns": null,
      "grid_auto_flow": null,
      "grid_auto_rows": null,
      "grid_column": null,
      "grid_gap": null,
      "grid_row": null,
      "grid_template_areas": null,
      "grid_template_columns": null,
      "grid_template_rows": null,
      "height": null,
      "justify_content": null,
      "justify_items": null,
      "left": null,
      "margin": null,
      "max_height": null,
      "max_width": null,
      "min_height": null,
      "min_width": null,
      "object_fit": null,
      "object_position": null,
      "order": null,
      "overflow": null,
      "overflow_x": null,
      "overflow_y": null,
      "padding": null,
      "right": null,
      "top": null,
      "visibility": null,
      "width": null
     }
    },
    "322741fb757a4d55be4f4cfa53b82d13": {
     "model_module": "@jupyter-widgets/base",
     "model_module_version": "1.2.0",
     "model_name": "LayoutModel",
     "state": {
      "_model_module": "@jupyter-widgets/base",
      "_model_module_version": "1.2.0",
      "_model_name": "LayoutModel",
      "_view_count": null,
      "_view_module": "@jupyter-widgets/base",
      "_view_module_version": "1.2.0",
      "_view_name": "LayoutView",
      "align_content": null,
      "align_items": null,
      "align_self": null,
      "border": null,
      "bottom": null,
      "display": null,
      "flex": null,
      "flex_flow": null,
      "grid_area": null,
      "grid_auto_columns": null,
      "grid_auto_flow": null,
      "grid_auto_rows": null,
      "grid_column": null,
      "grid_gap": null,
      "grid_row": null,
      "grid_template_areas": null,
      "grid_template_columns": null,
      "grid_template_rows": null,
      "height": null,
      "justify_content": null,
      "justify_items": null,
      "left": null,
      "margin": null,
      "max_height": null,
      "max_width": null,
      "min_height": null,
      "min_width": null,
      "object_fit": null,
      "object_position": null,
      "order": null,
      "overflow": null,
      "overflow_x": null,
      "overflow_y": null,
      "padding": null,
      "right": null,
      "top": null,
      "visibility": null,
      "width": null
     }
    },
    "325dde0a88864400ab24580d62b2a8d8": {
     "model_module": "@jupyter-widgets/controls",
     "model_module_version": "1.5.0",
     "model_name": "HTMLModel",
     "state": {
      "_dom_classes": [],
      "_model_module": "@jupyter-widgets/controls",
      "_model_module_version": "1.5.0",
      "_model_name": "HTMLModel",
      "_view_count": null,
      "_view_module": "@jupyter-widgets/controls",
      "_view_module_version": "1.5.0",
      "_view_name": "HTMLView",
      "description": "",
      "description_tooltip": null,
      "layout": "IPY_MODEL_4ca6cc39df764c2a8c96a104008504d7",
      "placeholder": "​",
      "style": "IPY_MODEL_225fb7af4d8f43abb849594240da8f8f",
      "value": " 14041/14041 [00:04&lt;00:00, 3295.20 examples/s]"
     }
    },
    "33930400e8ce40a686a014a56eeaa794": {
     "model_module": "@jupyter-widgets/base",
     "model_module_version": "1.2.0",
     "model_name": "LayoutModel",
     "state": {
      "_model_module": "@jupyter-widgets/base",
      "_model_module_version": "1.2.0",
      "_model_name": "LayoutModel",
      "_view_count": null,
      "_view_module": "@jupyter-widgets/base",
      "_view_module_version": "1.2.0",
      "_view_name": "LayoutView",
      "align_content": null,
      "align_items": null,
      "align_self": null,
      "border": null,
      "bottom": null,
      "display": null,
      "flex": null,
      "flex_flow": null,
      "grid_area": null,
      "grid_auto_columns": null,
      "grid_auto_flow": null,
      "grid_auto_rows": null,
      "grid_column": null,
      "grid_gap": null,
      "grid_row": null,
      "grid_template_areas": null,
      "grid_template_columns": null,
      "grid_template_rows": null,
      "height": null,
      "justify_content": null,
      "justify_items": null,
      "left": null,
      "margin": null,
      "max_height": null,
      "max_width": null,
      "min_height": null,
      "min_width": null,
      "object_fit": null,
      "object_position": null,
      "order": null,
      "overflow": null,
      "overflow_x": null,
      "overflow_y": null,
      "padding": null,
      "right": null,
      "top": null,
      "visibility": null,
      "width": null
     }
    },
    "3395200b4ce9443bab3c4424a0288829": {
     "model_module": "@jupyter-widgets/controls",
     "model_module_version": "1.5.0",
     "model_name": "DescriptionStyleModel",
     "state": {
      "_model_module": "@jupyter-widgets/controls",
      "_model_module_version": "1.5.0",
      "_model_name": "DescriptionStyleModel",
      "_view_count": null,
      "_view_module": "@jupyter-widgets/base",
      "_view_module_version": "1.2.0",
      "_view_name": "StyleView",
      "description_width": ""
     }
    },
    "350328a44c4d4ed1999fd440102eea58": {
     "model_module": "@jupyter-widgets/base",
     "model_module_version": "1.2.0",
     "model_name": "LayoutModel",
     "state": {
      "_model_module": "@jupyter-widgets/base",
      "_model_module_version": "1.2.0",
      "_model_name": "LayoutModel",
      "_view_count": null,
      "_view_module": "@jupyter-widgets/base",
      "_view_module_version": "1.2.0",
      "_view_name": "LayoutView",
      "align_content": null,
      "align_items": null,
      "align_self": null,
      "border": null,
      "bottom": null,
      "display": null,
      "flex": null,
      "flex_flow": null,
      "grid_area": null,
      "grid_auto_columns": null,
      "grid_auto_flow": null,
      "grid_auto_rows": null,
      "grid_column": null,
      "grid_gap": null,
      "grid_row": null,
      "grid_template_areas": null,
      "grid_template_columns": null,
      "grid_template_rows": null,
      "height": null,
      "justify_content": null,
      "justify_items": null,
      "left": null,
      "margin": null,
      "max_height": null,
      "max_width": null,
      "min_height": null,
      "min_width": null,
      "object_fit": null,
      "object_position": null,
      "order": null,
      "overflow": null,
      "overflow_x": null,
      "overflow_y": null,
      "padding": null,
      "right": null,
      "top": null,
      "visibility": null,
      "width": null
     }
    },
    "35f02dea13ca4c88b43c7bf878d46856": {
     "model_module": "@jupyter-widgets/controls",
     "model_module_version": "1.5.0",
     "model_name": "DescriptionStyleModel",
     "state": {
      "_model_module": "@jupyter-widgets/controls",
      "_model_module_version": "1.5.0",
      "_model_name": "DescriptionStyleModel",
      "_view_count": null,
      "_view_module": "@jupyter-widgets/base",
      "_view_module_version": "1.2.0",
      "_view_name": "StyleView",
      "description_width": ""
     }
    },
    "385a8298d3a4440ba5a8c6382f582eb7": {
     "model_module": "@jupyter-widgets/controls",
     "model_module_version": "1.5.0",
     "model_name": "HTMLModel",
     "state": {
      "_dom_classes": [],
      "_model_module": "@jupyter-widgets/controls",
      "_model_module_version": "1.5.0",
      "_model_name": "HTMLModel",
      "_view_count": null,
      "_view_module": "@jupyter-widgets/controls",
      "_view_module_version": "1.5.0",
      "_view_name": "HTMLView",
      "description": "",
      "description_tooltip": null,
      "layout": "IPY_MODEL_e82e833195ca48c789b10886f2a6a0a9",
      "placeholder": "​",
      "style": "IPY_MODEL_c03e974e934d4fa181f33e50e73241a3",
      "value": " 312k/312k [00:00&lt;00:00, 2.47MB/s]"
     }
    },
    "390cd3b434264df6a827d88cd53c4642": {
     "model_module": "@jupyter-widgets/controls",
     "model_module_version": "1.5.0",
     "model_name": "HTMLModel",
     "state": {
      "_dom_classes": [],
      "_model_module": "@jupyter-widgets/controls",
      "_model_module_version": "1.5.0",
      "_model_name": "HTMLModel",
      "_view_count": null,
      "_view_module": "@jupyter-widgets/controls",
      "_view_module_version": "1.5.0",
      "_view_name": "HTMLView",
      "description": "",
      "description_tooltip": null,
      "layout": "IPY_MODEL_bde35ca06bfd414bbabb716aac928566",
      "placeholder": "​",
      "style": "IPY_MODEL_59e34226d5194a5da4890cab7eaa517b",
      "value": " 14041/14041 [00:00&lt;00:00, 66208.32 examples/s]"
     }
    },
    "3b17d1f88bb84e14aabcfbaaba5c34bd": {
     "model_module": "@jupyter-widgets/base",
     "model_module_version": "1.2.0",
     "model_name": "LayoutModel",
     "state": {
      "_model_module": "@jupyter-widgets/base",
      "_model_module_version": "1.2.0",
      "_model_name": "LayoutModel",
      "_view_count": null,
      "_view_module": "@jupyter-widgets/base",
      "_view_module_version": "1.2.0",
      "_view_name": "LayoutView",
      "align_content": null,
      "align_items": null,
      "align_self": null,
      "border": null,
      "bottom": null,
      "display": null,
      "flex": null,
      "flex_flow": null,
      "grid_area": null,
      "grid_auto_columns": null,
      "grid_auto_flow": null,
      "grid_auto_rows": null,
      "grid_column": null,
      "grid_gap": null,
      "grid_row": null,
      "grid_template_areas": null,
      "grid_template_columns": null,
      "grid_template_rows": null,
      "height": null,
      "justify_content": null,
      "justify_items": null,
      "left": null,
      "margin": null,
      "max_height": null,
      "max_width": null,
      "min_height": null,
      "min_width": null,
      "object_fit": null,
      "object_position": null,
      "order": null,
      "overflow": null,
      "overflow_x": null,
      "overflow_y": null,
      "padding": null,
      "right": null,
      "top": null,
      "visibility": null,
      "width": null
     }
    },
    "3b6cce88168845c6a42364afc4a17d5e": {
     "model_module": "@jupyter-widgets/base",
     "model_module_version": "1.2.0",
     "model_name": "LayoutModel",
     "state": {
      "_model_module": "@jupyter-widgets/base",
      "_model_module_version": "1.2.0",
      "_model_name": "LayoutModel",
      "_view_count": null,
      "_view_module": "@jupyter-widgets/base",
      "_view_module_version": "1.2.0",
      "_view_name": "LayoutView",
      "align_content": null,
      "align_items": null,
      "align_self": null,
      "border": null,
      "bottom": null,
      "display": null,
      "flex": null,
      "flex_flow": null,
      "grid_area": null,
      "grid_auto_columns": null,
      "grid_auto_flow": null,
      "grid_auto_rows": null,
      "grid_column": null,
      "grid_gap": null,
      "grid_row": null,
      "grid_template_areas": null,
      "grid_template_columns": null,
      "grid_template_rows": null,
      "height": null,
      "justify_content": null,
      "justify_items": null,
      "left": null,
      "margin": null,
      "max_height": null,
      "max_width": null,
      "min_height": null,
      "min_width": null,
      "object_fit": null,
      "object_position": null,
      "order": null,
      "overflow": null,
      "overflow_x": null,
      "overflow_y": null,
      "padding": null,
      "right": null,
      "top": null,
      "visibility": null,
      "width": null
     }
    },
    "3bb3861dab144712857702bcadf88dc5": {
     "model_module": "@jupyter-widgets/base",
     "model_module_version": "1.2.0",
     "model_name": "LayoutModel",
     "state": {
      "_model_module": "@jupyter-widgets/base",
      "_model_module_version": "1.2.0",
      "_model_name": "LayoutModel",
      "_view_count": null,
      "_view_module": "@jupyter-widgets/base",
      "_view_module_version": "1.2.0",
      "_view_name": "LayoutView",
      "align_content": null,
      "align_items": null,
      "align_self": null,
      "border": null,
      "bottom": null,
      "display": null,
      "flex": null,
      "flex_flow": null,
      "grid_area": null,
      "grid_auto_columns": null,
      "grid_auto_flow": null,
      "grid_auto_rows": null,
      "grid_column": null,
      "grid_gap": null,
      "grid_row": null,
      "grid_template_areas": null,
      "grid_template_columns": null,
      "grid_template_rows": null,
      "height": null,
      "justify_content": null,
      "justify_items": null,
      "left": null,
      "margin": null,
      "max_height": null,
      "max_width": null,
      "min_height": null,
      "min_width": null,
      "object_fit": null,
      "object_position": null,
      "order": null,
      "overflow": null,
      "overflow_x": null,
      "overflow_y": null,
      "padding": null,
      "right": null,
      "top": null,
      "visibility": null,
      "width": null
     }
    },
    "3c6c9753ad6549c7b89193869c36b737": {
     "model_module": "@jupyter-widgets/controls",
     "model_module_version": "1.5.0",
     "model_name": "DescriptionStyleModel",
     "state": {
      "_model_module": "@jupyter-widgets/controls",
      "_model_module_version": "1.5.0",
      "_model_name": "DescriptionStyleModel",
      "_view_count": null,
      "_view_module": "@jupyter-widgets/base",
      "_view_module_version": "1.2.0",
      "_view_name": "StyleView",
      "description_width": ""
     }
    },
    "3cf530011d364a169b17778ad8e88416": {
     "model_module": "@jupyter-widgets/controls",
     "model_module_version": "1.5.0",
     "model_name": "FloatProgressModel",
     "state": {
      "_dom_classes": [],
      "_model_module": "@jupyter-widgets/controls",
      "_model_module_version": "1.5.0",
      "_model_name": "FloatProgressModel",
      "_view_count": null,
      "_view_module": "@jupyter-widgets/controls",
      "_view_module_version": "1.5.0",
      "_view_name": "ProgressView",
      "bar_style": "success",
      "description": "",
      "description_tooltip": null,
      "layout": "IPY_MODEL_2ca57068fbc8491bbac87fe849370877",
      "max": 3250,
      "min": 0,
      "orientation": "horizontal",
      "style": "IPY_MODEL_c809112d4241483d99bdd3495ff6548b",
      "value": 3250
     }
    },
    "3eda64955d3b40a8a7e33fed597181e1": {
     "model_module": "@jupyter-widgets/base",
     "model_module_version": "1.2.0",
     "model_name": "LayoutModel",
     "state": {
      "_model_module": "@jupyter-widgets/base",
      "_model_module_version": "1.2.0",
      "_model_name": "LayoutModel",
      "_view_count": null,
      "_view_module": "@jupyter-widgets/base",
      "_view_module_version": "1.2.0",
      "_view_name": "LayoutView",
      "align_content": null,
      "align_items": null,
      "align_self": null,
      "border": null,
      "bottom": null,
      "display": null,
      "flex": null,
      "flex_flow": null,
      "grid_area": null,
      "grid_auto_columns": null,
      "grid_auto_flow": null,
      "grid_auto_rows": null,
      "grid_column": null,
      "grid_gap": null,
      "grid_row": null,
      "grid_template_areas": null,
      "grid_template_columns": null,
      "grid_template_rows": null,
      "height": null,
      "justify_content": null,
      "justify_items": null,
      "left": null,
      "margin": null,
      "max_height": null,
      "max_width": null,
      "min_height": null,
      "min_width": null,
      "object_fit": null,
      "object_position": null,
      "order": null,
      "overflow": null,
      "overflow_x": null,
      "overflow_y": null,
      "padding": null,
      "right": null,
      "top": null,
      "visibility": null,
      "width": null
     }
    },
    "3eeb529371aa474e9d2b8d15682fa175": {
     "model_module": "@jupyter-widgets/controls",
     "model_module_version": "1.5.0",
     "model_name": "HTMLModel",
     "state": {
      "_dom_classes": [],
      "_model_module": "@jupyter-widgets/controls",
      "_model_module_version": "1.5.0",
      "_model_name": "HTMLModel",
      "_view_count": null,
      "_view_module": "@jupyter-widgets/controls",
      "_view_module_version": "1.5.0",
      "_view_name": "HTMLView",
      "description": "",
      "description_tooltip": null,
      "layout": "IPY_MODEL_a8241de7cf444b0d926314d02b852b85",
      "placeholder": "​",
      "style": "IPY_MODEL_bdcf4d073ad14207a404877925a766f0",
      "value": "model.safetensors: 100%"
     }
    },
    "3f7fce24b1204fe69a779faadb8bf99a": {
     "model_module": "@jupyter-widgets/controls",
     "model_module_version": "1.5.0",
     "model_name": "ProgressStyleModel",
     "state": {
      "_model_module": "@jupyter-widgets/controls",
      "_model_module_version": "1.5.0",
      "_model_name": "ProgressStyleModel",
      "_view_count": null,
      "_view_module": "@jupyter-widgets/base",
      "_view_module_version": "1.2.0",
      "_view_name": "StyleView",
      "bar_color": null,
      "description_width": ""
     }
    },
    "4138f0f359d94216b19c1ff5bdf094a3": {
     "model_module": "@jupyter-widgets/base",
     "model_module_version": "1.2.0",
     "model_name": "LayoutModel",
     "state": {
      "_model_module": "@jupyter-widgets/base",
      "_model_module_version": "1.2.0",
      "_model_name": "LayoutModel",
      "_view_count": null,
      "_view_module": "@jupyter-widgets/base",
      "_view_module_version": "1.2.0",
      "_view_name": "LayoutView",
      "align_content": null,
      "align_items": null,
      "align_self": null,
      "border": null,
      "bottom": null,
      "display": null,
      "flex": null,
      "flex_flow": null,
      "grid_area": null,
      "grid_auto_columns": null,
      "grid_auto_flow": null,
      "grid_auto_rows": null,
      "grid_column": null,
      "grid_gap": null,
      "grid_row": null,
      "grid_template_areas": null,
      "grid_template_columns": null,
      "grid_template_rows": null,
      "height": null,
      "justify_content": null,
      "justify_items": null,
      "left": null,
      "margin": null,
      "max_height": null,
      "max_width": null,
      "min_height": null,
      "min_width": null,
      "object_fit": null,
      "object_position": null,
      "order": null,
      "overflow": null,
      "overflow_x": null,
      "overflow_y": null,
      "padding": null,
      "right": null,
      "top": null,
      "visibility": null,
      "width": null
     }
    },
    "44e3055940ba48edad1b4450d1786db3": {
     "model_module": "@jupyter-widgets/controls",
     "model_module_version": "1.5.0",
     "model_name": "HTMLModel",
     "state": {
      "_dom_classes": [],
      "_model_module": "@jupyter-widgets/controls",
      "_model_module_version": "1.5.0",
      "_model_name": "HTMLModel",
      "_view_count": null,
      "_view_module": "@jupyter-widgets/controls",
      "_view_module_version": "1.5.0",
      "_view_name": "HTMLView",
      "description": "",
      "description_tooltip": null,
      "layout": "IPY_MODEL_10dd7634c9094e5f9cfce87fa9a469dd",
      "placeholder": "​",
      "style": "IPY_MODEL_019840352134493c8ebd23ca766bc477",
      "value": "tokenizer_config.json: 100%"
     }
    },
    "4565c01167a94c1c9ec58f978ac17e34": {
     "model_module": "@jupyter-widgets/controls",
     "model_module_version": "1.5.0",
     "model_name": "HTMLModel",
     "state": {
      "_dom_classes": [],
      "_model_module": "@jupyter-widgets/controls",
      "_model_module_version": "1.5.0",
      "_model_name": "HTMLModel",
      "_view_count": null,
      "_view_module": "@jupyter-widgets/controls",
      "_view_module_version": "1.5.0",
      "_view_name": "HTMLView",
      "description": "",
      "description_tooltip": null,
      "layout": "IPY_MODEL_fcfbc7c1488a42678cec39473ab6ee01",
      "placeholder": "​",
      "style": "IPY_MODEL_2f0f784c24d3421087b02f9e26f358bd",
      "value": " 436k/436k [00:00&lt;00:00, 2.45MB/s]"
     }
    },
    "46904a32580344b89b4b1c5272019f87": {
     "model_module": "@jupyter-widgets/controls",
     "model_module_version": "1.5.0",
     "model_name": "ProgressStyleModel",
     "state": {
      "_model_module": "@jupyter-widgets/controls",
      "_model_module_version": "1.5.0",
      "_model_name": "ProgressStyleModel",
      "_view_count": null,
      "_view_module": "@jupyter-widgets/base",
      "_view_module_version": "1.2.0",
      "_view_name": "StyleView",
      "bar_color": null,
      "description_width": ""
     }
    },
    "4c4bcc10ae8c4e0aaabef0a8c80b1c61": {
     "model_module": "@jupyter-widgets/controls",
     "model_module_version": "1.5.0",
     "model_name": "FloatProgressModel",
     "state": {
      "_dom_classes": [],
      "_model_module": "@jupyter-widgets/controls",
      "_model_module_version": "1.5.0",
      "_model_name": "FloatProgressModel",
      "_view_count": null,
      "_view_module": "@jupyter-widgets/controls",
      "_view_module_version": "1.5.0",
      "_view_name": "ProgressView",
      "bar_style": "success",
      "description": "",
      "description_tooltip": null,
      "layout": "IPY_MODEL_d3c5870f4669479bb23dcb0fb8941fa5",
      "max": 283307,
      "min": 0,
      "orientation": "horizontal",
      "style": "IPY_MODEL_f8e3bdd6b8ef4d3eaa63a94b75349811",
      "value": 283307
     }
    },
    "4c5d37fcc2a5469ab092688a41e7b458": {
     "model_module": "@jupyter-widgets/controls",
     "model_module_version": "1.5.0",
     "model_name": "HTMLModel",
     "state": {
      "_dom_classes": [],
      "_model_module": "@jupyter-widgets/controls",
      "_model_module_version": "1.5.0",
      "_model_name": "HTMLModel",
      "_view_count": null,
      "_view_module": "@jupyter-widgets/controls",
      "_view_module_version": "1.5.0",
      "_view_name": "HTMLView",
      "description": "",
      "description_tooltip": null,
      "layout": "IPY_MODEL_cc776e3b126e4794b56b25f56b345063",
      "placeholder": "​",
      "style": "IPY_MODEL_800eae44f81847debad27b443128c428",
      "value": "Downloading data: 100%"
     }
    },
    "4ca6cc39df764c2a8c96a104008504d7": {
     "model_module": "@jupyter-widgets/base",
     "model_module_version": "1.2.0",
     "model_name": "LayoutModel",
     "state": {
      "_model_module": "@jupyter-widgets/base",
      "_model_module_version": "1.2.0",
      "_model_name": "LayoutModel",
      "_view_count": null,
      "_view_module": "@jupyter-widgets/base",
      "_view_module_version": "1.2.0",
      "_view_name": "LayoutView",
      "align_content": null,
      "align_items": null,
      "align_self": null,
      "border": null,
      "bottom": null,
      "display": null,
      "flex": null,
      "flex_flow": null,
      "grid_area": null,
      "grid_auto_columns": null,
      "grid_auto_flow": null,
      "grid_auto_rows": null,
      "grid_column": null,
      "grid_gap": null,
      "grid_row": null,
      "grid_template_areas": null,
      "grid_template_columns": null,
      "grid_template_rows": null,
      "height": null,
      "justify_content": null,
      "justify_items": null,
      "left": null,
      "margin": null,
      "max_height": null,
      "max_width": null,
      "min_height": null,
      "min_width": null,
      "object_fit": null,
      "object_position": null,
      "order": null,
      "overflow": null,
      "overflow_x": null,
      "overflow_y": null,
      "padding": null,
      "right": null,
      "top": null,
      "visibility": null,
      "width": null
     }
    },
    "524c4d3c91c64570bba6969326340585": {
     "model_module": "@jupyter-widgets/controls",
     "model_module_version": "1.5.0",
     "model_name": "HBoxModel",
     "state": {
      "_dom_classes": [],
      "_model_module": "@jupyter-widgets/controls",
      "_model_module_version": "1.5.0",
      "_model_name": "HBoxModel",
      "_view_count": null,
      "_view_module": "@jupyter-widgets/controls",
      "_view_module_version": "1.5.0",
      "_view_name": "HBoxView",
      "box_style": "",
      "children": [
       "IPY_MODEL_2fcb56d5f99b49fdb41152368fc03c38",
       "IPY_MODEL_881ba8c123e441cd838e5f1f6fa5bee5",
       "IPY_MODEL_636d7c7c630d4eca87e2ebfff7aa120c"
      ],
      "layout": "IPY_MODEL_7bc8d1e938ab4a7aae10ef45c7592078"
     }
    },
    "52dab8a99db04d0b86f819733f1b48bf": {
     "model_module": "@jupyter-widgets/controls",
     "model_module_version": "1.5.0",
     "model_name": "HTMLModel",
     "state": {
      "_dom_classes": [],
      "_model_module": "@jupyter-widgets/controls",
      "_model_module_version": "1.5.0",
      "_model_name": "HTMLModel",
      "_view_count": null,
      "_view_module": "@jupyter-widgets/controls",
      "_view_module_version": "1.5.0",
      "_view_name": "HTMLView",
      "description": "",
      "description_tooltip": null,
      "layout": "IPY_MODEL_0209ed2e0a444717baae0cbc459d2b2b",
      "placeholder": "​",
      "style": "IPY_MODEL_8cf5c773b3d44353b56392127fe7d48e",
      "value": "Generating train split: 100%"
     }
    },
    "54f551b6c0b94b8bbc4b62ede08b4fdd": {
     "model_module": "@jupyter-widgets/controls",
     "model_module_version": "1.5.0",
     "model_name": "ProgressStyleModel",
     "state": {
      "_model_module": "@jupyter-widgets/controls",
      "_model_module_version": "1.5.0",
      "_model_name": "ProgressStyleModel",
      "_view_count": null,
      "_view_module": "@jupyter-widgets/base",
      "_view_module_version": "1.2.0",
      "_view_name": "StyleView",
      "bar_color": null,
      "description_width": ""
     }
    },
    "550403b0ada849438542cbaeca6f174d": {
     "model_module": "@jupyter-widgets/base",
     "model_module_version": "1.2.0",
     "model_name": "LayoutModel",
     "state": {
      "_model_module": "@jupyter-widgets/base",
      "_model_module_version": "1.2.0",
      "_model_name": "LayoutModel",
      "_view_count": null,
      "_view_module": "@jupyter-widgets/base",
      "_view_module_version": "1.2.0",
      "_view_name": "LayoutView",
      "align_content": null,
      "align_items": null,
      "align_self": null,
      "border": null,
      "bottom": null,
      "display": null,
      "flex": null,
      "flex_flow": null,
      "grid_area": null,
      "grid_auto_columns": null,
      "grid_auto_flow": null,
      "grid_auto_rows": null,
      "grid_column": null,
      "grid_gap": null,
      "grid_row": null,
      "grid_template_areas": null,
      "grid_template_columns": null,
      "grid_template_rows": null,
      "height": null,
      "justify_content": null,
      "justify_items": null,
      "left": null,
      "margin": null,
      "max_height": null,
      "max_width": null,
      "min_height": null,
      "min_width": null,
      "object_fit": null,
      "object_position": null,
      "order": null,
      "overflow": null,
      "overflow_x": null,
      "overflow_y": null,
      "padding": null,
      "right": null,
      "top": null,
      "visibility": null,
      "width": null
     }
    },
    "597393335ad7421697e16f7a07c7f686": {
     "model_module": "@jupyter-widgets/controls",
     "model_module_version": "1.5.0",
     "model_name": "HBoxModel",
     "state": {
      "_dom_classes": [],
      "_model_module": "@jupyter-widgets/controls",
      "_model_module_version": "1.5.0",
      "_model_name": "HBoxModel",
      "_view_count": null,
      "_view_module": "@jupyter-widgets/controls",
      "_view_module_version": "1.5.0",
      "_view_name": "HBoxView",
      "box_style": "",
      "children": [
       "IPY_MODEL_ba38b3c8f5c9444898e37a062a025488",
       "IPY_MODEL_811e693db5f84087926e71e26f358694",
       "IPY_MODEL_7ca8aa2ce9b04a289804d5fdd74cdf78"
      ],
      "layout": "IPY_MODEL_65a670d3afaa4488ba07e2bab10954a6"
     }
    },
    "59e34226d5194a5da4890cab7eaa517b": {
     "model_module": "@jupyter-widgets/controls",
     "model_module_version": "1.5.0",
     "model_name": "DescriptionStyleModel",
     "state": {
      "_model_module": "@jupyter-widgets/controls",
      "_model_module_version": "1.5.0",
      "_model_name": "DescriptionStyleModel",
      "_view_count": null,
      "_view_module": "@jupyter-widgets/base",
      "_view_module_version": "1.2.0",
      "_view_name": "StyleView",
      "description_width": ""
     }
    },
    "5f5e889294044b09a74d99d349ea4fb2": {
     "model_module": "@jupyter-widgets/base",
     "model_module_version": "1.2.0",
     "model_name": "LayoutModel",
     "state": {
      "_model_module": "@jupyter-widgets/base",
      "_model_module_version": "1.2.0",
      "_model_name": "LayoutModel",
      "_view_count": null,
      "_view_module": "@jupyter-widgets/base",
      "_view_module_version": "1.2.0",
      "_view_name": "LayoutView",
      "align_content": null,
      "align_items": null,
      "align_self": null,
      "border": null,
      "bottom": null,
      "display": null,
      "flex": null,
      "flex_flow": null,
      "grid_area": null,
      "grid_auto_columns": null,
      "grid_auto_flow": null,
      "grid_auto_rows": null,
      "grid_column": null,
      "grid_gap": null,
      "grid_row": null,
      "grid_template_areas": null,
      "grid_template_columns": null,
      "grid_template_rows": null,
      "height": null,
      "justify_content": null,
      "justify_items": null,
      "left": null,
      "margin": null,
      "max_height": null,
      "max_width": null,
      "min_height": null,
      "min_width": null,
      "object_fit": null,
      "object_position": null,
      "order": null,
      "overflow": null,
      "overflow_x": null,
      "overflow_y": null,
      "padding": null,
      "right": null,
      "top": null,
      "visibility": null,
      "width": null
     }
    },
    "636d7c7c630d4eca87e2ebfff7aa120c": {
     "model_module": "@jupyter-widgets/controls",
     "model_module_version": "1.5.0",
     "model_name": "HTMLModel",
     "state": {
      "_dom_classes": [],
      "_model_module": "@jupyter-widgets/controls",
      "_model_module_version": "1.5.0",
      "_model_name": "HTMLModel",
      "_view_count": null,
      "_view_module": "@jupyter-widgets/controls",
      "_view_module_version": "1.5.0",
      "_view_name": "HTMLView",
      "description": "",
      "description_tooltip": null,
      "layout": "IPY_MODEL_c0d913de539748a6bfd6ff7a7c2de413",
      "placeholder": "​",
      "style": "IPY_MODEL_defd6bb57f554c82b0a498b2af078d4c",
      "value": " 6.33k/? [00:00&lt;00:00, 152kB/s]"
     }
    },
    "643502449f4d4de0940e6faee9ddf5ab": {
     "model_module": "@jupyter-widgets/controls",
     "model_module_version": "1.5.0",
     "model_name": "HTMLModel",
     "state": {
      "_dom_classes": [],
      "_model_module": "@jupyter-widgets/controls",
      "_model_module_version": "1.5.0",
      "_model_name": "HTMLModel",
      "_view_count": null,
      "_view_module": "@jupyter-widgets/controls",
      "_view_module_version": "1.5.0",
      "_view_name": "HTMLView",
      "description": "",
      "description_tooltip": null,
      "layout": "IPY_MODEL_2b4ea672262549299c6abc14ebdb3cc2",
      "placeholder": "​",
      "style": "IPY_MODEL_84073318fdc74ae591b521b7aa19107a",
      "value": "Map: 100%"
     }
    },
    "65a670d3afaa4488ba07e2bab10954a6": {
     "model_module": "@jupyter-widgets/base",
     "model_module_version": "1.2.0",
     "model_name": "LayoutModel",
     "state": {
      "_model_module": "@jupyter-widgets/base",
      "_model_module_version": "1.2.0",
      "_model_name": "LayoutModel",
      "_view_count": null,
      "_view_module": "@jupyter-widgets/base",
      "_view_module_version": "1.2.0",
      "_view_name": "LayoutView",
      "align_content": null,
      "align_items": null,
      "align_self": null,
      "border": null,
      "bottom": null,
      "display": null,
      "flex": null,
      "flex_flow": null,
      "grid_area": null,
      "grid_auto_columns": null,
      "grid_auto_flow": null,
      "grid_auto_rows": null,
      "grid_column": null,
      "grid_gap": null,
      "grid_row": null,
      "grid_template_areas": null,
      "grid_template_columns": null,
      "grid_template_rows": null,
      "height": null,
      "justify_content": null,
      "justify_items": null,
      "left": null,
      "margin": null,
      "max_height": null,
      "max_width": null,
      "min_height": null,
      "min_width": null,
      "object_fit": null,
      "object_position": null,
      "order": null,
      "overflow": null,
      "overflow_x": null,
      "overflow_y": null,
      "padding": null,
      "right": null,
      "top": null,
      "visibility": null,
      "width": null
     }
    },
    "66b0ec0de45648588532bc1db0d06f42": {
     "model_module": "@jupyter-widgets/controls",
     "model_module_version": "1.5.0",
     "model_name": "HBoxModel",
     "state": {
      "_dom_classes": [],
      "_model_module": "@jupyter-widgets/controls",
      "_model_module_version": "1.5.0",
      "_model_name": "HBoxModel",
      "_view_count": null,
      "_view_module": "@jupyter-widgets/controls",
      "_view_module_version": "1.5.0",
      "_view_name": "HBoxView",
      "box_style": "",
      "children": [
       "IPY_MODEL_f98ad877cd794678b32bcd3c2f9939f9",
       "IPY_MODEL_27a8716f49d2419c8e4fc46128ac6663",
       "IPY_MODEL_12306e47d91843e984c08760ba85c5e1"
      ],
      "layout": "IPY_MODEL_9194c4738cc24b2db90c7edd751de9eb"
     }
    },
    "66c7148eba8440c089c0647d2c587e98": {
     "model_module": "@jupyter-widgets/controls",
     "model_module_version": "1.5.0",
     "model_name": "HTMLModel",
     "state": {
      "_dom_classes": [],
      "_model_module": "@jupyter-widgets/controls",
      "_model_module_version": "1.5.0",
      "_model_name": "HTMLModel",
      "_view_count": null,
      "_view_module": "@jupyter-widgets/controls",
      "_view_module_version": "1.5.0",
      "_view_name": "HTMLView",
      "description": "",
      "description_tooltip": null,
      "layout": "IPY_MODEL_97dbe7f00cb14a57a0d4a64bae07c221",
      "placeholder": "​",
      "style": "IPY_MODEL_1c278ddc12e142569bd28c869356b16d",
      "value": " 3250/3250 [00:00&lt;00:00, 61186.74 examples/s]"
     }
    },
    "6879c10a73a3426ea5b48b6dbc24d639": {
     "model_module": "@jupyter-widgets/controls",
     "model_module_version": "1.5.0",
     "model_name": "HBoxModel",
     "state": {
      "_dom_classes": [],
      "_model_module": "@jupyter-widgets/controls",
      "_model_module_version": "1.5.0",
      "_model_name": "HBoxModel",
      "_view_count": null,
      "_view_module": "@jupyter-widgets/controls",
      "_view_module_version": "1.5.0",
      "_view_name": "HBoxView",
      "box_style": "",
      "children": [
       "IPY_MODEL_83de1a62e4b94e88b3967d09c2c7ef9e",
       "IPY_MODEL_00dbb973bfba44428d7301cb0e913d7f",
       "IPY_MODEL_bf09b425c3f14ff38bcb03589e025aaa"
      ],
      "layout": "IPY_MODEL_7771305d4d124d27ae90bdea61e234ea"
     }
    },
    "6aacd12c468f431c9fa15604f97595ff": {
     "model_module": "@jupyter-widgets/base",
     "model_module_version": "1.2.0",
     "model_name": "LayoutModel",
     "state": {
      "_model_module": "@jupyter-widgets/base",
      "_model_module_version": "1.2.0",
      "_model_name": "LayoutModel",
      "_view_count": null,
      "_view_module": "@jupyter-widgets/base",
      "_view_module_version": "1.2.0",
      "_view_name": "LayoutView",
      "align_content": null,
      "align_items": null,
      "align_self": null,
      "border": null,
      "bottom": null,
      "display": null,
      "flex": null,
      "flex_flow": null,
      "grid_area": null,
      "grid_auto_columns": null,
      "grid_auto_flow": null,
      "grid_auto_rows": null,
      "grid_column": null,
      "grid_gap": null,
      "grid_row": null,
      "grid_template_areas": null,
      "grid_template_columns": null,
      "grid_template_rows": null,
      "height": null,
      "justify_content": null,
      "justify_items": null,
      "left": null,
      "margin": null,
      "max_height": null,
      "max_width": null,
      "min_height": null,
      "min_width": null,
      "object_fit": null,
      "object_position": null,
      "order": null,
      "overflow": null,
      "overflow_x": null,
      "overflow_y": null,
      "padding": null,
      "right": null,
      "top": null,
      "visibility": null,
      "width": null
     }
    },
    "6c914741e1b845a2bdfe083ef30ec092": {
     "model_module": "@jupyter-widgets/controls",
     "model_module_version": "1.5.0",
     "model_name": "DescriptionStyleModel",
     "state": {
      "_model_module": "@jupyter-widgets/controls",
      "_model_module_version": "1.5.0",
      "_model_name": "DescriptionStyleModel",
      "_view_count": null,
      "_view_module": "@jupyter-widgets/base",
      "_view_module_version": "1.2.0",
      "_view_name": "StyleView",
      "description_width": ""
     }
    },
    "6ca1e8c4b5784666810ee3478701a8b3": {
     "model_module": "@jupyter-widgets/controls",
     "model_module_version": "1.5.0",
     "model_name": "HTMLModel",
     "state": {
      "_dom_classes": [],
      "_model_module": "@jupyter-widgets/controls",
      "_model_module_version": "1.5.0",
      "_model_name": "HTMLModel",
      "_view_count": null,
      "_view_module": "@jupyter-widgets/controls",
      "_view_module_version": "1.5.0",
      "_view_name": "HTMLView",
      "description": "",
      "description_tooltip": null,
      "layout": "IPY_MODEL_3eda64955d3b40a8a7e33fed597181e1",
      "placeholder": "​",
      "style": "IPY_MODEL_6c914741e1b845a2bdfe083ef30ec092",
      "value": " 3250/3250 [00:01&lt;00:00, 2504.47 examples/s]"
     }
    },
    "6e29f04f531c471abcddef01750fca9a": {
     "model_module": "@jupyter-widgets/controls",
     "model_module_version": "1.5.0",
     "model_name": "FloatProgressModel",
     "state": {
      "_dom_classes": [],
      "_model_module": "@jupyter-widgets/controls",
      "_model_module_version": "1.5.0",
      "_model_name": "FloatProgressModel",
      "_view_count": null,
      "_view_module": "@jupyter-widgets/controls",
      "_view_module_version": "1.5.0",
      "_view_name": "ProgressView",
      "bar_style": "success",
      "description": "",
      "description_tooltip": null,
      "layout": "IPY_MODEL_d4419bbda0ea4136904a67ed0a61a975",
      "max": 3250,
      "min": 0,
      "orientation": "horizontal",
      "style": "IPY_MODEL_f92d0c1729c946458bfad7e11001aad5",
      "value": 3250
     }
    },
    "6fb428b2e753473b896316278f74f4a5": {
     "model_module": "@jupyter-widgets/controls",
     "model_module_version": "1.5.0",
     "model_name": "HTMLModel",
     "state": {
      "_dom_classes": [],
      "_model_module": "@jupyter-widgets/controls",
      "_model_module_version": "1.5.0",
      "_model_name": "HTMLModel",
      "_view_count": null,
      "_view_module": "@jupyter-widgets/controls",
      "_view_module_version": "1.5.0",
      "_view_name": "HTMLView",
      "description": "",
      "description_tooltip": null,
      "layout": "IPY_MODEL_308df0b059314242a63f539b57ef8ee6",
      "placeholder": "​",
      "style": "IPY_MODEL_c65c9b03426c415cab02297df0ca21bb",
      "value": " 3453/3453 [00:00&lt;00:00, 44580.70 examples/s]"
     }
    },
    "723f453206264c00adeb14ab9d8aae40": {
     "model_module": "@jupyter-widgets/controls",
     "model_module_version": "1.5.0",
     "model_name": "HTMLModel",
     "state": {
      "_dom_classes": [],
      "_model_module": "@jupyter-widgets/controls",
      "_model_module_version": "1.5.0",
      "_model_name": "HTMLModel",
      "_view_count": null,
      "_view_module": "@jupyter-widgets/controls",
      "_view_module_version": "1.5.0",
      "_view_name": "HTMLView",
      "description": "",
      "description_tooltip": null,
      "layout": "IPY_MODEL_3bb3861dab144712857702bcadf88dc5",
      "placeholder": "​",
      "style": "IPY_MODEL_35f02dea13ca4c88b43c7bf878d46856",
      "value": " 283k/283k [00:00&lt;00:00, 1.42MB/s]"
     }
    },
    "73e82f3b77e84b668fb9ff352350f579": {
     "model_module": "@jupyter-widgets/controls",
     "model_module_version": "1.5.0",
     "model_name": "DescriptionStyleModel",
     "state": {
      "_model_module": "@jupyter-widgets/controls",
      "_model_module_version": "1.5.0",
      "_model_name": "DescriptionStyleModel",
      "_view_count": null,
      "_view_module": "@jupyter-widgets/base",
      "_view_module_version": "1.2.0",
      "_view_name": "StyleView",
      "description_width": ""
     }
    },
    "7768db31aeeb4bc1819221bdd52449dd": {
     "model_module": "@jupyter-widgets/controls",
     "model_module_version": "1.5.0",
     "model_name": "HBoxModel",
     "state": {
      "_dom_classes": [],
      "_model_module": "@jupyter-widgets/controls",
      "_model_module_version": "1.5.0",
      "_model_name": "HBoxModel",
      "_view_count": null,
      "_view_module": "@jupyter-widgets/controls",
      "_view_module_version": "1.5.0",
      "_view_name": "HBoxView",
      "box_style": "",
      "children": [
       "IPY_MODEL_44e3055940ba48edad1b4450d1786db3",
       "IPY_MODEL_b9ce516243cf4809b3abc0b7b48e5b9d",
       "IPY_MODEL_0bcf0c00ac2f47a296edf2c82e1bbc7c"
      ],
      "layout": "IPY_MODEL_33930400e8ce40a686a014a56eeaa794"
     }
    },
    "7771305d4d124d27ae90bdea61e234ea": {
     "model_module": "@jupyter-widgets/base",
     "model_module_version": "1.2.0",
     "model_name": "LayoutModel",
     "state": {
      "_model_module": "@jupyter-widgets/base",
      "_model_module_version": "1.2.0",
      "_model_name": "LayoutModel",
      "_view_count": null,
      "_view_module": "@jupyter-widgets/base",
      "_view_module_version": "1.2.0",
      "_view_name": "LayoutView",
      "align_content": null,
      "align_items": null,
      "align_self": null,
      "border": null,
      "bottom": null,
      "display": null,
      "flex": null,
      "flex_flow": null,
      "grid_area": null,
      "grid_auto_columns": null,
      "grid_auto_flow": null,
      "grid_auto_rows": null,
      "grid_column": null,
      "grid_gap": null,
      "grid_row": null,
      "grid_template_areas": null,
      "grid_template_columns": null,
      "grid_template_rows": null,
      "height": null,
      "justify_content": null,
      "justify_items": null,
      "left": null,
      "margin": null,
      "max_height": null,
      "max_width": null,
      "min_height": null,
      "min_width": null,
      "object_fit": null,
      "object_position": null,
      "order": null,
      "overflow": null,
      "overflow_x": null,
      "overflow_y": null,
      "padding": null,
      "right": null,
      "top": null,
      "visibility": null,
      "width": null
     }
    },
    "77907def59d24cb192356bc6154aa269": {
     "model_module": "@jupyter-widgets/controls",
     "model_module_version": "1.5.0",
     "model_name": "FloatProgressModel",
     "state": {
      "_dom_classes": [],
      "_model_module": "@jupyter-widgets/controls",
      "_model_module_version": "1.5.0",
      "_model_name": "FloatProgressModel",
      "_view_count": null,
      "_view_module": "@jupyter-widgets/controls",
      "_view_module_version": "1.5.0",
      "_view_name": "ProgressView",
      "bar_style": "success",
      "description": "",
      "description_tooltip": null,
      "layout": "IPY_MODEL_2efbd26818ea4019a339205594363246",
      "max": 14041,
      "min": 0,
      "orientation": "horizontal",
      "style": "IPY_MODEL_be3c69d847384761b83041d1ee88bc61",
      "value": 14041
     }
    },
    "7860dee2eb3a4c33a4d9e517666d76fc": {
     "model_module": "@jupyter-widgets/controls",
     "model_module_version": "1.5.0",
     "model_name": "HTMLModel",
     "state": {
      "_dom_classes": [],
      "_model_module": "@jupyter-widgets/controls",
      "_model_module_version": "1.5.0",
      "_model_name": "HTMLModel",
      "_view_count": null,
      "_view_module": "@jupyter-widgets/controls",
      "_view_module_version": "1.5.0",
      "_view_name": "HTMLView",
      "description": "",
      "description_tooltip": null,
      "layout": "IPY_MODEL_1c6323763ace4b229fef4488c17d9b75",
      "placeholder": "​",
      "style": "IPY_MODEL_db6da9514d7a4a8eb69f940c8a1f5ca5",
      "value": "vocab.txt: 100%"
     }
    },
    "790ae566f7954ad2aef82214e9bed2a1": {
     "model_module": "@jupyter-widgets/controls",
     "model_module_version": "1.5.0",
     "model_name": "DescriptionStyleModel",
     "state": {
      "_model_module": "@jupyter-widgets/controls",
      "_model_module_version": "1.5.0",
      "_model_name": "DescriptionStyleModel",
      "_view_count": null,
      "_view_module": "@jupyter-widgets/base",
      "_view_module_version": "1.2.0",
      "_view_name": "StyleView",
      "description_width": ""
     }
    },
    "7bc8d1e938ab4a7aae10ef45c7592078": {
     "model_module": "@jupyter-widgets/base",
     "model_module_version": "1.2.0",
     "model_name": "LayoutModel",
     "state": {
      "_model_module": "@jupyter-widgets/base",
      "_model_module_version": "1.2.0",
      "_model_name": "LayoutModel",
      "_view_count": null,
      "_view_module": "@jupyter-widgets/base",
      "_view_module_version": "1.2.0",
      "_view_name": "LayoutView",
      "align_content": null,
      "align_items": null,
      "align_self": null,
      "border": null,
      "bottom": null,
      "display": null,
      "flex": null,
      "flex_flow": null,
      "grid_area": null,
      "grid_auto_columns": null,
      "grid_auto_flow": null,
      "grid_auto_rows": null,
      "grid_column": null,
      "grid_gap": null,
      "grid_row": null,
      "grid_template_areas": null,
      "grid_template_columns": null,
      "grid_template_rows": null,
      "height": null,
      "justify_content": null,
      "justify_items": null,
      "left": null,
      "margin": null,
      "max_height": null,
      "max_width": null,
      "min_height": null,
      "min_width": null,
      "object_fit": null,
      "object_position": null,
      "order": null,
      "overflow": null,
      "overflow_x": null,
      "overflow_y": null,
      "padding": null,
      "right": null,
      "top": null,
      "visibility": null,
      "width": null
     }
    },
    "7ca8aa2ce9b04a289804d5fdd74cdf78": {
     "model_module": "@jupyter-widgets/controls",
     "model_module_version": "1.5.0",
     "model_name": "HTMLModel",
     "state": {
      "_dom_classes": [],
      "_model_module": "@jupyter-widgets/controls",
      "_model_module_version": "1.5.0",
      "_model_name": "HTMLModel",
      "_view_count": null,
      "_view_module": "@jupyter-widgets/controls",
      "_view_module_version": "1.5.0",
      "_view_name": "HTMLView",
      "description": "",
      "description_tooltip": null,
      "layout": "IPY_MODEL_88a0ddee805b4ce99466d457fc8bf00c",
      "placeholder": "​",
      "style": "IPY_MODEL_8b0091d20d8d45f994028adf75f0e630",
      "value": " 3453/3453 [00:01&lt;00:00, 2013.89 examples/s]"
     }
    },
    "7da63f75dfa04ca9867790b622c45837": {
     "model_module": "@jupyter-widgets/controls",
     "model_module_version": "1.5.0",
     "model_name": "DescriptionStyleModel",
     "state": {
      "_model_module": "@jupyter-widgets/controls",
      "_model_module_version": "1.5.0",
      "_model_name": "DescriptionStyleModel",
      "_view_count": null,
      "_view_module": "@jupyter-widgets/base",
      "_view_module_version": "1.2.0",
      "_view_name": "StyleView",
      "description_width": ""
     }
    },
    "7e38732a9048485083d9ce464d992103": {
     "model_module": "@jupyter-widgets/base",
     "model_module_version": "1.2.0",
     "model_name": "LayoutModel",
     "state": {
      "_model_module": "@jupyter-widgets/base",
      "_model_module_version": "1.2.0",
      "_model_name": "LayoutModel",
      "_view_count": null,
      "_view_module": "@jupyter-widgets/base",
      "_view_module_version": "1.2.0",
      "_view_name": "LayoutView",
      "align_content": null,
      "align_items": null,
      "align_self": null,
      "border": null,
      "bottom": null,
      "display": null,
      "flex": null,
      "flex_flow": null,
      "grid_area": null,
      "grid_auto_columns": null,
      "grid_auto_flow": null,
      "grid_auto_rows": null,
      "grid_column": null,
      "grid_gap": null,
      "grid_row": null,
      "grid_template_areas": null,
      "grid_template_columns": null,
      "grid_template_rows": null,
      "height": null,
      "justify_content": null,
      "justify_items": null,
      "left": null,
      "margin": null,
      "max_height": null,
      "max_width": null,
      "min_height": null,
      "min_width": null,
      "object_fit": null,
      "object_position": null,
      "order": null,
      "overflow": null,
      "overflow_x": null,
      "overflow_y": null,
      "padding": null,
      "right": null,
      "top": null,
      "visibility": null,
      "width": null
     }
    },
    "7f8b3ab806924e45a101132077fdcfaf": {
     "model_module": "@jupyter-widgets/base",
     "model_module_version": "1.2.0",
     "model_name": "LayoutModel",
     "state": {
      "_model_module": "@jupyter-widgets/base",
      "_model_module_version": "1.2.0",
      "_model_name": "LayoutModel",
      "_view_count": null,
      "_view_module": "@jupyter-widgets/base",
      "_view_module_version": "1.2.0",
      "_view_name": "LayoutView",
      "align_content": null,
      "align_items": null,
      "align_self": null,
      "border": null,
      "bottom": null,
      "display": null,
      "flex": null,
      "flex_flow": null,
      "grid_area": null,
      "grid_auto_columns": null,
      "grid_auto_flow": null,
      "grid_auto_rows": null,
      "grid_column": null,
      "grid_gap": null,
      "grid_row": null,
      "grid_template_areas": null,
      "grid_template_columns": null,
      "grid_template_rows": null,
      "height": null,
      "justify_content": null,
      "justify_items": null,
      "left": null,
      "margin": null,
      "max_height": null,
      "max_width": null,
      "min_height": null,
      "min_width": null,
      "object_fit": null,
      "object_position": null,
      "order": null,
      "overflow": null,
      "overflow_x": null,
      "overflow_y": null,
      "padding": null,
      "right": null,
      "top": null,
      "visibility": null,
      "width": null
     }
    },
    "800eae44f81847debad27b443128c428": {
     "model_module": "@jupyter-widgets/controls",
     "model_module_version": "1.5.0",
     "model_name": "DescriptionStyleModel",
     "state": {
      "_model_module": "@jupyter-widgets/controls",
      "_model_module_version": "1.5.0",
      "_model_name": "DescriptionStyleModel",
      "_view_count": null,
      "_view_module": "@jupyter-widgets/base",
      "_view_module_version": "1.2.0",
      "_view_name": "StyleView",
      "description_width": ""
     }
    },
    "811e693db5f84087926e71e26f358694": {
     "model_module": "@jupyter-widgets/controls",
     "model_module_version": "1.5.0",
     "model_name": "FloatProgressModel",
     "state": {
      "_dom_classes": [],
      "_model_module": "@jupyter-widgets/controls",
      "_model_module_version": "1.5.0",
      "_model_name": "FloatProgressModel",
      "_view_count": null,
      "_view_module": "@jupyter-widgets/controls",
      "_view_module_version": "1.5.0",
      "_view_name": "ProgressView",
      "bar_style": "success",
      "description": "",
      "description_tooltip": null,
      "layout": "IPY_MODEL_6aacd12c468f431c9fa15604f97595ff",
      "max": 3453,
      "min": 0,
      "orientation": "horizontal",
      "style": "IPY_MODEL_f0dd92f45a9e425ba7f72bef02b622fe",
      "value": 3453
     }
    },
    "82f406fc6d8245e7a9e8d1ec1feab87c": {
     "model_module": "@jupyter-widgets/controls",
     "model_module_version": "1.5.0",
     "model_name": "FloatProgressModel",
     "state": {
      "_dom_classes": [],
      "_model_module": "@jupyter-widgets/controls",
      "_model_module_version": "1.5.0",
      "_model_name": "FloatProgressModel",
      "_view_count": null,
      "_view_module": "@jupyter-widgets/controls",
      "_view_module_version": "1.5.0",
      "_view_name": "ProgressView",
      "bar_style": "success",
      "description": "",
      "description_tooltip": null,
      "layout": "IPY_MODEL_a10683c41f97464c857a76ff54974811",
      "max": 213450,
      "min": 0,
      "orientation": "horizontal",
      "style": "IPY_MODEL_09b28edaccc94e689272b7492f1acb21",
      "value": 213450
     }
    },
    "832c9163d7eb46b3b9b7135a4a440a0f": {
     "model_module": "@jupyter-widgets/controls",
     "model_module_version": "1.5.0",
     "model_name": "HBoxModel",
     "state": {
      "_dom_classes": [],
      "_model_module": "@jupyter-widgets/controls",
      "_model_module_version": "1.5.0",
      "_model_name": "HBoxModel",
      "_view_count": null,
      "_view_module": "@jupyter-widgets/controls",
      "_view_module_version": "1.5.0",
      "_view_name": "HBoxView",
      "box_style": "",
      "children": [
       "IPY_MODEL_2a974284ef374551b9051a21f55c527a",
       "IPY_MODEL_2c23658f5eb94695a1ec2c686beac1f0",
       "IPY_MODEL_385a8298d3a4440ba5a8c6382f582eb7"
      ],
      "layout": "IPY_MODEL_9b88e9ef59814c8b9c39d3dcf76e880d"
     }
    },
    "8351412657fb4e318c1e5bd089d4de94": {
     "model_module": "@jupyter-widgets/controls",
     "model_module_version": "1.5.0",
     "model_name": "ProgressStyleModel",
     "state": {
      "_model_module": "@jupyter-widgets/controls",
      "_model_module_version": "1.5.0",
      "_model_name": "ProgressStyleModel",
      "_view_count": null,
      "_view_module": "@jupyter-widgets/base",
      "_view_module_version": "1.2.0",
      "_view_name": "StyleView",
      "bar_color": null,
      "description_width": ""
     }
    },
    "836a29d097c0495e86680c2342c3f652": {
     "model_module": "@jupyter-widgets/controls",
     "model_module_version": "1.5.0",
     "model_name": "DescriptionStyleModel",
     "state": {
      "_model_module": "@jupyter-widgets/controls",
      "_model_module_version": "1.5.0",
      "_model_name": "DescriptionStyleModel",
      "_view_count": null,
      "_view_module": "@jupyter-widgets/base",
      "_view_module_version": "1.2.0",
      "_view_name": "StyleView",
      "description_width": ""
     }
    },
    "83de1a62e4b94e88b3967d09c2c7ef9e": {
     "model_module": "@jupyter-widgets/controls",
     "model_module_version": "1.5.0",
     "model_name": "HTMLModel",
     "state": {
      "_dom_classes": [],
      "_model_module": "@jupyter-widgets/controls",
      "_model_module_version": "1.5.0",
      "_model_name": "HTMLModel",
      "_view_count": null,
      "_view_module": "@jupyter-widgets/controls",
      "_view_module_version": "1.5.0",
      "_view_name": "HTMLView",
      "description": "",
      "description_tooltip": null,
      "layout": "IPY_MODEL_b7bac9ff4cd84f788f7e281f759b0d0b",
      "placeholder": "​",
      "style": "IPY_MODEL_20b13c2748ff438fbd6b0af54a6cf9ce",
      "value": "config.json: 100%"
     }
    },
    "84073318fdc74ae591b521b7aa19107a": {
     "model_module": "@jupyter-widgets/controls",
     "model_module_version": "1.5.0",
     "model_name": "DescriptionStyleModel",
     "state": {
      "_model_module": "@jupyter-widgets/controls",
      "_model_module_version": "1.5.0",
      "_model_name": "DescriptionStyleModel",
      "_view_count": null,
      "_view_module": "@jupyter-widgets/base",
      "_view_module_version": "1.2.0",
      "_view_name": "StyleView",
      "description_width": ""
     }
    },
    "851a28bd8fb64431a5affe23ab0edfe9": {
     "model_module": "@jupyter-widgets/controls",
     "model_module_version": "1.5.0",
     "model_name": "ProgressStyleModel",
     "state": {
      "_model_module": "@jupyter-widgets/controls",
      "_model_module_version": "1.5.0",
      "_model_name": "ProgressStyleModel",
      "_view_count": null,
      "_view_module": "@jupyter-widgets/base",
      "_view_module_version": "1.2.0",
      "_view_name": "StyleView",
      "bar_color": null,
      "description_width": ""
     }
    },
    "881ba8c123e441cd838e5f1f6fa5bee5": {
     "model_module": "@jupyter-widgets/controls",
     "model_module_version": "1.5.0",
     "model_name": "FloatProgressModel",
     "state": {
      "_dom_classes": [],
      "_model_module": "@jupyter-widgets/controls",
      "_model_module_version": "1.5.0",
      "_model_name": "FloatProgressModel",
      "_view_count": null,
      "_view_module": "@jupyter-widgets/controls",
      "_view_module_version": "1.5.0",
      "_view_name": "ProgressView",
      "bar_style": "success",
      "description": "",
      "description_tooltip": null,
      "layout": "IPY_MODEL_be5a06ec0b1e4995afedeeea9a6df89f",
      "max": 2471,
      "min": 0,
      "orientation": "horizontal",
      "style": "IPY_MODEL_a388233dacf64b02a9ea29ebfcc3aa7c",
      "value": 2471
     }
    },
    "88a0ddee805b4ce99466d457fc8bf00c": {
     "model_module": "@jupyter-widgets/base",
     "model_module_version": "1.2.0",
     "model_name": "LayoutModel",
     "state": {
      "_model_module": "@jupyter-widgets/base",
      "_model_module_version": "1.2.0",
      "_model_name": "LayoutModel",
      "_view_count": null,
      "_view_module": "@jupyter-widgets/base",
      "_view_module_version": "1.2.0",
      "_view_name": "LayoutView",
      "align_content": null,
      "align_items": null,
      "align_self": null,
      "border": null,
      "bottom": null,
      "display": null,
      "flex": null,
      "flex_flow": null,
      "grid_area": null,
      "grid_auto_columns": null,
      "grid_auto_flow": null,
      "grid_auto_rows": null,
      "grid_column": null,
      "grid_gap": null,
      "grid_row": null,
      "grid_template_areas": null,
      "grid_template_columns": null,
      "grid_template_rows": null,
      "height": null,
      "justify_content": null,
      "justify_items": null,
      "left": null,
      "margin": null,
      "max_height": null,
      "max_width": null,
      "min_height": null,
      "min_width": null,
      "object_fit": null,
      "object_position": null,
      "order": null,
      "overflow": null,
      "overflow_x": null,
      "overflow_y": null,
      "padding": null,
      "right": null,
      "top": null,
      "visibility": null,
      "width": null
     }
    },
    "8b0091d20d8d45f994028adf75f0e630": {
     "model_module": "@jupyter-widgets/controls",
     "model_module_version": "1.5.0",
     "model_name": "DescriptionStyleModel",
     "state": {
      "_model_module": "@jupyter-widgets/controls",
      "_model_module_version": "1.5.0",
      "_model_name": "DescriptionStyleModel",
      "_view_count": null,
      "_view_module": "@jupyter-widgets/base",
      "_view_module_version": "1.2.0",
      "_view_name": "StyleView",
      "description_width": ""
     }
    },
    "8cf5c773b3d44353b56392127fe7d48e": {
     "model_module": "@jupyter-widgets/controls",
     "model_module_version": "1.5.0",
     "model_name": "DescriptionStyleModel",
     "state": {
      "_model_module": "@jupyter-widgets/controls",
      "_model_module_version": "1.5.0",
      "_model_name": "DescriptionStyleModel",
      "_view_count": null,
      "_view_module": "@jupyter-widgets/base",
      "_view_module_version": "1.2.0",
      "_view_name": "StyleView",
      "description_width": ""
     }
    },
    "8f369f6b57534198830226c19fc3ac18": {
     "model_module": "@jupyter-widgets/controls",
     "model_module_version": "1.5.0",
     "model_name": "HTMLModel",
     "state": {
      "_dom_classes": [],
      "_model_module": "@jupyter-widgets/controls",
      "_model_module_version": "1.5.0",
      "_model_name": "HTMLModel",
      "_view_count": null,
      "_view_module": "@jupyter-widgets/controls",
      "_view_module_version": "1.5.0",
      "_view_name": "HTMLView",
      "description": "",
      "description_tooltip": null,
      "layout": "IPY_MODEL_7e38732a9048485083d9ce464d992103",
      "placeholder": "​",
      "style": "IPY_MODEL_a374e65c61eb465bb52dd9ab2ded4977",
      "value": "Generating validation split: 100%"
     }
    },
    "9194c4738cc24b2db90c7edd751de9eb": {
     "model_module": "@jupyter-widgets/base",
     "model_module_version": "1.2.0",
     "model_name": "LayoutModel",
     "state": {
      "_model_module": "@jupyter-widgets/base",
      "_model_module_version": "1.2.0",
      "_model_name": "LayoutModel",
      "_view_count": null,
      "_view_module": "@jupyter-widgets/base",
      "_view_module_version": "1.2.0",
      "_view_name": "LayoutView",
      "align_content": null,
      "align_items": null,
      "align_self": null,
      "border": null,
      "bottom": null,
      "display": null,
      "flex": null,
      "flex_flow": null,
      "grid_area": null,
      "grid_auto_columns": null,
      "grid_auto_flow": null,
      "grid_auto_rows": null,
      "grid_column": null,
      "grid_gap": null,
      "grid_row": null,
      "grid_template_areas": null,
      "grid_template_columns": null,
      "grid_template_rows": null,
      "height": null,
      "justify_content": null,
      "justify_items": null,
      "left": null,
      "margin": null,
      "max_height": null,
      "max_width": null,
      "min_height": null,
      "min_width": null,
      "object_fit": null,
      "object_position": null,
      "order": null,
      "overflow": null,
      "overflow_x": null,
      "overflow_y": null,
      "padding": null,
      "right": null,
      "top": null,
      "visibility": null,
      "width": null
     }
    },
    "97dbe7f00cb14a57a0d4a64bae07c221": {
     "model_module": "@jupyter-widgets/base",
     "model_module_version": "1.2.0",
     "model_name": "LayoutModel",
     "state": {
      "_model_module": "@jupyter-widgets/base",
      "_model_module_version": "1.2.0",
      "_model_name": "LayoutModel",
      "_view_count": null,
      "_view_module": "@jupyter-widgets/base",
      "_view_module_version": "1.2.0",
      "_view_name": "LayoutView",
      "align_content": null,
      "align_items": null,
      "align_self": null,
      "border": null,
      "bottom": null,
      "display": null,
      "flex": null,
      "flex_flow": null,
      "grid_area": null,
      "grid_auto_columns": null,
      "grid_auto_flow": null,
      "grid_auto_rows": null,
      "grid_column": null,
      "grid_gap": null,
      "grid_row": null,
      "grid_template_areas": null,
      "grid_template_columns": null,
      "grid_template_rows": null,
      "height": null,
      "justify_content": null,
      "justify_items": null,
      "left": null,
      "margin": null,
      "max_height": null,
      "max_width": null,
      "min_height": null,
      "min_width": null,
      "object_fit": null,
      "object_position": null,
      "order": null,
      "overflow": null,
      "overflow_x": null,
      "overflow_y": null,
      "padding": null,
      "right": null,
      "top": null,
      "visibility": null,
      "width": null
     }
    },
    "99c4d3b3e6cf4b07a2c442aa7680ce5b": {
     "model_module": "@jupyter-widgets/controls",
     "model_module_version": "1.5.0",
     "model_name": "HBoxModel",
     "state": {
      "_dom_classes": [],
      "_model_module": "@jupyter-widgets/controls",
      "_model_module_version": "1.5.0",
      "_model_name": "HBoxModel",
      "_view_count": null,
      "_view_module": "@jupyter-widgets/controls",
      "_view_module_version": "1.5.0",
      "_view_name": "HBoxView",
      "box_style": "",
      "children": [
       "IPY_MODEL_f1506496baba46c698253bd2765bc0da",
       "IPY_MODEL_6e29f04f531c471abcddef01750fca9a",
       "IPY_MODEL_6ca1e8c4b5784666810ee3478701a8b3"
      ],
      "layout": "IPY_MODEL_3b17d1f88bb84e14aabcfbaaba5c34bd"
     }
    },
    "9aff65dda0ce453da753013438f1aeb7": {
     "model_module": "@jupyter-widgets/controls",
     "model_module_version": "1.5.0",
     "model_name": "HBoxModel",
     "state": {
      "_dom_classes": [],
      "_model_module": "@jupyter-widgets/controls",
      "_model_module_version": "1.5.0",
      "_model_name": "HBoxModel",
      "_view_count": null,
      "_view_module": "@jupyter-widgets/controls",
      "_view_module_version": "1.5.0",
      "_view_name": "HBoxView",
      "box_style": "",
      "children": [
       "IPY_MODEL_4c5d37fcc2a5469ab092688a41e7b458",
       "IPY_MODEL_4c4bcc10ae8c4e0aaabef0a8c80b1c61",
       "IPY_MODEL_723f453206264c00adeb14ab9d8aae40"
      ],
      "layout": "IPY_MODEL_dae74c8b558744968476efadaaf5b23b"
     }
    },
    "9b88e9ef59814c8b9c39d3dcf76e880d": {
     "model_module": "@jupyter-widgets/base",
     "model_module_version": "1.2.0",
     "model_name": "LayoutModel",
     "state": {
      "_model_module": "@jupyter-widgets/base",
      "_model_module_version": "1.2.0",
      "_model_name": "LayoutModel",
      "_view_count": null,
      "_view_module": "@jupyter-widgets/base",
      "_view_module_version": "1.2.0",
      "_view_name": "LayoutView",
      "align_content": null,
      "align_items": null,
      "align_self": null,
      "border": null,
      "bottom": null,
      "display": null,
      "flex": null,
      "flex_flow": null,
      "grid_area": null,
      "grid_auto_columns": null,
      "grid_auto_flow": null,
      "grid_auto_rows": null,
      "grid_column": null,
      "grid_gap": null,
      "grid_row": null,
      "grid_template_areas": null,
      "grid_template_columns": null,
      "grid_template_rows": null,
      "height": null,
      "justify_content": null,
      "justify_items": null,
      "left": null,
      "margin": null,
      "max_height": null,
      "max_width": null,
      "min_height": null,
      "min_width": null,
      "object_fit": null,
      "object_position": null,
      "order": null,
      "overflow": null,
      "overflow_x": null,
      "overflow_y": null,
      "padding": null,
      "right": null,
      "top": null,
      "visibility": null,
      "width": null
     }
    },
    "9c2089addd5e45fd96e37288a574801c": {
     "model_module": "@jupyter-widgets/controls",
     "model_module_version": "1.5.0",
     "model_name": "FloatProgressModel",
     "state": {
      "_dom_classes": [],
      "_model_module": "@jupyter-widgets/controls",
      "_model_module_version": "1.5.0",
      "_model_name": "FloatProgressModel",
      "_view_count": null,
      "_view_module": "@jupyter-widgets/controls",
      "_view_module_version": "1.5.0",
      "_view_name": "ProgressView",
      "bar_style": "success",
      "description": "",
      "description_tooltip": null,
      "layout": "IPY_MODEL_2691e4223470449785d9fbaaa2bfff84",
      "max": 3453,
      "min": 0,
      "orientation": "horizontal",
      "style": "IPY_MODEL_2947b8ddf400416284f02c0a30133418",
      "value": 3453
     }
    },
    "9e0f69c2ae72408d9cfbf41d038fd948": {
     "model_module": "@jupyter-widgets/controls",
     "model_module_version": "1.5.0",
     "model_name": "HBoxModel",
     "state": {
      "_dom_classes": [],
      "_model_module": "@jupyter-widgets/controls",
      "_model_module_version": "1.5.0",
      "_model_name": "HBoxModel",
      "_view_count": null,
      "_view_module": "@jupyter-widgets/controls",
      "_view_module_version": "1.5.0",
      "_view_name": "HBoxView",
      "box_style": "",
      "children": [
       "IPY_MODEL_8f369f6b57534198830226c19fc3ac18",
       "IPY_MODEL_3cf530011d364a169b17778ad8e88416",
       "IPY_MODEL_66c7148eba8440c089c0647d2c587e98"
      ],
      "layout": "IPY_MODEL_4138f0f359d94216b19c1ff5bdf094a3"
     }
    },
    "a10683c41f97464c857a76ff54974811": {
     "model_module": "@jupyter-widgets/base",
     "model_module_version": "1.2.0",
     "model_name": "LayoutModel",
     "state": {
      "_model_module": "@jupyter-widgets/base",
      "_model_module_version": "1.2.0",
      "_model_name": "LayoutModel",
      "_view_count": null,
      "_view_module": "@jupyter-widgets/base",
      "_view_module_version": "1.2.0",
      "_view_name": "LayoutView",
      "align_content": null,
      "align_items": null,
      "align_self": null,
      "border": null,
      "bottom": null,
      "display": null,
      "flex": null,
      "flex_flow": null,
      "grid_area": null,
      "grid_auto_columns": null,
      "grid_auto_flow": null,
      "grid_auto_rows": null,
      "grid_column": null,
      "grid_gap": null,
      "grid_row": null,
      "grid_template_areas": null,
      "grid_template_columns": null,
      "grid_template_rows": null,
      "height": null,
      "justify_content": null,
      "justify_items": null,
      "left": null,
      "margin": null,
      "max_height": null,
      "max_width": null,
      "min_height": null,
      "min_width": null,
      "object_fit": null,
      "object_position": null,
      "order": null,
      "overflow": null,
      "overflow_x": null,
      "overflow_y": null,
      "padding": null,
      "right": null,
      "top": null,
      "visibility": null,
      "width": null
     }
    },
    "a374e65c61eb465bb52dd9ab2ded4977": {
     "model_module": "@jupyter-widgets/controls",
     "model_module_version": "1.5.0",
     "model_name": "DescriptionStyleModel",
     "state": {
      "_model_module": "@jupyter-widgets/controls",
      "_model_module_version": "1.5.0",
      "_model_name": "DescriptionStyleModel",
      "_view_count": null,
      "_view_module": "@jupyter-widgets/base",
      "_view_module_version": "1.2.0",
      "_view_name": "StyleView",
      "description_width": ""
     }
    },
    "a388233dacf64b02a9ea29ebfcc3aa7c": {
     "model_module": "@jupyter-widgets/controls",
     "model_module_version": "1.5.0",
     "model_name": "ProgressStyleModel",
     "state": {
      "_model_module": "@jupyter-widgets/controls",
      "_model_module_version": "1.5.0",
      "_model_name": "ProgressStyleModel",
      "_view_count": null,
      "_view_module": "@jupyter-widgets/base",
      "_view_module_version": "1.2.0",
      "_view_name": "StyleView",
      "bar_color": null,
      "description_width": ""
     }
    },
    "a8241de7cf444b0d926314d02b852b85": {
     "model_module": "@jupyter-widgets/base",
     "model_module_version": "1.2.0",
     "model_name": "LayoutModel",
     "state": {
      "_model_module": "@jupyter-widgets/base",
      "_model_module_version": "1.2.0",
      "_model_name": "LayoutModel",
      "_view_count": null,
      "_view_module": "@jupyter-widgets/base",
      "_view_module_version": "1.2.0",
      "_view_name": "LayoutView",
      "align_content": null,
      "align_items": null,
      "align_self": null,
      "border": null,
      "bottom": null,
      "display": null,
      "flex": null,
      "flex_flow": null,
      "grid_area": null,
      "grid_auto_columns": null,
      "grid_auto_flow": null,
      "grid_auto_rows": null,
      "grid_column": null,
      "grid_gap": null,
      "grid_row": null,
      "grid_template_areas": null,
      "grid_template_columns": null,
      "grid_template_rows": null,
      "height": null,
      "justify_content": null,
      "justify_items": null,
      "left": null,
      "margin": null,
      "max_height": null,
      "max_width": null,
      "min_height": null,
      "min_width": null,
      "object_fit": null,
      "object_position": null,
      "order": null,
      "overflow": null,
      "overflow_x": null,
      "overflow_y": null,
      "padding": null,
      "right": null,
      "top": null,
      "visibility": null,
      "width": null
     }
    },
    "aa3718ed227a41a3bc45e3be8585c215": {
     "model_module": "@jupyter-widgets/controls",
     "model_module_version": "1.5.0",
     "model_name": "HBoxModel",
     "state": {
      "_dom_classes": [],
      "_model_module": "@jupyter-widgets/controls",
      "_model_module_version": "1.5.0",
      "_model_name": "HBoxModel",
      "_view_count": null,
      "_view_module": "@jupyter-widgets/controls",
      "_view_module_version": "1.5.0",
      "_view_name": "HBoxView",
      "box_style": "",
      "children": [
       "IPY_MODEL_52dab8a99db04d0b86f819733f1b48bf",
       "IPY_MODEL_098052c0aa4b4cccbb3fa38589003163",
       "IPY_MODEL_390cd3b434264df6a827d88cd53c4642"
      ],
      "layout": "IPY_MODEL_b7c81335cc4e46e79a33fd87e2646424"
     }
    },
    "b2ae05addd1740c898d23d18e3a69e4d": {
     "model_module": "@jupyter-widgets/controls",
     "model_module_version": "1.5.0",
     "model_name": "ProgressStyleModel",
     "state": {
      "_model_module": "@jupyter-widgets/controls",
      "_model_module_version": "1.5.0",
      "_model_name": "ProgressStyleModel",
      "_view_count": null,
      "_view_module": "@jupyter-widgets/base",
      "_view_module_version": "1.2.0",
      "_view_name": "StyleView",
      "bar_color": null,
      "description_width": ""
     }
    },
    "b300c1577f6f493e8e1ef216dca9d9f9": {
     "model_module": "@jupyter-widgets/base",
     "model_module_version": "1.2.0",
     "model_name": "LayoutModel",
     "state": {
      "_model_module": "@jupyter-widgets/base",
      "_model_module_version": "1.2.0",
      "_model_name": "LayoutModel",
      "_view_count": null,
      "_view_module": "@jupyter-widgets/base",
      "_view_module_version": "1.2.0",
      "_view_name": "LayoutView",
      "align_content": null,
      "align_items": null,
      "align_self": null,
      "border": null,
      "bottom": null,
      "display": null,
      "flex": null,
      "flex_flow": null,
      "grid_area": null,
      "grid_auto_columns": null,
      "grid_auto_flow": null,
      "grid_auto_rows": null,
      "grid_column": null,
      "grid_gap": null,
      "grid_row": null,
      "grid_template_areas": null,
      "grid_template_columns": null,
      "grid_template_rows": null,
      "height": null,
      "justify_content": null,
      "justify_items": null,
      "left": null,
      "margin": null,
      "max_height": null,
      "max_width": null,
      "min_height": null,
      "min_width": null,
      "object_fit": null,
      "object_position": null,
      "order": null,
      "overflow": null,
      "overflow_x": null,
      "overflow_y": null,
      "padding": null,
      "right": null,
      "top": null,
      "visibility": null,
      "width": null
     }
    },
    "b4afcc2ace784754a4bf06ba33c61700": {
     "model_module": "@jupyter-widgets/base",
     "model_module_version": "1.2.0",
     "model_name": "LayoutModel",
     "state": {
      "_model_module": "@jupyter-widgets/base",
      "_model_module_version": "1.2.0",
      "_model_name": "LayoutModel",
      "_view_count": null,
      "_view_module": "@jupyter-widgets/base",
      "_view_module_version": "1.2.0",
      "_view_name": "LayoutView",
      "align_content": null,
      "align_items": null,
      "align_self": null,
      "border": null,
      "bottom": null,
      "display": null,
      "flex": null,
      "flex_flow": null,
      "grid_area": null,
      "grid_auto_columns": null,
      "grid_auto_flow": null,
      "grid_auto_rows": null,
      "grid_column": null,
      "grid_gap": null,
      "grid_row": null,
      "grid_template_areas": null,
      "grid_template_columns": null,
      "grid_template_rows": null,
      "height": null,
      "justify_content": null,
      "justify_items": null,
      "left": null,
      "margin": null,
      "max_height": null,
      "max_width": null,
      "min_height": null,
      "min_width": null,
      "object_fit": null,
      "object_position": null,
      "order": null,
      "overflow": null,
      "overflow_x": null,
      "overflow_y": null,
      "padding": null,
      "right": null,
      "top": null,
      "visibility": null,
      "width": null
     }
    },
    "b7bac9ff4cd84f788f7e281f759b0d0b": {
     "model_module": "@jupyter-widgets/base",
     "model_module_version": "1.2.0",
     "model_name": "LayoutModel",
     "state": {
      "_model_module": "@jupyter-widgets/base",
      "_model_module_version": "1.2.0",
      "_model_name": "LayoutModel",
      "_view_count": null,
      "_view_module": "@jupyter-widgets/base",
      "_view_module_version": "1.2.0",
      "_view_name": "LayoutView",
      "align_content": null,
      "align_items": null,
      "align_self": null,
      "border": null,
      "bottom": null,
      "display": null,
      "flex": null,
      "flex_flow": null,
      "grid_area": null,
      "grid_auto_columns": null,
      "grid_auto_flow": null,
      "grid_auto_rows": null,
      "grid_column": null,
      "grid_gap": null,
      "grid_row": null,
      "grid_template_areas": null,
      "grid_template_columns": null,
      "grid_template_rows": null,
      "height": null,
      "justify_content": null,
      "justify_items": null,
      "left": null,
      "margin": null,
      "max_height": null,
      "max_width": null,
      "min_height": null,
      "min_width": null,
      "object_fit": null,
      "object_position": null,
      "order": null,
      "overflow": null,
      "overflow_x": null,
      "overflow_y": null,
      "padding": null,
      "right": null,
      "top": null,
      "visibility": null,
      "width": null
     }
    },
    "b7c81335cc4e46e79a33fd87e2646424": {
     "model_module": "@jupyter-widgets/base",
     "model_module_version": "1.2.0",
     "model_name": "LayoutModel",
     "state": {
      "_model_module": "@jupyter-widgets/base",
      "_model_module_version": "1.2.0",
      "_model_name": "LayoutModel",
      "_view_count": null,
      "_view_module": "@jupyter-widgets/base",
      "_view_module_version": "1.2.0",
      "_view_name": "LayoutView",
      "align_content": null,
      "align_items": null,
      "align_self": null,
      "border": null,
      "bottom": null,
      "display": null,
      "flex": null,
      "flex_flow": null,
      "grid_area": null,
      "grid_auto_columns": null,
      "grid_auto_flow": null,
      "grid_auto_rows": null,
      "grid_column": null,
      "grid_gap": null,
      "grid_row": null,
      "grid_template_areas": null,
      "grid_template_columns": null,
      "grid_template_rows": null,
      "height": null,
      "justify_content": null,
      "justify_items": null,
      "left": null,
      "margin": null,
      "max_height": null,
      "max_width": null,
      "min_height": null,
      "min_width": null,
      "object_fit": null,
      "object_position": null,
      "order": null,
      "overflow": null,
      "overflow_x": null,
      "overflow_y": null,
      "padding": null,
      "right": null,
      "top": null,
      "visibility": null,
      "width": null
     }
    },
    "b98106543871429d9ffecf5c1f25d0f0": {
     "model_module": "@jupyter-widgets/controls",
     "model_module_version": "1.5.0",
     "model_name": "ProgressStyleModel",
     "state": {
      "_model_module": "@jupyter-widgets/controls",
      "_model_module_version": "1.5.0",
      "_model_name": "ProgressStyleModel",
      "_view_count": null,
      "_view_module": "@jupyter-widgets/base",
      "_view_module_version": "1.2.0",
      "_view_name": "StyleView",
      "bar_color": null,
      "description_width": ""
     }
    },
    "b9ce516243cf4809b3abc0b7b48e5b9d": {
     "model_module": "@jupyter-widgets/controls",
     "model_module_version": "1.5.0",
     "model_name": "FloatProgressModel",
     "state": {
      "_dom_classes": [],
      "_model_module": "@jupyter-widgets/controls",
      "_model_module_version": "1.5.0",
      "_model_name": "FloatProgressModel",
      "_view_count": null,
      "_view_module": "@jupyter-widgets/controls",
      "_view_module_version": "1.5.0",
      "_view_name": "ProgressView",
      "bar_style": "success",
      "description": "",
      "description_tooltip": null,
      "layout": "IPY_MODEL_d38f34e5816941d2b773259fc2ed56d9",
      "max": 49,
      "min": 0,
      "orientation": "horizontal",
      "style": "IPY_MODEL_b98106543871429d9ffecf5c1f25d0f0",
      "value": 49
     }
    },
    "ba38b3c8f5c9444898e37a062a025488": {
     "model_module": "@jupyter-widgets/controls",
     "model_module_version": "1.5.0",
     "model_name": "HTMLModel",
     "state": {
      "_dom_classes": [],
      "_model_module": "@jupyter-widgets/controls",
      "_model_module_version": "1.5.0",
      "_model_name": "HTMLModel",
      "_view_count": null,
      "_view_module": "@jupyter-widgets/controls",
      "_view_module_version": "1.5.0",
      "_view_name": "HTMLView",
      "description": "",
      "description_tooltip": null,
      "layout": "IPY_MODEL_322741fb757a4d55be4f4cfa53b82d13",
      "placeholder": "​",
      "style": "IPY_MODEL_73e82f3b77e84b668fb9ff352350f579",
      "value": "Map: 100%"
     }
    },
    "bc6d37cc24624e1d8784de5df22a697c": {
     "model_module": "@jupyter-widgets/base",
     "model_module_version": "1.2.0",
     "model_name": "LayoutModel",
     "state": {
      "_model_module": "@jupyter-widgets/base",
      "_model_module_version": "1.2.0",
      "_model_name": "LayoutModel",
      "_view_count": null,
      "_view_module": "@jupyter-widgets/base",
      "_view_module_version": "1.2.0",
      "_view_name": "LayoutView",
      "align_content": null,
      "align_items": null,
      "align_self": null,
      "border": null,
      "bottom": null,
      "display": null,
      "flex": null,
      "flex_flow": null,
      "grid_area": null,
      "grid_auto_columns": null,
      "grid_auto_flow": null,
      "grid_auto_rows": null,
      "grid_column": null,
      "grid_gap": null,
      "grid_row": null,
      "grid_template_areas": null,
      "grid_template_columns": null,
      "grid_template_rows": null,
      "height": null,
      "justify_content": null,
      "justify_items": null,
      "left": null,
      "margin": null,
      "max_height": null,
      "max_width": null,
      "min_height": null,
      "min_width": null,
      "object_fit": null,
      "object_position": null,
      "order": null,
      "overflow": null,
      "overflow_x": null,
      "overflow_y": null,
      "padding": null,
      "right": null,
      "top": null,
      "visibility": null,
      "width": null
     }
    },
    "bd1f3ffa65a842298cf1d320a20e6016": {
     "model_module": "@jupyter-widgets/controls",
     "model_module_version": "1.5.0",
     "model_name": "HBoxModel",
     "state": {
      "_dom_classes": [],
      "_model_module": "@jupyter-widgets/controls",
      "_model_module_version": "1.5.0",
      "_model_name": "HBoxModel",
      "_view_count": null,
      "_view_module": "@jupyter-widgets/controls",
      "_view_module_version": "1.5.0",
      "_view_name": "HBoxView",
      "box_style": "",
      "children": [
       "IPY_MODEL_3eeb529371aa474e9d2b8d15682fa175",
       "IPY_MODEL_c9730dcfcfcd4e0382dc412466373b97",
       "IPY_MODEL_00d58e865df74ab693cd223e54e1c194"
      ],
      "layout": "IPY_MODEL_e7e9a45761314b83a6cd04a7f46c62cc"
     }
    },
    "bdcf4d073ad14207a404877925a766f0": {
     "model_module": "@jupyter-widgets/controls",
     "model_module_version": "1.5.0",
     "model_name": "DescriptionStyleModel",
     "state": {
      "_model_module": "@jupyter-widgets/controls",
      "_model_module_version": "1.5.0",
      "_model_name": "DescriptionStyleModel",
      "_view_count": null,
      "_view_module": "@jupyter-widgets/base",
      "_view_module_version": "1.2.0",
      "_view_name": "StyleView",
      "description_width": ""
     }
    },
    "bde35ca06bfd414bbabb716aac928566": {
     "model_module": "@jupyter-widgets/base",
     "model_module_version": "1.2.0",
     "model_name": "LayoutModel",
     "state": {
      "_model_module": "@jupyter-widgets/base",
      "_model_module_version": "1.2.0",
      "_model_name": "LayoutModel",
      "_view_count": null,
      "_view_module": "@jupyter-widgets/base",
      "_view_module_version": "1.2.0",
      "_view_name": "LayoutView",
      "align_content": null,
      "align_items": null,
      "align_self": null,
      "border": null,
      "bottom": null,
      "display": null,
      "flex": null,
      "flex_flow": null,
      "grid_area": null,
      "grid_auto_columns": null,
      "grid_auto_flow": null,
      "grid_auto_rows": null,
      "grid_column": null,
      "grid_gap": null,
      "grid_row": null,
      "grid_template_areas": null,
      "grid_template_columns": null,
      "grid_template_rows": null,
      "height": null,
      "justify_content": null,
      "justify_items": null,
      "left": null,
      "margin": null,
      "max_height": null,
      "max_width": null,
      "min_height": null,
      "min_width": null,
      "object_fit": null,
      "object_position": null,
      "order": null,
      "overflow": null,
      "overflow_x": null,
      "overflow_y": null,
      "padding": null,
      "right": null,
      "top": null,
      "visibility": null,
      "width": null
     }
    },
    "be3c69d847384761b83041d1ee88bc61": {
     "model_module": "@jupyter-widgets/controls",
     "model_module_version": "1.5.0",
     "model_name": "ProgressStyleModel",
     "state": {
      "_model_module": "@jupyter-widgets/controls",
      "_model_module_version": "1.5.0",
      "_model_name": "ProgressStyleModel",
      "_view_count": null,
      "_view_module": "@jupyter-widgets/base",
      "_view_module_version": "1.2.0",
      "_view_name": "StyleView",
      "bar_color": null,
      "description_width": ""
     }
    },
    "be442b6c59a04c1abe72edbc838952be": {
     "model_module": "@jupyter-widgets/base",
     "model_module_version": "1.2.0",
     "model_name": "LayoutModel",
     "state": {
      "_model_module": "@jupyter-widgets/base",
      "_model_module_version": "1.2.0",
      "_model_name": "LayoutModel",
      "_view_count": null,
      "_view_module": "@jupyter-widgets/base",
      "_view_module_version": "1.2.0",
      "_view_name": "LayoutView",
      "align_content": null,
      "align_items": null,
      "align_self": null,
      "border": null,
      "bottom": null,
      "display": null,
      "flex": null,
      "flex_flow": null,
      "grid_area": null,
      "grid_auto_columns": null,
      "grid_auto_flow": null,
      "grid_auto_rows": null,
      "grid_column": null,
      "grid_gap": null,
      "grid_row": null,
      "grid_template_areas": null,
      "grid_template_columns": null,
      "grid_template_rows": null,
      "height": null,
      "justify_content": null,
      "justify_items": null,
      "left": null,
      "margin": null,
      "max_height": null,
      "max_width": null,
      "min_height": null,
      "min_width": null,
      "object_fit": null,
      "object_position": null,
      "order": null,
      "overflow": null,
      "overflow_x": null,
      "overflow_y": null,
      "padding": null,
      "right": null,
      "top": null,
      "visibility": null,
      "width": null
     }
    },
    "be5a06ec0b1e4995afedeeea9a6df89f": {
     "model_module": "@jupyter-widgets/base",
     "model_module_version": "1.2.0",
     "model_name": "LayoutModel",
     "state": {
      "_model_module": "@jupyter-widgets/base",
      "_model_module_version": "1.2.0",
      "_model_name": "LayoutModel",
      "_view_count": null,
      "_view_module": "@jupyter-widgets/base",
      "_view_module_version": "1.2.0",
      "_view_name": "LayoutView",
      "align_content": null,
      "align_items": null,
      "align_self": null,
      "border": null,
      "bottom": null,
      "display": null,
      "flex": null,
      "flex_flow": null,
      "grid_area": null,
      "grid_auto_columns": null,
      "grid_auto_flow": null,
      "grid_auto_rows": null,
      "grid_column": null,
      "grid_gap": null,
      "grid_row": null,
      "grid_template_areas": null,
      "grid_template_columns": null,
      "grid_template_rows": null,
      "height": null,
      "justify_content": null,
      "justify_items": null,
      "left": null,
      "margin": null,
      "max_height": null,
      "max_width": null,
      "min_height": null,
      "min_width": null,
      "object_fit": null,
      "object_position": null,
      "order": null,
      "overflow": null,
      "overflow_x": null,
      "overflow_y": null,
      "padding": null,
      "right": null,
      "top": null,
      "visibility": null,
      "width": null
     }
    },
    "bf09b425c3f14ff38bcb03589e025aaa": {
     "model_module": "@jupyter-widgets/controls",
     "model_module_version": "1.5.0",
     "model_name": "HTMLModel",
     "state": {
      "_dom_classes": [],
      "_model_module": "@jupyter-widgets/controls",
      "_model_module_version": "1.5.0",
      "_model_name": "HTMLModel",
      "_view_count": null,
      "_view_module": "@jupyter-widgets/controls",
      "_view_module_version": "1.5.0",
      "_view_name": "HTMLView",
      "description": "",
      "description_tooltip": null,
      "layout": "IPY_MODEL_ca8f61dfd4fa401baba72a01ab888925",
      "placeholder": "​",
      "style": "IPY_MODEL_c7722ccaafc04100a328881e2ac8341c",
      "value": " 570/570 [00:00&lt;00:00, 15.1kB/s]"
     }
    },
    "c03e974e934d4fa181f33e50e73241a3": {
     "model_module": "@jupyter-widgets/controls",
     "model_module_version": "1.5.0",
     "model_name": "DescriptionStyleModel",
     "state": {
      "_model_module": "@jupyter-widgets/controls",
      "_model_module_version": "1.5.0",
      "_model_name": "DescriptionStyleModel",
      "_view_count": null,
      "_view_module": "@jupyter-widgets/base",
      "_view_module_version": "1.2.0",
      "_view_name": "StyleView",
      "description_width": ""
     }
    },
    "c0d913de539748a6bfd6ff7a7c2de413": {
     "model_module": "@jupyter-widgets/base",
     "model_module_version": "1.2.0",
     "model_name": "LayoutModel",
     "state": {
      "_model_module": "@jupyter-widgets/base",
      "_model_module_version": "1.2.0",
      "_model_name": "LayoutModel",
      "_view_count": null,
      "_view_module": "@jupyter-widgets/base",
      "_view_module_version": "1.2.0",
      "_view_name": "LayoutView",
      "align_content": null,
      "align_items": null,
      "align_self": null,
      "border": null,
      "bottom": null,
      "display": null,
      "flex": null,
      "flex_flow": null,
      "grid_area": null,
      "grid_auto_columns": null,
      "grid_auto_flow": null,
      "grid_auto_rows": null,
      "grid_column": null,
      "grid_gap": null,
      "grid_row": null,
      "grid_template_areas": null,
      "grid_template_columns": null,
      "grid_template_rows": null,
      "height": null,
      "justify_content": null,
      "justify_items": null,
      "left": null,
      "margin": null,
      "max_height": null,
      "max_width": null,
      "min_height": null,
      "min_width": null,
      "object_fit": null,
      "object_position": null,
      "order": null,
      "overflow": null,
      "overflow_x": null,
      "overflow_y": null,
      "padding": null,
      "right": null,
      "top": null,
      "visibility": null,
      "width": null
     }
    },
    "c65c9b03426c415cab02297df0ca21bb": {
     "model_module": "@jupyter-widgets/controls",
     "model_module_version": "1.5.0",
     "model_name": "DescriptionStyleModel",
     "state": {
      "_model_module": "@jupyter-widgets/controls",
      "_model_module_version": "1.5.0",
      "_model_name": "DescriptionStyleModel",
      "_view_count": null,
      "_view_module": "@jupyter-widgets/base",
      "_view_module_version": "1.2.0",
      "_view_name": "StyleView",
      "description_width": ""
     }
    },
    "c7722ccaafc04100a328881e2ac8341c": {
     "model_module": "@jupyter-widgets/controls",
     "model_module_version": "1.5.0",
     "model_name": "DescriptionStyleModel",
     "state": {
      "_model_module": "@jupyter-widgets/controls",
      "_model_module_version": "1.5.0",
      "_model_name": "DescriptionStyleModel",
      "_view_count": null,
      "_view_module": "@jupyter-widgets/base",
      "_view_module_version": "1.2.0",
      "_view_name": "StyleView",
      "description_width": ""
     }
    },
    "c809112d4241483d99bdd3495ff6548b": {
     "model_module": "@jupyter-widgets/controls",
     "model_module_version": "1.5.0",
     "model_name": "ProgressStyleModel",
     "state": {
      "_model_module": "@jupyter-widgets/controls",
      "_model_module_version": "1.5.0",
      "_model_name": "ProgressStyleModel",
      "_view_count": null,
      "_view_module": "@jupyter-widgets/base",
      "_view_module_version": "1.2.0",
      "_view_name": "StyleView",
      "bar_color": null,
      "description_width": ""
     }
    },
    "c9730dcfcfcd4e0382dc412466373b97": {
     "model_module": "@jupyter-widgets/controls",
     "model_module_version": "1.5.0",
     "model_name": "FloatProgressModel",
     "state": {
      "_dom_classes": [],
      "_model_module": "@jupyter-widgets/controls",
      "_model_module_version": "1.5.0",
      "_model_name": "FloatProgressModel",
      "_view_count": null,
      "_view_module": "@jupyter-widgets/controls",
      "_view_module_version": "1.5.0",
      "_view_name": "ProgressView",
      "bar_style": "success",
      "description": "",
      "description_tooltip": null,
      "layout": "IPY_MODEL_cb90777680494cf8886cda1c75e6bf60",
      "max": 435755784,
      "min": 0,
      "orientation": "horizontal",
      "style": "IPY_MODEL_b2ae05addd1740c898d23d18e3a69e4d",
      "value": 435755784
     }
    },
    "ca8f61dfd4fa401baba72a01ab888925": {
     "model_module": "@jupyter-widgets/base",
     "model_module_version": "1.2.0",
     "model_name": "LayoutModel",
     "state": {
      "_model_module": "@jupyter-widgets/base",
      "_model_module_version": "1.2.0",
      "_model_name": "LayoutModel",
      "_view_count": null,
      "_view_module": "@jupyter-widgets/base",
      "_view_module_version": "1.2.0",
      "_view_name": "LayoutView",
      "align_content": null,
      "align_items": null,
      "align_self": null,
      "border": null,
      "bottom": null,
      "display": null,
      "flex": null,
      "flex_flow": null,
      "grid_area": null,
      "grid_auto_columns": null,
      "grid_auto_flow": null,
      "grid_auto_rows": null,
      "grid_column": null,
      "grid_gap": null,
      "grid_row": null,
      "grid_template_areas": null,
      "grid_template_columns": null,
      "grid_template_rows": null,
      "height": null,
      "justify_content": null,
      "justify_items": null,
      "left": null,
      "margin": null,
      "max_height": null,
      "max_width": null,
      "min_height": null,
      "min_width": null,
      "object_fit": null,
      "object_position": null,
      "order": null,
      "overflow": null,
      "overflow_x": null,
      "overflow_y": null,
      "padding": null,
      "right": null,
      "top": null,
      "visibility": null,
      "width": null
     }
    },
    "cb90777680494cf8886cda1c75e6bf60": {
     "model_module": "@jupyter-widgets/base",
     "model_module_version": "1.2.0",
     "model_name": "LayoutModel",
     "state": {
      "_model_module": "@jupyter-widgets/base",
      "_model_module_version": "1.2.0",
      "_model_name": "LayoutModel",
      "_view_count": null,
      "_view_module": "@jupyter-widgets/base",
      "_view_module_version": "1.2.0",
      "_view_name": "LayoutView",
      "align_content": null,
      "align_items": null,
      "align_self": null,
      "border": null,
      "bottom": null,
      "display": null,
      "flex": null,
      "flex_flow": null,
      "grid_area": null,
      "grid_auto_columns": null,
      "grid_auto_flow": null,
      "grid_auto_rows": null,
      "grid_column": null,
      "grid_gap": null,
      "grid_row": null,
      "grid_template_areas": null,
      "grid_template_columns": null,
      "grid_template_rows": null,
      "height": null,
      "justify_content": null,
      "justify_items": null,
      "left": null,
      "margin": null,
      "max_height": null,
      "max_width": null,
      "min_height": null,
      "min_width": null,
      "object_fit": null,
      "object_position": null,
      "order": null,
      "overflow": null,
      "overflow_x": null,
      "overflow_y": null,
      "padding": null,
      "right": null,
      "top": null,
      "visibility": null,
      "width": null
     }
    },
    "cc776e3b126e4794b56b25f56b345063": {
     "model_module": "@jupyter-widgets/base",
     "model_module_version": "1.2.0",
     "model_name": "LayoutModel",
     "state": {
      "_model_module": "@jupyter-widgets/base",
      "_model_module_version": "1.2.0",
      "_model_name": "LayoutModel",
      "_view_count": null,
      "_view_module": "@jupyter-widgets/base",
      "_view_module_version": "1.2.0",
      "_view_name": "LayoutView",
      "align_content": null,
      "align_items": null,
      "align_self": null,
      "border": null,
      "bottom": null,
      "display": null,
      "flex": null,
      "flex_flow": null,
      "grid_area": null,
      "grid_auto_columns": null,
      "grid_auto_flow": null,
      "grid_auto_rows": null,
      "grid_column": null,
      "grid_gap": null,
      "grid_row": null,
      "grid_template_areas": null,
      "grid_template_columns": null,
      "grid_template_rows": null,
      "height": null,
      "justify_content": null,
      "justify_items": null,
      "left": null,
      "margin": null,
      "max_height": null,
      "max_width": null,
      "min_height": null,
      "min_width": null,
      "object_fit": null,
      "object_position": null,
      "order": null,
      "overflow": null,
      "overflow_x": null,
      "overflow_y": null,
      "padding": null,
      "right": null,
      "top": null,
      "visibility": null,
      "width": null
     }
    },
    "ce51238ad2254fe797a4044f81975873": {
     "model_module": "@jupyter-widgets/controls",
     "model_module_version": "1.5.0",
     "model_name": "HBoxModel",
     "state": {
      "_dom_classes": [],
      "_model_module": "@jupyter-widgets/controls",
      "_model_module_version": "1.5.0",
      "_model_name": "HBoxModel",
      "_view_count": null,
      "_view_module": "@jupyter-widgets/controls",
      "_view_module_version": "1.5.0",
      "_view_name": "HBoxView",
      "box_style": "",
      "children": [
       "IPY_MODEL_f62ee1157d3a451e885289a1cfd2808f",
       "IPY_MODEL_9c2089addd5e45fd96e37288a574801c",
       "IPY_MODEL_6fb428b2e753473b896316278f74f4a5"
      ],
      "layout": "IPY_MODEL_be442b6c59a04c1abe72edbc838952be"
     }
    },
    "d38f34e5816941d2b773259fc2ed56d9": {
     "model_module": "@jupyter-widgets/base",
     "model_module_version": "1.2.0",
     "model_name": "LayoutModel",
     "state": {
      "_model_module": "@jupyter-widgets/base",
      "_model_module_version": "1.2.0",
      "_model_name": "LayoutModel",
      "_view_count": null,
      "_view_module": "@jupyter-widgets/base",
      "_view_module_version": "1.2.0",
      "_view_name": "LayoutView",
      "align_content": null,
      "align_items": null,
      "align_self": null,
      "border": null,
      "bottom": null,
      "display": null,
      "flex": null,
      "flex_flow": null,
      "grid_area": null,
      "grid_auto_columns": null,
      "grid_auto_flow": null,
      "grid_auto_rows": null,
      "grid_column": null,
      "grid_gap": null,
      "grid_row": null,
      "grid_template_areas": null,
      "grid_template_columns": null,
      "grid_template_rows": null,
      "height": null,
      "justify_content": null,
      "justify_items": null,
      "left": null,
      "margin": null,
      "max_height": null,
      "max_width": null,
      "min_height": null,
      "min_width": null,
      "object_fit": null,
      "object_position": null,
      "order": null,
      "overflow": null,
      "overflow_x": null,
      "overflow_y": null,
      "padding": null,
      "right": null,
      "top": null,
      "visibility": null,
      "width": null
     }
    },
    "d3c5870f4669479bb23dcb0fb8941fa5": {
     "model_module": "@jupyter-widgets/base",
     "model_module_version": "1.2.0",
     "model_name": "LayoutModel",
     "state": {
      "_model_module": "@jupyter-widgets/base",
      "_model_module_version": "1.2.0",
      "_model_name": "LayoutModel",
      "_view_count": null,
      "_view_module": "@jupyter-widgets/base",
      "_view_module_version": "1.2.0",
      "_view_name": "LayoutView",
      "align_content": null,
      "align_items": null,
      "align_self": null,
      "border": null,
      "bottom": null,
      "display": null,
      "flex": null,
      "flex_flow": null,
      "grid_area": null,
      "grid_auto_columns": null,
      "grid_auto_flow": null,
      "grid_auto_rows": null,
      "grid_column": null,
      "grid_gap": null,
      "grid_row": null,
      "grid_template_areas": null,
      "grid_template_columns": null,
      "grid_template_rows": null,
      "height": null,
      "justify_content": null,
      "justify_items": null,
      "left": null,
      "margin": null,
      "max_height": null,
      "max_width": null,
      "min_height": null,
      "min_width": null,
      "object_fit": null,
      "object_position": null,
      "order": null,
      "overflow": null,
      "overflow_x": null,
      "overflow_y": null,
      "padding": null,
      "right": null,
      "top": null,
      "visibility": null,
      "width": null
     }
    },
    "d4419bbda0ea4136904a67ed0a61a975": {
     "model_module": "@jupyter-widgets/base",
     "model_module_version": "1.2.0",
     "model_name": "LayoutModel",
     "state": {
      "_model_module": "@jupyter-widgets/base",
      "_model_module_version": "1.2.0",
      "_model_name": "LayoutModel",
      "_view_count": null,
      "_view_module": "@jupyter-widgets/base",
      "_view_module_version": "1.2.0",
      "_view_name": "LayoutView",
      "align_content": null,
      "align_items": null,
      "align_self": null,
      "border": null,
      "bottom": null,
      "display": null,
      "flex": null,
      "flex_flow": null,
      "grid_area": null,
      "grid_auto_columns": null,
      "grid_auto_flow": null,
      "grid_auto_rows": null,
      "grid_column": null,
      "grid_gap": null,
      "grid_row": null,
      "grid_template_areas": null,
      "grid_template_columns": null,
      "grid_template_rows": null,
      "height": null,
      "justify_content": null,
      "justify_items": null,
      "left": null,
      "margin": null,
      "max_height": null,
      "max_width": null,
      "min_height": null,
      "min_width": null,
      "object_fit": null,
      "object_position": null,
      "order": null,
      "overflow": null,
      "overflow_x": null,
      "overflow_y": null,
      "padding": null,
      "right": null,
      "top": null,
      "visibility": null,
      "width": null
     }
    },
    "d4d46352fcaa4f23a15a30a3e3fd523b": {
     "model_module": "@jupyter-widgets/base",
     "model_module_version": "1.2.0",
     "model_name": "LayoutModel",
     "state": {
      "_model_module": "@jupyter-widgets/base",
      "_model_module_version": "1.2.0",
      "_model_name": "LayoutModel",
      "_view_count": null,
      "_view_module": "@jupyter-widgets/base",
      "_view_module_version": "1.2.0",
      "_view_name": "LayoutView",
      "align_content": null,
      "align_items": null,
      "align_self": null,
      "border": null,
      "bottom": null,
      "display": null,
      "flex": null,
      "flex_flow": null,
      "grid_area": null,
      "grid_auto_columns": null,
      "grid_auto_flow": null,
      "grid_auto_rows": null,
      "grid_column": null,
      "grid_gap": null,
      "grid_row": null,
      "grid_template_areas": null,
      "grid_template_columns": null,
      "grid_template_rows": null,
      "height": null,
      "justify_content": null,
      "justify_items": null,
      "left": null,
      "margin": null,
      "max_height": null,
      "max_width": null,
      "min_height": null,
      "min_width": null,
      "object_fit": null,
      "object_position": null,
      "order": null,
      "overflow": null,
      "overflow_x": null,
      "overflow_y": null,
      "padding": null,
      "right": null,
      "top": null,
      "visibility": null,
      "width": null
     }
    },
    "d8150c5943eb47b599fffe6e54a3f5cf": {
     "model_module": "@jupyter-widgets/base",
     "model_module_version": "1.2.0",
     "model_name": "LayoutModel",
     "state": {
      "_model_module": "@jupyter-widgets/base",
      "_model_module_version": "1.2.0",
      "_model_name": "LayoutModel",
      "_view_count": null,
      "_view_module": "@jupyter-widgets/base",
      "_view_module_version": "1.2.0",
      "_view_name": "LayoutView",
      "align_content": null,
      "align_items": null,
      "align_self": null,
      "border": null,
      "bottom": null,
      "display": null,
      "flex": null,
      "flex_flow": null,
      "grid_area": null,
      "grid_auto_columns": null,
      "grid_auto_flow": null,
      "grid_auto_rows": null,
      "grid_column": null,
      "grid_gap": null,
      "grid_row": null,
      "grid_template_areas": null,
      "grid_template_columns": null,
      "grid_template_rows": null,
      "height": null,
      "justify_content": null,
      "justify_items": null,
      "left": null,
      "margin": null,
      "max_height": null,
      "max_width": null,
      "min_height": null,
      "min_width": null,
      "object_fit": null,
      "object_position": null,
      "order": null,
      "overflow": null,
      "overflow_x": null,
      "overflow_y": null,
      "padding": null,
      "right": null,
      "top": null,
      "visibility": null,
      "width": null
     }
    },
    "d8d172f16be7400fb53c78eb13cce24a": {
     "model_module": "@jupyter-widgets/base",
     "model_module_version": "1.2.0",
     "model_name": "LayoutModel",
     "state": {
      "_model_module": "@jupyter-widgets/base",
      "_model_module_version": "1.2.0",
      "_model_name": "LayoutModel",
      "_view_count": null,
      "_view_module": "@jupyter-widgets/base",
      "_view_module_version": "1.2.0",
      "_view_name": "LayoutView",
      "align_content": null,
      "align_items": null,
      "align_self": null,
      "border": null,
      "bottom": null,
      "display": null,
      "flex": null,
      "flex_flow": null,
      "grid_area": null,
      "grid_auto_columns": null,
      "grid_auto_flow": null,
      "grid_auto_rows": null,
      "grid_column": null,
      "grid_gap": null,
      "grid_row": null,
      "grid_template_areas": null,
      "grid_template_columns": null,
      "grid_template_rows": null,
      "height": null,
      "justify_content": null,
      "justify_items": null,
      "left": null,
      "margin": null,
      "max_height": null,
      "max_width": null,
      "min_height": null,
      "min_width": null,
      "object_fit": null,
      "object_position": null,
      "order": null,
      "overflow": null,
      "overflow_x": null,
      "overflow_y": null,
      "padding": null,
      "right": null,
      "top": null,
      "visibility": null,
      "width": null
     }
    },
    "dae74c8b558744968476efadaaf5b23b": {
     "model_module": "@jupyter-widgets/base",
     "model_module_version": "1.2.0",
     "model_name": "LayoutModel",
     "state": {
      "_model_module": "@jupyter-widgets/base",
      "_model_module_version": "1.2.0",
      "_model_name": "LayoutModel",
      "_view_count": null,
      "_view_module": "@jupyter-widgets/base",
      "_view_module_version": "1.2.0",
      "_view_name": "LayoutView",
      "align_content": null,
      "align_items": null,
      "align_self": null,
      "border": null,
      "bottom": null,
      "display": null,
      "flex": null,
      "flex_flow": null,
      "grid_area": null,
      "grid_auto_columns": null,
      "grid_auto_flow": null,
      "grid_auto_rows": null,
      "grid_column": null,
      "grid_gap": null,
      "grid_row": null,
      "grid_template_areas": null,
      "grid_template_columns": null,
      "grid_template_rows": null,
      "height": null,
      "justify_content": null,
      "justify_items": null,
      "left": null,
      "margin": null,
      "max_height": null,
      "max_width": null,
      "min_height": null,
      "min_width": null,
      "object_fit": null,
      "object_position": null,
      "order": null,
      "overflow": null,
      "overflow_x": null,
      "overflow_y": null,
      "padding": null,
      "right": null,
      "top": null,
      "visibility": null,
      "width": null
     }
    },
    "db6da9514d7a4a8eb69f940c8a1f5ca5": {
     "model_module": "@jupyter-widgets/controls",
     "model_module_version": "1.5.0",
     "model_name": "DescriptionStyleModel",
     "state": {
      "_model_module": "@jupyter-widgets/controls",
      "_model_module_version": "1.5.0",
      "_model_name": "DescriptionStyleModel",
      "_view_count": null,
      "_view_module": "@jupyter-widgets/base",
      "_view_module_version": "1.2.0",
      "_view_name": "StyleView",
      "description_width": ""
     }
    },
    "dd93cd0301a842529474eed8f2eda54e": {
     "model_module": "@jupyter-widgets/base",
     "model_module_version": "1.2.0",
     "model_name": "LayoutModel",
     "state": {
      "_model_module": "@jupyter-widgets/base",
      "_model_module_version": "1.2.0",
      "_model_name": "LayoutModel",
      "_view_count": null,
      "_view_module": "@jupyter-widgets/base",
      "_view_module_version": "1.2.0",
      "_view_name": "LayoutView",
      "align_content": null,
      "align_items": null,
      "align_self": null,
      "border": null,
      "bottom": null,
      "display": null,
      "flex": null,
      "flex_flow": null,
      "grid_area": null,
      "grid_auto_columns": null,
      "grid_auto_flow": null,
      "grid_auto_rows": null,
      "grid_column": null,
      "grid_gap": null,
      "grid_row": null,
      "grid_template_areas": null,
      "grid_template_columns": null,
      "grid_template_rows": null,
      "height": null,
      "justify_content": null,
      "justify_items": null,
      "left": null,
      "margin": null,
      "max_height": null,
      "max_width": null,
      "min_height": null,
      "min_width": null,
      "object_fit": null,
      "object_position": null,
      "order": null,
      "overflow": null,
      "overflow_x": null,
      "overflow_y": null,
      "padding": null,
      "right": null,
      "top": null,
      "visibility": null,
      "width": null
     }
    },
    "defd6bb57f554c82b0a498b2af078d4c": {
     "model_module": "@jupyter-widgets/controls",
     "model_module_version": "1.5.0",
     "model_name": "DescriptionStyleModel",
     "state": {
      "_model_module": "@jupyter-widgets/controls",
      "_model_module_version": "1.5.0",
      "_model_name": "DescriptionStyleModel",
      "_view_count": null,
      "_view_module": "@jupyter-widgets/base",
      "_view_module_version": "1.2.0",
      "_view_name": "StyleView",
      "description_width": ""
     }
    },
    "dfdadecafa5b4648b683dcf139f5b29e": {
     "model_module": "@jupyter-widgets/controls",
     "model_module_version": "1.5.0",
     "model_name": "DescriptionStyleModel",
     "state": {
      "_model_module": "@jupyter-widgets/controls",
      "_model_module_version": "1.5.0",
      "_model_name": "DescriptionStyleModel",
      "_view_count": null,
      "_view_module": "@jupyter-widgets/base",
      "_view_module_version": "1.2.0",
      "_view_name": "StyleView",
      "description_width": ""
     }
    },
    "e2d02ed4f8284afbb421417653d943e2": {
     "model_module": "@jupyter-widgets/base",
     "model_module_version": "1.2.0",
     "model_name": "LayoutModel",
     "state": {
      "_model_module": "@jupyter-widgets/base",
      "_model_module_version": "1.2.0",
      "_model_name": "LayoutModel",
      "_view_count": null,
      "_view_module": "@jupyter-widgets/base",
      "_view_module_version": "1.2.0",
      "_view_name": "LayoutView",
      "align_content": null,
      "align_items": null,
      "align_self": null,
      "border": null,
      "bottom": null,
      "display": null,
      "flex": null,
      "flex_flow": null,
      "grid_area": null,
      "grid_auto_columns": null,
      "grid_auto_flow": null,
      "grid_auto_rows": null,
      "grid_column": null,
      "grid_gap": null,
      "grid_row": null,
      "grid_template_areas": null,
      "grid_template_columns": null,
      "grid_template_rows": null,
      "height": null,
      "justify_content": null,
      "justify_items": null,
      "left": null,
      "margin": null,
      "max_height": null,
      "max_width": null,
      "min_height": null,
      "min_width": null,
      "object_fit": null,
      "object_position": null,
      "order": null,
      "overflow": null,
      "overflow_x": null,
      "overflow_y": null,
      "padding": null,
      "right": null,
      "top": null,
      "visibility": null,
      "width": null
     }
    },
    "e669cfd80b3d42c0883817b7ea022ad0": {
     "model_module": "@jupyter-widgets/controls",
     "model_module_version": "1.5.0",
     "model_name": "HTMLModel",
     "state": {
      "_dom_classes": [],
      "_model_module": "@jupyter-widgets/controls",
      "_model_module_version": "1.5.0",
      "_model_name": "HTMLModel",
      "_view_count": null,
      "_view_module": "@jupyter-widgets/controls",
      "_view_module_version": "1.5.0",
      "_view_name": "HTMLView",
      "description": "",
      "description_tooltip": null,
      "layout": "IPY_MODEL_3b6cce88168845c6a42364afc4a17d5e",
      "placeholder": "​",
      "style": "IPY_MODEL_790ae566f7954ad2aef82214e9bed2a1",
      "value": " 213k/213k [00:00&lt;00:00, 3.90MB/s]"
     }
    },
    "e7e9a45761314b83a6cd04a7f46c62cc": {
     "model_module": "@jupyter-widgets/base",
     "model_module_version": "1.2.0",
     "model_name": "LayoutModel",
     "state": {
      "_model_module": "@jupyter-widgets/base",
      "_model_module_version": "1.2.0",
      "_model_name": "LayoutModel",
      "_view_count": null,
      "_view_module": "@jupyter-widgets/base",
      "_view_module_version": "1.2.0",
      "_view_name": "LayoutView",
      "align_content": null,
      "align_items": null,
      "align_self": null,
      "border": null,
      "bottom": null,
      "display": null,
      "flex": null,
      "flex_flow": null,
      "grid_area": null,
      "grid_auto_columns": null,
      "grid_auto_flow": null,
      "grid_auto_rows": null,
      "grid_column": null,
      "grid_gap": null,
      "grid_row": null,
      "grid_template_areas": null,
      "grid_template_columns": null,
      "grid_template_rows": null,
      "height": null,
      "justify_content": null,
      "justify_items": null,
      "left": null,
      "margin": null,
      "max_height": null,
      "max_width": null,
      "min_height": null,
      "min_width": null,
      "object_fit": null,
      "object_position": null,
      "order": null,
      "overflow": null,
      "overflow_x": null,
      "overflow_y": null,
      "padding": null,
      "right": null,
      "top": null,
      "visibility": null,
      "width": null
     }
    },
    "e82e833195ca48c789b10886f2a6a0a9": {
     "model_module": "@jupyter-widgets/base",
     "model_module_version": "1.2.0",
     "model_name": "LayoutModel",
     "state": {
      "_model_module": "@jupyter-widgets/base",
      "_model_module_version": "1.2.0",
      "_model_name": "LayoutModel",
      "_view_count": null,
      "_view_module": "@jupyter-widgets/base",
      "_view_module_version": "1.2.0",
      "_view_name": "LayoutView",
      "align_content": null,
      "align_items": null,
      "align_self": null,
      "border": null,
      "bottom": null,
      "display": null,
      "flex": null,
      "flex_flow": null,
      "grid_area": null,
      "grid_auto_columns": null,
      "grid_auto_flow": null,
      "grid_auto_rows": null,
      "grid_column": null,
      "grid_gap": null,
      "grid_row": null,
      "grid_template_areas": null,
      "grid_template_columns": null,
      "grid_template_rows": null,
      "height": null,
      "justify_content": null,
      "justify_items": null,
      "left": null,
      "margin": null,
      "max_height": null,
      "max_width": null,
      "min_height": null,
      "min_width": null,
      "object_fit": null,
      "object_position": null,
      "order": null,
      "overflow": null,
      "overflow_x": null,
      "overflow_y": null,
      "padding": null,
      "right": null,
      "top": null,
      "visibility": null,
      "width": null
     }
    },
    "e92af131082c453da216e9a0f0cdbcb9": {
     "model_module": "@jupyter-widgets/base",
     "model_module_version": "1.2.0",
     "model_name": "LayoutModel",
     "state": {
      "_model_module": "@jupyter-widgets/base",
      "_model_module_version": "1.2.0",
      "_model_name": "LayoutModel",
      "_view_count": null,
      "_view_module": "@jupyter-widgets/base",
      "_view_module_version": "1.2.0",
      "_view_name": "LayoutView",
      "align_content": null,
      "align_items": null,
      "align_self": null,
      "border": null,
      "bottom": null,
      "display": null,
      "flex": null,
      "flex_flow": null,
      "grid_area": null,
      "grid_auto_columns": null,
      "grid_auto_flow": null,
      "grid_auto_rows": null,
      "grid_column": null,
      "grid_gap": null,
      "grid_row": null,
      "grid_template_areas": null,
      "grid_template_columns": null,
      "grid_template_rows": null,
      "height": null,
      "justify_content": null,
      "justify_items": null,
      "left": null,
      "margin": null,
      "max_height": null,
      "max_width": null,
      "min_height": null,
      "min_width": null,
      "object_fit": null,
      "object_position": null,
      "order": null,
      "overflow": null,
      "overflow_x": null,
      "overflow_y": null,
      "padding": null,
      "right": null,
      "top": null,
      "visibility": null,
      "width": null
     }
    },
    "eb0e78520b4f458c975688a85ee4a499": {
     "model_module": "@jupyter-widgets/controls",
     "model_module_version": "1.5.0",
     "model_name": "DescriptionStyleModel",
     "state": {
      "_model_module": "@jupyter-widgets/controls",
      "_model_module_version": "1.5.0",
      "_model_name": "DescriptionStyleModel",
      "_view_count": null,
      "_view_module": "@jupyter-widgets/base",
      "_view_module_version": "1.2.0",
      "_view_name": "StyleView",
      "description_width": ""
     }
    },
    "ed6fa36fe3ba4668a986b24ef11e51e5": {
     "model_module": "@jupyter-widgets/controls",
     "model_module_version": "1.5.0",
     "model_name": "HBoxModel",
     "state": {
      "_dom_classes": [],
      "_model_module": "@jupyter-widgets/controls",
      "_model_module_version": "1.5.0",
      "_model_name": "HBoxModel",
      "_view_count": null,
      "_view_module": "@jupyter-widgets/controls",
      "_view_module_version": "1.5.0",
      "_view_name": "HBoxView",
      "box_style": "",
      "children": [
       "IPY_MODEL_643502449f4d4de0940e6faee9ddf5ab",
       "IPY_MODEL_77907def59d24cb192356bc6154aa269",
       "IPY_MODEL_325dde0a88864400ab24580d62b2a8d8"
      ],
      "layout": "IPY_MODEL_e2d02ed4f8284afbb421417653d943e2"
     }
    },
    "f0dd92f45a9e425ba7f72bef02b622fe": {
     "model_module": "@jupyter-widgets/controls",
     "model_module_version": "1.5.0",
     "model_name": "ProgressStyleModel",
     "state": {
      "_model_module": "@jupyter-widgets/controls",
      "_model_module_version": "1.5.0",
      "_model_name": "ProgressStyleModel",
      "_view_count": null,
      "_view_module": "@jupyter-widgets/base",
      "_view_module_version": "1.2.0",
      "_view_name": "StyleView",
      "bar_color": null,
      "description_width": ""
     }
    },
    "f1506496baba46c698253bd2765bc0da": {
     "model_module": "@jupyter-widgets/controls",
     "model_module_version": "1.5.0",
     "model_name": "HTMLModel",
     "state": {
      "_dom_classes": [],
      "_model_module": "@jupyter-widgets/controls",
      "_model_module_version": "1.5.0",
      "_model_name": "HTMLModel",
      "_view_count": null,
      "_view_module": "@jupyter-widgets/controls",
      "_view_module_version": "1.5.0",
      "_view_name": "HTMLView",
      "description": "",
      "description_tooltip": null,
      "layout": "IPY_MODEL_5f5e889294044b09a74d99d349ea4fb2",
      "placeholder": "​",
      "style": "IPY_MODEL_fb4ba31745e54822b1e3670088aaae5a",
      "value": "Map: 100%"
     }
    },
    "f1ee585c48324b5cb8dc900dd696942c": {
     "model_module": "@jupyter-widgets/base",
     "model_module_version": "1.2.0",
     "model_name": "LayoutModel",
     "state": {
      "_model_module": "@jupyter-widgets/base",
      "_model_module_version": "1.2.0",
      "_model_name": "LayoutModel",
      "_view_count": null,
      "_view_module": "@jupyter-widgets/base",
      "_view_module_version": "1.2.0",
      "_view_name": "LayoutView",
      "align_content": null,
      "align_items": null,
      "align_self": null,
      "border": null,
      "bottom": null,
      "display": null,
      "flex": null,
      "flex_flow": null,
      "grid_area": null,
      "grid_auto_columns": null,
      "grid_auto_flow": null,
      "grid_auto_rows": null,
      "grid_column": null,
      "grid_gap": null,
      "grid_row": null,
      "grid_template_areas": null,
      "grid_template_columns": null,
      "grid_template_rows": null,
      "height": null,
      "justify_content": null,
      "justify_items": null,
      "left": null,
      "margin": null,
      "max_height": null,
      "max_width": null,
      "min_height": null,
      "min_width": null,
      "object_fit": null,
      "object_position": null,
      "order": null,
      "overflow": null,
      "overflow_x": null,
      "overflow_y": null,
      "padding": null,
      "right": null,
      "top": null,
      "visibility": null,
      "width": null
     }
    },
    "f62ee1157d3a451e885289a1cfd2808f": {
     "model_module": "@jupyter-widgets/controls",
     "model_module_version": "1.5.0",
     "model_name": "HTMLModel",
     "state": {
      "_dom_classes": [],
      "_model_module": "@jupyter-widgets/controls",
      "_model_module_version": "1.5.0",
      "_model_name": "HTMLModel",
      "_view_count": null,
      "_view_module": "@jupyter-widgets/controls",
      "_view_module_version": "1.5.0",
      "_view_name": "HTMLView",
      "description": "",
      "description_tooltip": null,
      "layout": "IPY_MODEL_d8150c5943eb47b599fffe6e54a3f5cf",
      "placeholder": "​",
      "style": "IPY_MODEL_f681a994ad9e434ca201237c0ba867f8",
      "value": "Generating test split: 100%"
     }
    },
    "f681a994ad9e434ca201237c0ba867f8": {
     "model_module": "@jupyter-widgets/controls",
     "model_module_version": "1.5.0",
     "model_name": "DescriptionStyleModel",
     "state": {
      "_model_module": "@jupyter-widgets/controls",
      "_model_module_version": "1.5.0",
      "_model_name": "DescriptionStyleModel",
      "_view_count": null,
      "_view_module": "@jupyter-widgets/base",
      "_view_module_version": "1.2.0",
      "_view_name": "StyleView",
      "description_width": ""
     }
    },
    "f8e3bdd6b8ef4d3eaa63a94b75349811": {
     "model_module": "@jupyter-widgets/controls",
     "model_module_version": "1.5.0",
     "model_name": "ProgressStyleModel",
     "state": {
      "_model_module": "@jupyter-widgets/controls",
      "_model_module_version": "1.5.0",
      "_model_name": "ProgressStyleModel",
      "_view_count": null,
      "_view_module": "@jupyter-widgets/base",
      "_view_module_version": "1.2.0",
      "_view_name": "StyleView",
      "bar_color": null,
      "description_width": ""
     }
    },
    "f919ba53d4394d4797da7b207a982889": {
     "model_module": "@jupyter-widgets/controls",
     "model_module_version": "1.5.0",
     "model_name": "HBoxModel",
     "state": {
      "_dom_classes": [],
      "_model_module": "@jupyter-widgets/controls",
      "_model_module_version": "1.5.0",
      "_model_name": "HBoxModel",
      "_view_count": null,
      "_view_module": "@jupyter-widgets/controls",
      "_view_module_version": "1.5.0",
      "_view_name": "HBoxView",
      "box_style": "",
      "children": [
       "IPY_MODEL_7860dee2eb3a4c33a4d9e517666d76fc",
       "IPY_MODEL_82f406fc6d8245e7a9e8d1ec1feab87c",
       "IPY_MODEL_e669cfd80b3d42c0883817b7ea022ad0"
      ],
      "layout": "IPY_MODEL_d4d46352fcaa4f23a15a30a3e3fd523b"
     }
    },
    "f92d0c1729c946458bfad7e11001aad5": {
     "model_module": "@jupyter-widgets/controls",
     "model_module_version": "1.5.0",
     "model_name": "ProgressStyleModel",
     "state": {
      "_model_module": "@jupyter-widgets/controls",
      "_model_module_version": "1.5.0",
      "_model_name": "ProgressStyleModel",
      "_view_count": null,
      "_view_module": "@jupyter-widgets/base",
      "_view_module_version": "1.2.0",
      "_view_name": "StyleView",
      "bar_color": null,
      "description_width": ""
     }
    },
    "f98ad877cd794678b32bcd3c2f9939f9": {
     "model_module": "@jupyter-widgets/controls",
     "model_module_version": "1.5.0",
     "model_name": "HTMLModel",
     "state": {
      "_dom_classes": [],
      "_model_module": "@jupyter-widgets/controls",
      "_model_module_version": "1.5.0",
      "_model_name": "HTMLModel",
      "_view_count": null,
      "_view_module": "@jupyter-widgets/controls",
      "_view_module_version": "1.5.0",
      "_view_name": "HTMLView",
      "description": "",
      "description_tooltip": null,
      "layout": "IPY_MODEL_b300c1577f6f493e8e1ef216dca9d9f9",
      "placeholder": "​",
      "style": "IPY_MODEL_dfdadecafa5b4648b683dcf139f5b29e",
      "value": "Downloading data: 100%"
     }
    },
    "fb4ba31745e54822b1e3670088aaae5a": {
     "model_module": "@jupyter-widgets/controls",
     "model_module_version": "1.5.0",
     "model_name": "DescriptionStyleModel",
     "state": {
      "_model_module": "@jupyter-widgets/controls",
      "_model_module_version": "1.5.0",
      "_model_name": "DescriptionStyleModel",
      "_view_count": null,
      "_view_module": "@jupyter-widgets/base",
      "_view_module_version": "1.2.0",
      "_view_name": "StyleView",
      "description_width": ""
     }
    },
    "fcfbc7c1488a42678cec39473ab6ee01": {
     "model_module": "@jupyter-widgets/base",
     "model_module_version": "1.2.0",
     "model_name": "LayoutModel",
     "state": {
      "_model_module": "@jupyter-widgets/base",
      "_model_module_version": "1.2.0",
      "_model_name": "LayoutModel",
      "_view_count": null,
      "_view_module": "@jupyter-widgets/base",
      "_view_module_version": "1.2.0",
      "_view_name": "LayoutView",
      "align_content": null,
      "align_items": null,
      "align_self": null,
      "border": null,
      "bottom": null,
      "display": null,
      "flex": null,
      "flex_flow": null,
      "grid_area": null,
      "grid_auto_columns": null,
      "grid_auto_flow": null,
      "grid_auto_rows": null,
      "grid_column": null,
      "grid_gap": null,
      "grid_row": null,
      "grid_template_areas": null,
      "grid_template_columns": null,
      "grid_template_rows": null,
      "height": null,
      "justify_content": null,
      "justify_items": null,
      "left": null,
      "margin": null,
      "max_height": null,
      "max_width": null,
      "min_height": null,
      "min_width": null,
      "object_fit": null,
      "object_position": null,
      "order": null,
      "overflow": null,
      "overflow_x": null,
      "overflow_y": null,
      "padding": null,
      "right": null,
      "top": null,
      "visibility": null,
      "width": null
     }
    }
   }
  }
 },
 "nbformat": 4,
 "nbformat_minor": 4
}
